{
 "cells": [
  {
   "cell_type": "markdown",
   "metadata": {
    "slideshow": {
     "slide_type": "skip"
    }
   },
   "source": [
    "<a href=\"https://colab.research.google.com/github/afeld/python-public-policy/blob/main/pandas_crash_course.ipynb\" target=\"_parent\"><img src=\"https://colab.research.google.com/assets/colab-badge.svg\" alt=\"Open In Colab\"/></a>"
   ]
  },
  {
   "cell_type": "markdown",
   "metadata": {
    "slideshow": {
     "slide_type": "slide"
    }
   },
   "source": [
    "# Data Analysis in Python\n",
    "\n",
    "_pandas, specifically._\n",
    "\n",
    "Aidan Feldman"
   ]
  },
  {
   "cell_type": "markdown",
   "metadata": {
    "slideshow": {
     "slide_type": "slide"
    }
   },
   "source": [
    "## Stuff to know up front\n",
    "\n",
    "- Pulled from [a Python for Public Policy class](https://github.com/afeld/nyu-python-public-policy/blob/master/syllabus.md#readme) I teach\n",
    "- Going to go _very fast_. Stop me with any questions.\n",
    "- Goal is not for you to totally get what's going on; goal is to whet your appetite 🐼 🐍"
   ]
  },
  {
   "cell_type": "markdown",
   "metadata": {
    "slideshow": {
     "slide_type": "slide"
    }
   },
   "source": [
    "## Terminology\n",
    "\n",
    "Thing | What is it?\n",
    "--- | ---\n",
    "Python | programming language\n",
    "package | add-on/plugin for Python\n",
    "pandas | package for data analysis\n",
    "plotly | package for data visualization\n",
    "Jupyter | programming environment; supports Markdown + code + HTML output; can run Python and [tons of other languages](https://github.com/jupyter/jupyter/wiki/Jupyter-kernels)\n",
    "notebook | individual Jupyter files; think Markdown file where you can execute the code snippets\n",
    "Google Colaboratory (\"Colab\") | cloud-based Jupyter\n",
    "Markdown | markup language; think \"simple HTML\""
   ]
  },
  {
   "cell_type": "markdown",
   "metadata": {
    "slideshow": {
     "slide_type": "fragment"
    }
   },
   "source": [
    "- Jupyter notebooks are magical. This presentation is a notebook.\n",
    "- You can use pandas anywhere you can run Python, but Jupyter makes things easier."
   ]
  },
  {
   "cell_type": "markdown",
   "metadata": {
    "slideshow": {
     "slide_type": "subslide"
    }
   },
   "source": [
    "### Command line vs. Jupyter\n",
    "\n",
    "![Command line vs. Jupyter output](img/cli_vs_jupyter.png)"
   ]
  },
  {
   "cell_type": "markdown",
   "metadata": {
    "slideshow": {
     "slide_type": "slide"
    }
   },
   "source": [
    "## Spreadsheets vs. pandas"
   ]
  },
  {
   "cell_type": "markdown",
   "metadata": {
    "slideshow": {
     "slide_type": "subslide"
    }
   },
   "source": [
    "### Why spreadsheets\n",
    "\n",
    "- The easy stuff is easy\n",
    "- Lots of people know how to use them\n",
    "- Mostly just have to point, click, and scroll\n",
    "- Data and logic live together as one"
   ]
  },
  {
   "cell_type": "markdown",
   "metadata": {
    "slideshow": {
     "slide_type": "subslide"
    }
   },
   "source": [
    "### Why pandas\n",
    "\n",
    "- Data and logic _don't_ live together\n",
    "- More powerful, flexible, and expressive than spreadsheet formulas\n",
    "\n",
    "  - Don't have to cram into a single line\n",
    "\n",
    "    ```excel\n",
    "    =SUM(INDEX(C3:E9,MATCH(B13,C3:C9,0),MATCH(B14,C3:E3,0)))\n",
    "    ```\n",
    "\n",
    "  - Can have more descriptive data references than `Sheet1!A:A`"
   ]
  },
  {
   "cell_type": "markdown",
   "metadata": {
    "slideshow": {
     "slide_type": "subslide"
    }
   },
   "source": [
    "### Side-by-side\\*\n",
    "\n",
    "|                       Task |  Spreadsheets  | pandas |\n",
    "| -------------------------: | :------------: | :----: |\n",
    "|           **Loading data** |      Easy      | Medium |\n",
    "|           **Viewing data** |      Easy      | Medium |\n",
    "|         **Filtering data** |      Easy      | Medium |\n",
    "|      **Manipulating data** |     Medium     | Medium |\n",
    "|           **Joining data** |      Hard      | Medium |\n",
    "| **Complicated transforms** | Impossible\\*\\* | Medium |\n",
    "|             **Automation** | Impossible\\*\\* | Medium |\n",
    "|        **Making reusable** | Impossible\\*\\* | Medium |\n",
    "|         **Large datasets** |   Impossible\\*\\*\\*   |  Hard  |\n",
    "\n",
    "_\\*Ratings are obviously somewhat subjective._\n",
    "\n",
    "_\\*\\*Not including scripting._\n",
    "\n",
    "_\\*\\*\\*Google Sheets and Excel have hard limits at 1-5 million rows, but get slow long before that._"
   ]
  },
  {
   "cell_type": "markdown",
   "metadata": {
    "slideshow": {
     "slide_type": "slide"
    }
   },
   "source": [
    "### Try it!\n",
    "\n",
    "1. Create a Colab notebook\n",
    "   1. Go to [colab.research.google.com](https://colab.research.google.com)\n",
    "   1. Click `NEW NOTEBOOK`\n",
    "1. Paste in [the following example](https://plotly.com/python/linear-fits/#linear-fit-trendlines-with-plotly-express):\n",
    "\n",
    "    ```python\n",
    "    import plotly.express as px\n",
    "\n",
    "    df = px.data.tips()\n",
    "    fig = px.scatter(df, x=\"total_bill\", y=\"tip\", trendline=\"ols\")\n",
    "    fig.show()\n",
    "    ```\n",
    "\n",
    "1. Press the ▶️ button"
   ]
  },
  {
   "cell_type": "markdown",
   "metadata": {
    "slideshow": {
     "slide_type": "subslide"
    }
   },
   "source": [
    "### Jupyter basics\n",
    "\n",
    "- You \"run\" a cell by either:\n",
    "    - Pressing the ▶️ button\n",
    "    - Pressing `⌘`+`Enter` (Mac) or `Control`+`Enter` (Windows) on your keyboard\n",
    "- Cells don't run unless you tell them to, in the order you do so\n",
    "    - Generally, you want to do so from the top every time you open a notebook"
   ]
  },
  {
   "cell_type": "markdown",
   "metadata": {
    "slideshow": {
     "slide_type": "fragment"
    }
   },
   "source": [
    "#### Output\n",
    "\n",
    "- The last thing in a code cell is what gets displayed when it's run\n",
    "- Just because there's existing output from a cell, doesn't mean that cell has been run during this session"
   ]
  },
  {
   "cell_type": "markdown",
   "metadata": {
    "slideshow": {
     "slide_type": "subslide"
    }
   },
   "source": [
    "## NOTEBOOKS HAVE STATE.\n",
    "\n",
    "This trips people up frequently."
   ]
  },
  {
   "cell_type": "markdown",
   "metadata": {
    "slideshow": {
     "slide_type": "slide"
    }
   },
   "source": [
    "## Population counts in NYC Community Districts\n",
    "\n",
    "- Lets do some data munging.\n",
    "- Community Districts are basically neighborhoods.\n",
    "- We'll use [this data for population by Community District](https://data.cityofnewyork.us/City-Government/New-York-City-Population-By-Community-Districts/xi7c-iiu2/data)."
   ]
  },
  {
   "cell_type": "markdown",
   "metadata": {
    "slideshow": {
     "slide_type": "subslide"
    }
   },
   "source": [
    "Load pandas."
   ]
  },
  {
   "cell_type": "code",
   "execution_count": 1,
   "metadata": {},
   "outputs": [],
   "source": [
    "import pandas as pd"
   ]
  },
  {
   "cell_type": "markdown",
   "metadata": {
    "slideshow": {
     "slide_type": "-"
    }
   },
   "source": [
    "Load data."
   ]
  },
  {
   "cell_type": "code",
   "execution_count": 4,
   "metadata": {},
   "outputs": [
    {
     "data": {
      "text/html": [
       "<div>\n",
       "<style scoped>\n",
       "    .dataframe tbody tr th:only-of-type {\n",
       "        vertical-align: middle;\n",
       "    }\n",
       "\n",
       "    .dataframe tbody tr th {\n",
       "        vertical-align: top;\n",
       "    }\n",
       "\n",
       "    .dataframe thead th {\n",
       "        text-align: right;\n",
       "    }\n",
       "</style>\n",
       "<table border=\"1\" class=\"dataframe\">\n",
       "  <thead>\n",
       "    <tr style=\"text-align: right;\">\n",
       "      <th></th>\n",
       "      <th>Borough</th>\n",
       "      <th>CD Number</th>\n",
       "      <th>CD Name</th>\n",
       "      <th>1970 Population</th>\n",
       "      <th>1980 Population</th>\n",
       "      <th>1990 Population</th>\n",
       "      <th>2000 Population</th>\n",
       "      <th>2010 Population</th>\n",
       "    </tr>\n",
       "  </thead>\n",
       "  <tbody>\n",
       "    <tr>\n",
       "      <th>0</th>\n",
       "      <td>Bronx</td>\n",
       "      <td>1</td>\n",
       "      <td>Melrose, Mott Haven, Port Morris</td>\n",
       "      <td>138557</td>\n",
       "      <td>78441</td>\n",
       "      <td>77214</td>\n",
       "      <td>82159</td>\n",
       "      <td>91497</td>\n",
       "    </tr>\n",
       "    <tr>\n",
       "      <th>1</th>\n",
       "      <td>Bronx</td>\n",
       "      <td>2</td>\n",
       "      <td>Hunts Point, Longwood</td>\n",
       "      <td>99493</td>\n",
       "      <td>34399</td>\n",
       "      <td>39443</td>\n",
       "      <td>46824</td>\n",
       "      <td>52246</td>\n",
       "    </tr>\n",
       "    <tr>\n",
       "      <th>2</th>\n",
       "      <td>Bronx</td>\n",
       "      <td>3</td>\n",
       "      <td>Morrisania, Crotona Park East</td>\n",
       "      <td>150636</td>\n",
       "      <td>53635</td>\n",
       "      <td>57162</td>\n",
       "      <td>68574</td>\n",
       "      <td>79762</td>\n",
       "    </tr>\n",
       "    <tr>\n",
       "      <th>3</th>\n",
       "      <td>Bronx</td>\n",
       "      <td>4</td>\n",
       "      <td>Highbridge, Concourse Village</td>\n",
       "      <td>144207</td>\n",
       "      <td>114312</td>\n",
       "      <td>119962</td>\n",
       "      <td>139563</td>\n",
       "      <td>146441</td>\n",
       "    </tr>\n",
       "    <tr>\n",
       "      <th>4</th>\n",
       "      <td>Bronx</td>\n",
       "      <td>5</td>\n",
       "      <td>University Hts., Fordham, Mt. Hope</td>\n",
       "      <td>121807</td>\n",
       "      <td>107995</td>\n",
       "      <td>118435</td>\n",
       "      <td>128313</td>\n",
       "      <td>128200</td>\n",
       "    </tr>\n",
       "    <tr>\n",
       "      <th>5</th>\n",
       "      <td>Bronx</td>\n",
       "      <td>6</td>\n",
       "      <td>East Tremont, Belmont</td>\n",
       "      <td>114137</td>\n",
       "      <td>65016</td>\n",
       "      <td>68061</td>\n",
       "      <td>75688</td>\n",
       "      <td>83268</td>\n",
       "    </tr>\n",
       "    <tr>\n",
       "      <th>6</th>\n",
       "      <td>Bronx</td>\n",
       "      <td>7</td>\n",
       "      <td>Bedford Park, Norwood, Fordham</td>\n",
       "      <td>113764</td>\n",
       "      <td>116827</td>\n",
       "      <td>128588</td>\n",
       "      <td>141411</td>\n",
       "      <td>139286</td>\n",
       "    </tr>\n",
       "    <tr>\n",
       "      <th>7</th>\n",
       "      <td>Bronx</td>\n",
       "      <td>8</td>\n",
       "      <td>Riverdale, Kingsbridge, Marble Hill</td>\n",
       "      <td>103543</td>\n",
       "      <td>98275</td>\n",
       "      <td>97030</td>\n",
       "      <td>101332</td>\n",
       "      <td>101731</td>\n",
       "    </tr>\n",
       "    <tr>\n",
       "      <th>8</th>\n",
       "      <td>Bronx</td>\n",
       "      <td>9</td>\n",
       "      <td>Soundview, Parkchester</td>\n",
       "      <td>166442</td>\n",
       "      <td>167627</td>\n",
       "      <td>155970</td>\n",
       "      <td>167859</td>\n",
       "      <td>172298</td>\n",
       "    </tr>\n",
       "    <tr>\n",
       "      <th>9</th>\n",
       "      <td>Bronx</td>\n",
       "      <td>10</td>\n",
       "      <td>Throgs Nk., Co-op City, Pelham Bay</td>\n",
       "      <td>84948</td>\n",
       "      <td>106516</td>\n",
       "      <td>108093</td>\n",
       "      <td>115948</td>\n",
       "      <td>120392</td>\n",
       "    </tr>\n",
       "  </tbody>\n",
       "</table>\n",
       "</div>"
      ],
      "text/plain": [
       "  Borough  CD Number                              CD Name  1970 Population  \\\n",
       "0   Bronx          1     Melrose, Mott Haven, Port Morris           138557   \n",
       "1   Bronx          2                Hunts Point, Longwood            99493   \n",
       "2   Bronx          3        Morrisania, Crotona Park East           150636   \n",
       "3   Bronx          4        Highbridge, Concourse Village           144207   \n",
       "4   Bronx          5   University Hts., Fordham, Mt. Hope           121807   \n",
       "5   Bronx          6                East Tremont, Belmont           114137   \n",
       "6   Bronx          7       Bedford Park, Norwood, Fordham           113764   \n",
       "7   Bronx          8  Riverdale, Kingsbridge, Marble Hill           103543   \n",
       "8   Bronx          9               Soundview, Parkchester           166442   \n",
       "9   Bronx         10   Throgs Nk., Co-op City, Pelham Bay            84948   \n",
       "\n",
       "   1980 Population  1990 Population  2000 Population  2010 Population  \n",
       "0            78441            77214            82159            91497  \n",
       "1            34399            39443            46824            52246  \n",
       "2            53635            57162            68574            79762  \n",
       "3           114312           119962           139563           146441  \n",
       "4           107995           118435           128313           128200  \n",
       "5            65016            68061            75688            83268  \n",
       "6           116827           128588           141411           139286  \n",
       "7            98275            97030           101332           101731  \n",
       "8           167627           155970           167859           172298  \n",
       "9           106516           108093           115948           120392  "
      ]
     },
     "execution_count": 4,
     "metadata": {},
     "output_type": "execute_result"
    }
   ],
   "source": [
    "df = pd.read_csv('https://data.cityofnewyork.us/api/views/xi7c-iiu2/rows.csv')\n",
    "df.head(10)"
   ]
  },
  {
   "cell_type": "markdown",
   "metadata": {
    "slideshow": {
     "slide_type": "subslide"
    }
   },
   "source": [
    "What are the largest Community Districts?"
   ]
  },
  {
   "cell_type": "code",
   "execution_count": 9,
   "metadata": {},
   "outputs": [
    {
     "data": {
      "text/html": [
       "<div>\n",
       "<style scoped>\n",
       "    .dataframe tbody tr th:only-of-type {\n",
       "        vertical-align: middle;\n",
       "    }\n",
       "\n",
       "    .dataframe tbody tr th {\n",
       "        vertical-align: top;\n",
       "    }\n",
       "\n",
       "    .dataframe thead th {\n",
       "        text-align: right;\n",
       "    }\n",
       "</style>\n",
       "<table border=\"1\" class=\"dataframe\">\n",
       "  <thead>\n",
       "    <tr style=\"text-align: right;\">\n",
       "      <th></th>\n",
       "      <th>Borough</th>\n",
       "      <th>CD Number</th>\n",
       "      <th>CD Name</th>\n",
       "      <th>1970 Population</th>\n",
       "      <th>1980 Population</th>\n",
       "      <th>1990 Population</th>\n",
       "      <th>2000 Population</th>\n",
       "      <th>2010 Population</th>\n",
       "    </tr>\n",
       "  </thead>\n",
       "  <tbody>\n",
       "    <tr>\n",
       "      <th>48</th>\n",
       "      <td>Queens</td>\n",
       "      <td>7</td>\n",
       "      <td>Flushing, Bay Terrace</td>\n",
       "      <td>207589</td>\n",
       "      <td>204785</td>\n",
       "      <td>220508</td>\n",
       "      <td>242952</td>\n",
       "      <td>247354</td>\n",
       "    </tr>\n",
       "    <tr>\n",
       "      <th>53</th>\n",
       "      <td>Queens</td>\n",
       "      <td>12</td>\n",
       "      <td>Jamaica, St. Albans, Hollis</td>\n",
       "      <td>206639</td>\n",
       "      <td>189383</td>\n",
       "      <td>201293</td>\n",
       "      <td>223602</td>\n",
       "      <td>225919</td>\n",
       "    </tr>\n",
       "    <tr>\n",
       "      <th>37</th>\n",
       "      <td>Manhattan</td>\n",
       "      <td>8</td>\n",
       "      <td>Upper East Side</td>\n",
       "      <td>200851</td>\n",
       "      <td>204305</td>\n",
       "      <td>210880</td>\n",
       "      <td>217063</td>\n",
       "      <td>219920</td>\n",
       "    </tr>\n",
       "  </tbody>\n",
       "</table>\n",
       "</div>"
      ],
      "text/plain": [
       "      Borough  CD Number                      CD Name  1970 Population  \\\n",
       "48     Queens          7        Flushing, Bay Terrace           207589   \n",
       "53     Queens         12  Jamaica, St. Albans, Hollis           206639   \n",
       "37  Manhattan          8              Upper East Side           200851   \n",
       "\n",
       "    1980 Population  1990 Population  2000 Population  2010 Population  \n",
       "48           204785           220508           242952           247354  \n",
       "53           189383           201293           223602           225919  \n",
       "37           204305           210880           217063           219920  "
      ]
     },
     "execution_count": 9,
     "metadata": {},
     "output_type": "execute_result"
    }
   ],
   "source": [
    "df.sort_values('2010 Population', ascending=False).head(3)"
   ]
  },
  {
   "cell_type": "markdown",
   "metadata": {
    "slideshow": {
     "slide_type": "subslide"
    }
   },
   "source": [
    "What are the populations per borough?"
   ]
  },
  {
   "cell_type": "code",
   "execution_count": 16,
   "metadata": {},
   "outputs": [
    {
     "data": {
      "text/html": [
       "<div>\n",
       "<style scoped>\n",
       "    .dataframe tbody tr th:only-of-type {\n",
       "        vertical-align: middle;\n",
       "    }\n",
       "\n",
       "    .dataframe tbody tr th {\n",
       "        vertical-align: top;\n",
       "    }\n",
       "\n",
       "    .dataframe thead th {\n",
       "        text-align: right;\n",
       "    }\n",
       "</style>\n",
       "<table border=\"1\" class=\"dataframe\">\n",
       "  <thead>\n",
       "    <tr style=\"text-align: right;\">\n",
       "      <th></th>\n",
       "      <th>CD Number</th>\n",
       "      <th>1970 Population</th>\n",
       "      <th>1980 Population</th>\n",
       "      <th>1990 Population</th>\n",
       "      <th>2000 Population</th>\n",
       "      <th>2010 Population</th>\n",
       "    </tr>\n",
       "    <tr>\n",
       "      <th>Borough</th>\n",
       "      <th></th>\n",
       "      <th></th>\n",
       "      <th></th>\n",
       "      <th></th>\n",
       "      <th></th>\n",
       "      <th></th>\n",
       "    </tr>\n",
       "  </thead>\n",
       "  <tbody>\n",
       "    <tr>\n",
       "      <th>Bronx</th>\n",
       "      <td>78</td>\n",
       "      <td>1478524</td>\n",
       "      <td>1170349</td>\n",
       "      <td>1197420</td>\n",
       "      <td>1327454</td>\n",
       "      <td>1380697</td>\n",
       "    </tr>\n",
       "    <tr>\n",
       "      <th>Brooklyn</th>\n",
       "      <td>171</td>\n",
       "      <td>2601668</td>\n",
       "      <td>2230849</td>\n",
       "      <td>2300650</td>\n",
       "      <td>2465299</td>\n",
       "      <td>2504609</td>\n",
       "    </tr>\n",
       "    <tr>\n",
       "      <th>Manhattan</th>\n",
       "      <td>78</td>\n",
       "      <td>1532399</td>\n",
       "      <td>1421260</td>\n",
       "      <td>1479844</td>\n",
       "      <td>1529357</td>\n",
       "      <td>1577385</td>\n",
       "    </tr>\n",
       "    <tr>\n",
       "      <th>Queens</th>\n",
       "      <td>105</td>\n",
       "      <td>1985995</td>\n",
       "      <td>1896401</td>\n",
       "      <td>1965471</td>\n",
       "      <td>2240510</td>\n",
       "      <td>2241021</td>\n",
       "    </tr>\n",
       "    <tr>\n",
       "      <th>Staten Island</th>\n",
       "      <td>6</td>\n",
       "      <td>294675</td>\n",
       "      <td>351866</td>\n",
       "      <td>378706</td>\n",
       "      <td>442588</td>\n",
       "      <td>467968</td>\n",
       "    </tr>\n",
       "  </tbody>\n",
       "</table>\n",
       "</div>"
      ],
      "text/plain": [
       "               CD Number  1970 Population  1980 Population  1990 Population  \\\n",
       "Borough                                                                       \n",
       "Bronx                 78          1478524          1170349          1197420   \n",
       "Brooklyn             171          2601668          2230849          2300650   \n",
       "Manhattan             78          1532399          1421260          1479844   \n",
       "Queens               105          1985995          1896401          1965471   \n",
       "Staten Island          6           294675           351866           378706   \n",
       "\n",
       "               2000 Population  2010 Population  \n",
       "Borough                                          \n",
       "Bronx                  1327454          1380697  \n",
       "Brooklyn               2465299          2504609  \n",
       "Manhattan              1529357          1577385  \n",
       "Queens                 2240510          2241021  \n",
       "Staten Island           442588           467968  "
      ]
     },
     "execution_count": 16,
     "metadata": {},
     "output_type": "execute_result"
    }
   ],
   "source": [
    "pop_by_borough = df.groupby('Borough').sum()\n",
    "pop_by_borough"
   ]
  },
  {
   "cell_type": "markdown",
   "metadata": {
    "slideshow": {
     "slide_type": "fragment"
    }
   },
   "source": [
    "It summed all numeric columns, but the `CD Number` doesn't make sense in there. Let's remove."
   ]
  },
  {
   "cell_type": "code",
   "execution_count": 17,
   "metadata": {},
   "outputs": [
    {
     "data": {
      "text/html": [
       "<div>\n",
       "<style scoped>\n",
       "    .dataframe tbody tr th:only-of-type {\n",
       "        vertical-align: middle;\n",
       "    }\n",
       "\n",
       "    .dataframe tbody tr th {\n",
       "        vertical-align: top;\n",
       "    }\n",
       "\n",
       "    .dataframe thead th {\n",
       "        text-align: right;\n",
       "    }\n",
       "</style>\n",
       "<table border=\"1\" class=\"dataframe\">\n",
       "  <thead>\n",
       "    <tr style=\"text-align: right;\">\n",
       "      <th></th>\n",
       "      <th>1970 Population</th>\n",
       "      <th>1980 Population</th>\n",
       "      <th>1990 Population</th>\n",
       "      <th>2000 Population</th>\n",
       "      <th>2010 Population</th>\n",
       "    </tr>\n",
       "    <tr>\n",
       "      <th>Borough</th>\n",
       "      <th></th>\n",
       "      <th></th>\n",
       "      <th></th>\n",
       "      <th></th>\n",
       "      <th></th>\n",
       "    </tr>\n",
       "  </thead>\n",
       "  <tbody>\n",
       "    <tr>\n",
       "      <th>Bronx</th>\n",
       "      <td>1478524</td>\n",
       "      <td>1170349</td>\n",
       "      <td>1197420</td>\n",
       "      <td>1327454</td>\n",
       "      <td>1380697</td>\n",
       "    </tr>\n",
       "    <tr>\n",
       "      <th>Brooklyn</th>\n",
       "      <td>2601668</td>\n",
       "      <td>2230849</td>\n",
       "      <td>2300650</td>\n",
       "      <td>2465299</td>\n",
       "      <td>2504609</td>\n",
       "    </tr>\n",
       "    <tr>\n",
       "      <th>Manhattan</th>\n",
       "      <td>1532399</td>\n",
       "      <td>1421260</td>\n",
       "      <td>1479844</td>\n",
       "      <td>1529357</td>\n",
       "      <td>1577385</td>\n",
       "    </tr>\n",
       "    <tr>\n",
       "      <th>Queens</th>\n",
       "      <td>1985995</td>\n",
       "      <td>1896401</td>\n",
       "      <td>1965471</td>\n",
       "      <td>2240510</td>\n",
       "      <td>2241021</td>\n",
       "    </tr>\n",
       "    <tr>\n",
       "      <th>Staten Island</th>\n",
       "      <td>294675</td>\n",
       "      <td>351866</td>\n",
       "      <td>378706</td>\n",
       "      <td>442588</td>\n",
       "      <td>467968</td>\n",
       "    </tr>\n",
       "  </tbody>\n",
       "</table>\n",
       "</div>"
      ],
      "text/plain": [
       "               1970 Population  1980 Population  1990 Population  \\\n",
       "Borough                                                            \n",
       "Bronx                  1478524          1170349          1197420   \n",
       "Brooklyn               2601668          2230849          2300650   \n",
       "Manhattan              1532399          1421260          1479844   \n",
       "Queens                 1985995          1896401          1965471   \n",
       "Staten Island           294675           351866           378706   \n",
       "\n",
       "               2000 Population  2010 Population  \n",
       "Borough                                          \n",
       "Bronx                  1327454          1380697  \n",
       "Brooklyn               2465299          2504609  \n",
       "Manhattan              1529357          1577385  \n",
       "Queens                 2240510          2241021  \n",
       "Staten Island           442588           467968  "
      ]
     },
     "execution_count": 17,
     "metadata": {},
     "output_type": "execute_result"
    }
   ],
   "source": [
    "pop_by_borough.drop(['CD Number'], axis=1, inplace=True)\n",
    "pop_by_borough"
   ]
  },
  {
   "cell_type": "markdown",
   "metadata": {
    "slideshow": {
     "slide_type": "subslide"
    }
   },
   "source": [
    "How have the populations changed?"
   ]
  },
  {
   "cell_type": "code",
   "execution_count": 18,
   "metadata": {},
   "outputs": [
    {
     "data": {
      "text/html": [
       "<div>\n",
       "<style scoped>\n",
       "    .dataframe tbody tr th:only-of-type {\n",
       "        vertical-align: middle;\n",
       "    }\n",
       "\n",
       "    .dataframe tbody tr th {\n",
       "        vertical-align: top;\n",
       "    }\n",
       "\n",
       "    .dataframe thead th {\n",
       "        text-align: right;\n",
       "    }\n",
       "</style>\n",
       "<table border=\"1\" class=\"dataframe\">\n",
       "  <thead>\n",
       "    <tr style=\"text-align: right;\">\n",
       "      <th></th>\n",
       "      <th>1970 Population</th>\n",
       "      <th>1980 Population</th>\n",
       "      <th>1990 Population</th>\n",
       "      <th>2000 Population</th>\n",
       "      <th>2010 Population</th>\n",
       "    </tr>\n",
       "    <tr>\n",
       "      <th>Borough</th>\n",
       "      <th></th>\n",
       "      <th></th>\n",
       "      <th></th>\n",
       "      <th></th>\n",
       "      <th></th>\n",
       "    </tr>\n",
       "  </thead>\n",
       "  <tbody>\n",
       "    <tr>\n",
       "      <th>Bronx</th>\n",
       "      <td>NaN</td>\n",
       "      <td>-0.208434</td>\n",
       "      <td>0.023131</td>\n",
       "      <td>0.108595</td>\n",
       "      <td>0.040109</td>\n",
       "    </tr>\n",
       "    <tr>\n",
       "      <th>Brooklyn</th>\n",
       "      <td>NaN</td>\n",
       "      <td>-0.142531</td>\n",
       "      <td>0.031289</td>\n",
       "      <td>0.071566</td>\n",
       "      <td>0.015945</td>\n",
       "    </tr>\n",
       "    <tr>\n",
       "      <th>Manhattan</th>\n",
       "      <td>NaN</td>\n",
       "      <td>-0.072526</td>\n",
       "      <td>0.041220</td>\n",
       "      <td>0.033458</td>\n",
       "      <td>0.031404</td>\n",
       "    </tr>\n",
       "    <tr>\n",
       "      <th>Queens</th>\n",
       "      <td>NaN</td>\n",
       "      <td>-0.045113</td>\n",
       "      <td>0.036422</td>\n",
       "      <td>0.139935</td>\n",
       "      <td>0.000228</td>\n",
       "    </tr>\n",
       "    <tr>\n",
       "      <th>Staten Island</th>\n",
       "      <td>NaN</td>\n",
       "      <td>0.194082</td>\n",
       "      <td>0.076279</td>\n",
       "      <td>0.168685</td>\n",
       "      <td>0.057345</td>\n",
       "    </tr>\n",
       "  </tbody>\n",
       "</table>\n",
       "</div>"
      ],
      "text/plain": [
       "               1970 Population  1980 Population  1990 Population  \\\n",
       "Borough                                                            \n",
       "Bronx                      NaN        -0.208434         0.023131   \n",
       "Brooklyn                   NaN        -0.142531         0.031289   \n",
       "Manhattan                  NaN        -0.072526         0.041220   \n",
       "Queens                     NaN        -0.045113         0.036422   \n",
       "Staten Island              NaN         0.194082         0.076279   \n",
       "\n",
       "               2000 Population  2010 Population  \n",
       "Borough                                          \n",
       "Bronx                 0.108595         0.040109  \n",
       "Brooklyn              0.071566         0.015945  \n",
       "Manhattan             0.033458         0.031404  \n",
       "Queens                0.139935         0.000228  \n",
       "Staten Island         0.168685         0.057345  "
      ]
     },
     "execution_count": 18,
     "metadata": {},
     "output_type": "execute_result"
    }
   ],
   "source": [
    "pop_by_borough.pct_change(axis='columns')"
   ]
  }
 ],
 "metadata": {
  "celltoolbar": "Slideshow",
  "file_extension": ".py",
  "kernelspec": {
   "display_name": "Python 3",
   "language": "python",
   "name": "python3"
  },
  "language_info": {
   "codemirror_mode": {
    "name": "ipython",
    "version": 3
   },
   "file_extension": ".py",
   "mimetype": "text/x-python",
   "name": "python",
   "nbconvert_exporter": "python",
   "pygments_lexer": "ipython3",
   "version": "3.8.0"
  },
  "mimetype": "text/x-python",
  "name": "python",
  "npconvert_exporter": "python",
  "pygments_lexer": "ipython3",
  "version": 3
 },
 "nbformat": 4,
 "nbformat_minor": 4
}
