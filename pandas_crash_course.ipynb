{
 "cells": [
  {
   "cell_type": "markdown",
   "metadata": {
    "slideshow": {
     "slide_type": "skip"
    }
   },
   "source": [
    "<a href=\"https://colab.research.google.com/github/afeld/python-public-policy/blob/main/pandas_crash_course.ipynb\" target=\"_parent\"><img src=\"https://colab.research.google.com/assets/colab-badge.svg\" alt=\"Open In Colab\"/></a>"
   ]
  },
  {
   "cell_type": "markdown",
   "metadata": {
    "slideshow": {
     "slide_type": "slide"
    }
   },
   "source": [
    "# Data Analysis in Python\n",
    "\n",
    "_pandas, specifically._\n",
    "\n",
    "Aidan Feldman"
   ]
  },
  {
   "cell_type": "markdown",
   "metadata": {
    "slideshow": {
     "slide_type": "slide"
    }
   },
   "source": [
    "Pulled from [a Python for Public Policy class](https://github.com/afeld/nyu-python-public-policy/blob/master/syllabus.md#readme) I teach"
   ]
  },
  {
   "cell_type": "markdown",
   "metadata": {
    "slideshow": {
     "slide_type": "slide"
    }
   },
   "source": [
    "## Terminology\n",
    "\n",
    "Thing | What is it?\n",
    "--- | ---\n",
    "Python | programming language\n",
    "package | add-on/plugin for Python\n",
    "pandas | package for data analysis\n",
    "plotly | package for data visualization\n",
    "Jupyter | programming environment; supports Markdown + code + HTML output; can run Python and [tons of other languages](https://github.com/jupyter/jupyter/wiki/Jupyter-kernels)\n",
    "notebook | individual Jupyter files; think Google Doc with executable code in it\n",
    "Google Colaboratory (\"Colab\") | cloud-based Jupyter\n",
    "Markdown | markup language; think \"simple HTML\""
   ]
  },
  {
   "cell_type": "markdown",
   "metadata": {
    "slideshow": {
     "slide_type": "fragment"
    }
   },
   "source": [
    "- Jupyter notebooks are magical. This presentation is a notebook.\n",
    "- You can use pandas anywhere you can run Python, but Jupyter makes things easier."
   ]
  },
  {
   "cell_type": "markdown",
   "metadata": {
    "slideshow": {
     "slide_type": "subslide"
    }
   },
   "source": [
    "### Command line vs. Jupyter\n",
    "\n",
    "![Command line vs. Jupyter output](img/cli_vs_jupyter.png)"
   ]
  },
  {
   "cell_type": "markdown",
   "metadata": {
    "slideshow": {
     "slide_type": "slide"
    }
   },
   "source": [
    "## Spreadsheets vs. pandas"
   ]
  },
  {
   "cell_type": "markdown",
   "metadata": {
    "slideshow": {
     "slide_type": "subslide"
    }
   },
   "source": [
    "### Why spreadsheets\n",
    "\n",
    "- The easy stuff is easy\n",
    "- Lots of people know how to use them\n",
    "- Mostly just have to point, click, and scroll\n",
    "- Data and logic live together as one"
   ]
  },
  {
   "cell_type": "markdown",
   "metadata": {
    "slideshow": {
     "slide_type": "subslide"
    }
   },
   "source": [
    "### Why pandas\n",
    "\n",
    "- Data and logic _don't_ live together\n",
    "- More powerful, flexible, and expressive than spreadsheet formulas\n",
    "\n",
    "  - Don't have to cram into a single line\n",
    "\n",
    "    ```\n",
    "    =SUM(INDEX(C3:E9,MATCH(B13,C3:C9,0),MATCH(B14,C3:E3,0)))\n",
    "    ```\n",
    "\n",
    "  - Can have more descriptive data references than `Sheet1!A:A`\n",
    "\n",
    "- Better at working with large data\n",
    "  - Google Sheets and Excel have hard limits at 1-5 million rows, but get slow long before that\n",
    "- Reusable code (packages)\n",
    "- Automation"
   ]
  },
  {
   "cell_type": "markdown",
   "metadata": {
    "slideshow": {
     "slide_type": "subslide"
    }
   },
   "source": [
    "### Side-by-side\\*\n",
    "\n",
    "|                       Task |  Spreadsheets  | pandas |\n",
    "| -------------------------: | :------------: | :----: |\n",
    "|           **Loading data** |      Easy      | Medium |\n",
    "|           **Viewing data** |      Easy      | Medium |\n",
    "|         **Filtering data** |      Easy      | Medium |\n",
    "|      **Manipulating data** |     Medium     | Medium |\n",
    "|           **Joining data** |      Hard      | Medium |\n",
    "| **Complicated transforms** | Impossible\\*\\* | Medium |\n",
    "|             **Automation** | Impossible\\*\\* | Medium |\n",
    "|        **Making reusable** | Impossible\\*\\* | Medium |\n",
    "|         **Large datasets** |   Impossible   |  Hard  |\n",
    "\n",
    "_\\*Ratings are obviously somewhat subjective._\n",
    "\n",
    "_\\*\\*Not including scripting._"
   ]
  },
  {
   "cell_type": "markdown",
   "metadata": {
    "slideshow": {
     "slide_type": "slide"
    }
   },
   "source": [
    "### Try it!\n",
    "\n",
    "1. Create a Colab notebook\n",
    "   1. Go to [colab.research.google.com](https://colab.research.google.com)\n",
    "   1. Click `NEW NOTEBOOK`\n",
    "1. Paste in [the following example](https://plotly.com/python/linear-fits/#linear-fit-trendlines-with-plotly-express):\n",
    "\n",
    "    ```python\n",
    "    import plotly.express as px\n",
    "\n",
    "    df = px.data.tips()\n",
    "    fig = px.scatter(df, x=\"total_bill\", y=\"tip\", trendline=\"ols\")\n",
    "    fig.show()\n",
    "    ```\n",
    "\n",
    "1. Press the ▶️ button"
   ]
  },
  {
   "cell_type": "markdown",
   "metadata": {
    "slideshow": {
     "slide_type": "subslide"
    }
   },
   "source": [
    "### Jupyter basics\n",
    "\n",
    "- You \"run\" a cell by either:\n",
    "    - Pressing the ▶️ button\n",
    "    - Pressing `⌘`+`Enter` (Mac) or `Control`+`Enter` (Windows) on your keyboard\n",
    "- Cells don't run unless you tell them to, in the order you do so\n",
    "    - Generally, you want to do so from the top every time you open a notebook"
   ]
  },
  {
   "cell_type": "markdown",
   "metadata": {
    "slideshow": {
     "slide_type": "subslide"
    }
   },
   "source": [
    "#### Output\n",
    "\n",
    "- The last thing in a code cell is what gets displayed when it's run\n",
    "- The output gets saved as part of the notebook\n",
    "- Just because there's existing output from a cell, doesn't mean that cell has been run during this session"
   ]
  }
 ],
 "metadata": {
  "celltoolbar": "Slideshow",
  "file_extension": ".py",
  "kernelspec": {
   "display_name": "Python 3",
   "language": "python",
   "name": "python3"
  },
  "language_info": {
   "codemirror_mode": {
    "name": "ipython",
    "version": 3
   },
   "file_extension": ".py",
   "mimetype": "text/x-python",
   "name": "python",
   "nbconvert_exporter": "python",
   "pygments_lexer": "ipython3",
   "version": "3.8.0"
  },
  "mimetype": "text/x-python",
  "name": "python",
  "npconvert_exporter": "python",
  "pygments_lexer": "ipython3",
  "version": 3
 },
 "nbformat": 4,
 "nbformat_minor": 4
}
