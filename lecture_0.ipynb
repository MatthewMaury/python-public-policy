{
 "cells": [
  {
   "cell_type": "markdown",
   "metadata": {
    "slideshow": {
     "slide_type": "skip"
    }
   },
   "source": [
    "<a href=\"https://colab.research.google.com/github/afeld/python-public-policy/blob/master/lecture_0.ipynb\" target=\"_parent\"><img src=\"https://colab.research.google.com/assets/colab-badge.svg\" alt=\"Open In Colab\"/></a>"
   ]
  },
  {
   "cell_type": "markdown",
   "metadata": {
    "slideshow": {
     "slide_type": "slide"
    }
   },
   "source": [
    "# **NYU Wagner - Python Coding for Public Policy**\n",
    "\n",
    "Aidan Feldman\n",
    "\n",
    "[Shared notes](https://docs.google.com/document/d/1umb8kbKZuKR05K7Bvl2WD4N_EfGHW2WsOQpqFAlLQXU/edit#)"
   ]
  },
  {
   "cell_type": "markdown",
   "metadata": {
    "slideshow": {
     "slide_type": "slide"
    }
   },
   "source": [
    "![Reel-to-reel camera](https://p0.pikrepo.com/preview/271/1009/gray-reel-to-reel-projector-against-gray-background-thumbnail.jpg)"
   ]
  },
  {
   "cell_type": "markdown",
   "metadata": {
    "slideshow": {
     "slide_type": "slide"
    }
   },
   "source": [
    "# Class 0: Intro to coding\n",
    "\n",
    "## Welcome!\n",
    "\n",
    "![Elmo waving](https://media.giphy.com/media/LPgFwCQg4HQBvPihcn/source.gif)"
   ]
  },
  {
   "cell_type": "markdown",
   "metadata": {
    "slideshow": {
     "slide_type": "subslide"
    }
   },
   "source": [
    "### A bit more about me\n",
    "\n",
    "- Coding since 2005 🖥\n",
    "- Government since 2014 🦅\n",
    "- Also a modern dancer 💃 cyclist 🚲 and baker 🍞\n",
    "- Passionate about open source\n",
    "- Run a meetup called [Hacker Hours](https://hackerhours.org/) for people learning to code"
   ]
  },
  {
   "cell_type": "markdown",
   "metadata": {
    "slideshow": {
     "slide_type": "subslide"
    }
   },
   "source": [
    "### Day jobs\n",
    "\n",
    "- **Current:** Technology Director at [TTS](https://www.gsa.gov/about-us/organization/federal-acquisition-service/technology-transformation-services)\n",
    "- **Past** include:\n",
    "  - [Census xD](https://www.xd.gov/)\n",
    "  - [NYC Planning Labs](https://labs.planning.nyc.gov/)\n",
    "  - GitHub\n",
    "  - [18F](https://18f.gsa.gov)"
   ]
  },
  {
   "cell_type": "markdown",
   "metadata": {
    "slideshow": {
     "slide_type": "subslide"
    }
   },
   "source": [
    "### Introductions\n",
    "\n",
    "In the Zoom meeting chat, share the following:\n",
    "\n",
    "- Name (what you go by)\n",
    "- What you're studying\n",
    "- Go-to quarantine snack"
   ]
  },
  {
   "cell_type": "markdown",
   "metadata": {
    "slideshow": {
     "slide_type": "subslide"
    }
   },
   "source": [
    "### Where we're at\n",
    "\n",
    "- The world is scary right now\n",
    "- Childcare, mental health issues, etc.\n",
    "- Reach out\n",
    "- Your future responsibilities"
   ]
  },
  {
   "cell_type": "markdown",
   "metadata": {
    "slideshow": {
     "slide_type": "slide"
    }
   },
   "source": [
    "## Class structure"
   ]
  },
  {
   "cell_type": "markdown",
   "metadata": {
    "slideshow": {
     "slide_type": "subslide"
    }
   },
   "source": [
    "### Zoom\n",
    "\n",
    "- **Video:**\n",
    "    - Encouraged to keep it on, but \"face mute\" if you need\n",
    "    - [Gallery view](https://support.zoom.us/hc/en-us/articles/360000005883-Displaying-participants-in-gallery-view)\n",
    "    - [Screen sharing](https://support.zoom.us/hc/en-us/articles/201362153-Sharing-your-screen) for hands-on time\n",
    "- **Audio:** Keep muted by default\n",
    "- **In-meeting chat:** Feel free to drop questions as we go\n",
    "- **Channel:** Group messaging between classes\n",
    "- [Non-verbal feedback](https://support.zoom.us/hc/en-us/articles/115001286183-Nonverbal-Feedback-During-Meetings#h_50523139-7bac-403b-9c59-1755ada65ad9)"
   ]
  },
  {
   "cell_type": "markdown",
   "metadata": {
    "slideshow": {
     "slide_type": "subslide"
    }
   },
   "source": [
    "### Class materials walkthrough\n",
    "\n",
    "1. [Shared notes](https://docs.google.com/document/d/1umb8kbKZuKR05K7Bvl2WD4N_EfGHW2WsOQpqFAlLQXU/edit#)\n",
    "1. [Homepage](https://github.com/afeld/python-public-policy)\n",
    "1. [Syllabus](https://github.com/afeld/python-public-policy/blob/master/syllabus.md#readme)\n",
    "1. [NYU Classes page](https://newclasses.nyu.edu/portal/site/08599039-1e6b-4c40-98f4-1a862293dbee)"
   ]
  },
  {
   "cell_type": "markdown",
   "metadata": {
    "slideshow": {
     "slide_type": "subslide"
    }
   },
   "source": [
    "### Homework\n",
    "\n",
    "- **Online tutorials:** In advance of classes, online tutorials will be assigned as homework. The following lecture will focus on applying those concepts\n",
    "- **Coding:** Complete Python coding exercises that apply the concepts covered in the last lecture.\n",
    "\n",
    "![homework workflow](img/hw_workflow.png)\n",
    " "
   ]
  },
  {
   "cell_type": "markdown",
   "metadata": {
    "slideshow": {
     "slide_type": "slide"
    }
   },
   "source": [
    "### Disclaimers\n",
    "\n",
    "- You are not going to be good at coding by the end of this class\n",
    "- I am here to teach you to:\n",
    "  - Understand the power of code\n",
    "  - Not be afraid of code\n",
    "  - Do a lot with just a little code\n",
    "  - Troubleshoot\n",
    "  - Google stuff\n",
    "- Not a statistician\n",
    "- This class came together in two weeks\n",
    "  - Rough around the edges\n",
    "  - Subject to change\n",
    "  - Ask for your patience"
   ]
  },
  {
   "cell_type": "markdown",
   "metadata": {
    "slideshow": {
     "slide_type": "slide"
    }
   },
   "source": [
    "## Spreadsheets vs. programming languages"
   ]
  },
  {
   "cell_type": "markdown",
   "metadata": {
    "slideshow": {
     "slide_type": "subslide"
    }
   },
   "source": [
    "### Why spreadsheets\n",
    "\n",
    "- The easy stuff is easy\n",
    "- Lots of people know how to use them\n",
    "- Mostly just have to point, click, and scroll\n",
    "- Data and logic live together as one"
   ]
  },
  {
   "cell_type": "markdown",
   "metadata": {
    "slideshow": {
     "slide_type": "subslide"
    }
   },
   "source": [
    "### Why programming languages\n",
    "\n",
    "- Data and logic _don't_ live together\n",
    "  - Why might this matter?"
   ]
  },
  {
   "cell_type": "markdown",
   "metadata": {
    "slideshow": {
     "slide_type": "fragment"
    }
   },
   "source": [
    "- More powerful, flexible, and expressive than spreadsheet formulas\n",
    "\n",
    "  - Don't have to cram into a single line\n",
    "\n",
    "    ```\n",
    "    =SUM(INDEX(C3:E9,MATCH(B13,C3:C9,0),MATCH(B14,C3:E3,0)))\n",
    "    ```\n",
    "\n",
    "  - Can have more descriptive data references than `Sheet1!A:A`\n",
    "\n",
    "- Better at working with large data\n",
    "  - Google Sheets and Excel have hard limits at 1-5 million rows, but get slow long before that\n",
    "- Reusable code (packages)\n",
    "- Automation"
   ]
  },
  {
   "cell_type": "markdown",
   "metadata": {
    "slideshow": {
     "slide_type": "subslide"
    }
   },
   "source": [
    "### Side-by-side\\*\n",
    "\n",
    "|                       Task |  Spreadsheets  | Programming languages |\n",
    "| -------------------------: | :------------: | :-------------------: |\n",
    "|           **Loading data** |      Easy      |        Medium         |\n",
    "|           **Viewing data** |      Easy      |        Medium         |\n",
    "|         **Filtering data** |      Easy      |        Medium         |\n",
    "|      **Manipulating data** |     Medium     |        Medium         |\n",
    "|           **Joining data** |      Hard      |        Medium         |\n",
    "| **Complicated transforms** | Impossible\\*\\* |        Medium         |\n",
    "|             **Automation** | Impossible\\*\\* |        Medium         |\n",
    "|        **Making reusable** | Impossible\\*\\* |        Medium         |\n",
    "|         **Large datasets** |   Impossible   |         Hard          |\n",
    "\n",
    "_\\*Ratings are obviously somewhat subjective._\n",
    "\n",
    "_\\*\\*Not including scripting._"
   ]
  },
  {
   "cell_type": "markdown",
   "metadata": {
    "slideshow": {
     "slide_type": "subslide"
    }
   },
   "source": [
    "## Python vs. other languages\n",
    "\n",
    "- Good for general-purpose _and_ data stuff\n",
    "- Widely used in both industry and academia\n",
    "- Relatively easy to learn\n",
    "- Open source\n",
    "\n",
    "![Python logo](https://upload.wikimedia.org/wikipedia/commons/thumb/c/c3/Python-logo-notext.svg/110px-Python-logo-notext.svg.png)"
   ]
  },
  {
   "cell_type": "markdown",
   "metadata": {
    "slideshow": {
     "slide_type": "slide"
    }
   },
   "source": [
    "## What _is_ Python?"
   ]
  },
  {
   "cell_type": "markdown",
   "metadata": {
    "slideshow": {
     "slide_type": "fragment"
    }
   },
   "source": [
    "- A general-purpose programming language\n",
    "- Text that your computer understands\n",
    "    - Usually saved in a text file\n",
    "    - _This is true of most programming languages_\n",
    "- Popular for data analysis and data science"
   ]
  },
  {
   "cell_type": "markdown",
   "metadata": {
    "slideshow": {
     "slide_type": "subslide"
    }
   },
   "source": [
    "### Packages\n",
    "\n",
    "- a.k.a. \"libraries\" or \"modules\"\n",
    "- Developers have create them to make code/functionality reusable and easily sharable\n",
    "- Software plugins that you `import`\n",
    "- Packages we’ll use:\n",
    "    - `pandas`\n",
    "    - `plotly`\n",
    "    - `spacy`"
   ]
  },
  {
   "cell_type": "markdown",
   "metadata": {
    "slideshow": {
     "slide_type": "subslide"
    }
   },
   "source": [
    "### Where to Python\n",
    "\n",
    "Pyton can be run in:\n",
    "\n",
    "- A text file, using the `python` command\n",
    "- [The interactive Python interpreter / command prompt / shell](https://www.python.org/shell/)\n",
    "- A Jupyter Notebook\n",
    "    - Google Colab, [Mode](https://mode.com/), [Kaggle](https://www.kaggle.com/), and other sites/tools are built around it\n",
    "    - What we'll be using for this class\n",
    "\n",
    "Each can be on your computer (\"local\"), or in the cloud somewhere."
   ]
  },
  {
   "cell_type": "markdown",
   "metadata": {
    "slideshow": {
     "slide_type": "subslide"
    }
   },
   "source": [
    "![Trinity using the command line in the Matrix](https://nmap.org/movies/matrix/trinity-nmapscreen-hd-crop-1200x728.jpg)"
   ]
  },
  {
   "cell_type": "markdown",
   "metadata": {
    "slideshow": {
     "slide_type": "subslide"
    }
   },
   "source": [
    "### Try it!\n",
    "\n",
    "1. Go to [python.org/shell](https://www.python.org/shell/)\n",
    "1. Do some math (after typing each line, press `Enter` to submit)\n",
    "    1. `1 + 1`\n",
    "    1. `10 / 4`\n",
    "    1. `10 / 3`\n",
    "    1. Calculate the number of minutes in a year"
   ]
  },
  {
   "cell_type": "markdown",
   "metadata": {
    "slideshow": {
     "slide_type": "subslide"
    }
   },
   "source": [
    "### Try to break it!\n",
    "\n",
    "It's ok, you won't hurt it."
   ]
  },
  {
   "cell_type": "markdown",
   "metadata": {
    "slideshow": {
     "slide_type": "fragment"
    }
   },
   "source": [
    "What happened?"
   ]
  },
  {
   "cell_type": "markdown",
   "metadata": {
    "slideshow": {
     "slide_type": "slide"
    }
   },
   "source": [
    "## Jupyter\n",
    "\n",
    "For our purposes, synonymous with Google Colab.\n",
    "\n",
    "- Web based programming environment\n",
    "- Supports Python by default, and other languages with plugins\n",
    "- Nicely displays output of your code so you can check and share the results\n",
    "- Connects with Google Drive\n",
    "- Avoids using the command line\n",
    "- Avoids problems with installation problems across different computer operating systems"
   ]
  },
  {
   "cell_type": "markdown",
   "metadata": {
    "slideshow": {
     "slide_type": "subslide"
    }
   },
   "source": [
    "### Command line vs. Jupyter\n",
    "\n",
    "![Command line vs. Jupyter output](img/cli_vs_jupyter.png)"
   ]
  },
  {
   "cell_type": "markdown",
   "metadata": {
    "slideshow": {
     "slide_type": "subslide"
    }
   },
   "source": [
    "### Try it!\n",
    "\n",
    "1. Create a Colab notebook\n",
    "   1. Go to [colab.research.google.com](https://colab.research.google.com)\n",
    "   1. Click `NEW NOTEBOOK`\n",
    "1. Paste in [the following example](https://plotly.com/python/linear-fits/#linear-fit-trendlines-with-plotly-express):\n",
    "\n",
    "    ```python\n",
    "    import plotly.express as px\n",
    "\n",
    "    df = px.data.tips()\n",
    "    fig = px.scatter(df, x=\"total_bill\", y=\"tip\", trendline=\"ols\")\n",
    "    fig.show()\n",
    "    ```\n",
    "\n",
    "1. Press the ▶️ button (or `Control`+`Enter` on your keyboard)"
   ]
  },
  {
   "cell_type": "markdown",
   "metadata": {
    "slideshow": {
     "slide_type": "subslide"
    }
   },
   "source": [
    "### Jupyter basics\n",
    "\n",
    "A \"cell\" can be either code or [Markdown](https://www.markdownguide.org/getting-started/) (text). Raw Markdown looks like this:\n",
    "\n",
    "```\n",
    "## A heading\n",
    "\n",
    "Plain text\n",
    "\n",
    "[A link](https://somewhere.com)\n",
    "```"
   ]
  },
  {
   "cell_type": "markdown",
   "metadata": {
    "slideshow": {
     "slide_type": "subslide"
    }
   },
   "source": [
    "#### Running\n",
    "\n",
    "- You \"run\" a cell by either:\n",
    "    - Pressing the ▶️ button\n",
    "    - Pressing `Control`+`Enter` on your keyboard\n",
    "- Cells don't run unless you tell them to, in the order you do so\n",
    "    - Generally, you want to do so from the top every time you open a notebook"
   ]
  },
  {
   "cell_type": "markdown",
   "metadata": {
    "slideshow": {
     "slide_type": "subslide"
    }
   },
   "source": [
    "#### Output\n",
    "\n",
    "- The last thing in a code cell is what gets displayed when it's run\n",
    "- The output gets saved as part of the notebook\n",
    "- Just because there's existing output from a cell, doesn't mean that cell has been run during this session"
   ]
  },
  {
   "cell_type": "markdown",
   "metadata": {
    "slideshow": {
     "slide_type": "slide"
    }
   },
   "source": [
    "## Start [Homework 0](https://colab.research.google.com/github/afeld/python-public-policy/blob/master/hw_0.ipynb)"
   ]
  }
 ],
 "metadata": {
  "celltoolbar": "Slideshow",
  "file_extension": ".py",
  "kernelspec": {
   "display_name": "Python 3.8.0 64-bit",
   "language": "python",
   "name": "python38064bite2b734199e274226979ef410f6f20e23"
  },
  "language_info": {
   "codemirror_mode": {
    "name": "ipython",
    "version": 3
   },
   "file_extension": ".py",
   "mimetype": "text/x-python",
   "name": "python",
   "nbconvert_exporter": "python",
   "pygments_lexer": "ipython3",
   "version": "3.8.0"
  },
  "mimetype": "text/x-python",
  "name": "python",
  "npconvert_exporter": "python",
  "pygments_lexer": "ipython3",
  "version": 3
 },
 "nbformat": 4,
 "nbformat_minor": 4
}
