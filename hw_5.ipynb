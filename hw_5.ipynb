{
 "cells": [
  {
   "cell_type": "markdown",
   "metadata": {
    "colab_type": "text",
    "id": "view-in-github"
   },
   "source": [
    "<a href=\"https://colab.research.google.com/github/afeld/python-public-policy/blob/main/hw_5.ipynb\" target=\"_parent\"><img src=\"https://colab.research.google.com/assets/colab-badge.svg\" alt=\"Open In Colab\"/></a>"
   ]
  },
  {
   "cell_type": "markdown",
   "metadata": {
    "colab_type": "text",
    "id": "F5DsWafyMCfG"
   },
   "source": [
    "# HOMEWORK 5\n",
    "\n",
    "Make sure to fill in the `YOUR RESPONSE HERE`, and the posting in the Forum at the end."
   ]
  },
  {
   "cell_type": "markdown",
   "metadata": {},
   "source": [
    "## Coding\n",
    "\n",
    "When doing mapping or spatial analysis, it's easier to work with geographic coordinates than addresses. The 311 dataset has the `latitude` and `longitude` filled in for many of the rows, but not all. Enrich the dataset by filling in those missing coordinates, where possible.\n",
    "\n",
    "- Use the smaller dataset from homework 2: https://storage.googleapis.com/python-public-policy/data/cleaned_311_data_hw2.csv.zip\n",
    "- Use the [NYC Planning GeoSearch API](https://geosearch.planninglabs.nyc/docs/) for [geocoding](https://en.wikipedia.org/wiki/Address_geocoding).\n",
    "- To avoid overwhelming the API, operate on a small subset of the data (no more than thirty addresses that need geocoding).\n",
    "\n",
    "### Tips\n",
    "\n",
    "- Try doing single requests to the API from code before trying to run it against a DataFrame.\n",
    "- You can use [this technique for updating multiple columns at once through an `apply()`](https://stackoverflow.com/a/51703667/358804)."
   ]
  },
  {
   "cell_type": "code",
   "execution_count": 11,
   "metadata": {},
   "outputs": [],
   "source": [
    "# your code here"
   ]
  },
  {
   "cell_type": "markdown",
   "metadata": {},
   "source": [
    "### Question\n",
    "\n",
    "**What are the complicating factors** with this task? What could make it difficult to do comprehensively? Looking for a paragraph or some bullet points."
   ]
  },
  {
   "cell_type": "markdown",
   "metadata": {},
   "source": [
    "YOUR RESPONSE HERE"
   ]
  },
  {
   "cell_type": "markdown",
   "metadata": {
    "colab_type": "text",
    "id": "DRpVqnixIeFu"
   },
   "source": [
    "# HOMEWORK 6\n",
    "\n",
    "Homework 6, the final project, is open-ended: The goal is to prove or disprove a hypothesis using the skills learned in this class. In the real world, one would start with a specific question and find data to answer it, but the data needed often doesn't exist or is hard (or impossible) to find/access. The recommended, safer approach, for the purposes of this assignment:\n",
    "\n",
    "1. Find a dataset that seems interesting.\n",
    "  - [NYC OpenData](https://opendata.cityofnewyork.us/), [data.gov](https://www.data.gov/), and [Kaggle](https://www.kaggle.com/datasets) have many many options.\n",
    "  - Finding a dataset available in CSV or Excel formats ([Pandas can also read the latter](https://pandas.pydata.org/pandas-docs/stable/reference/api/pandas.read_excel.html)) is recommended.\n",
    "1. Look at the columns and some data in the dataset.\n",
    "1. Come up with a question that the data is capable of answering and _isn't trivial to answer_.\n",
    "  - If you aren't sure, ask.\n",
    "1. Come up with a hypothesis (a.k.a. a guess of the answer to the question).\n",
    "1. Answer the questions below, as the \"pitch\" for Homework 6. Example:\n",
    "  - **Dataset:** [Recycling Diversion and Capture Rates](https://data.cityofnewyork.us/Environment/Recycling-Diversion-and-Capture-Rates/gaq9-z3hz)\n",
    "  - **Question:** From 2016 to 2019, what community district increased their diversion (recycling) rate the most?\n",
    "  - **Hypothesis:** [Bushwick](https://communityprofiles.planning.nyc.gov/brooklyn/4), because it's gentrified over that time, and hipsters love to recycle.\n",
    "1. Create a new notebook to do the actual analysis; you will turn that in separately.\n",
    "1. Go back and find any information that's available _around_ the data, to get a better understanding of what it contains and means.\n",
    "  - This might include a data dictionary, and it might involve poking around a government agency's web site to understand their processes.\n",
    "  - You should understand what all the different columns and values represent."
   ]
  },
  {
   "cell_type": "markdown",
   "metadata": {},
   "source": [
    "## Requirements\n",
    "\n",
    "Your question/hypothesis doesn't need to be something novel; confirming something you read in the news is fine. Your analysis should:\n",
    "\n",
    "<!-- make sure edits here are reflected in scripts/hw_6_check.py -->\n",
    "\n",
    "- Use a dataset we didn't use in class\n",
    "- Read like a blog post\n",
    "    - Pretend you're explaining to a Wagner student who hasn't taken this class. You don't need to teach them Python, but they should be able to follow what's going on.\n",
    "    - Re-state the question, hypothesis, and data source(s) with link(s)\n",
    "    - Walk the reader through what you're doing in every step and what they should be taking away from it.\n",
    "    - [Markdown](https://www.markdownguide.org/basic-syntax/) can be used in text cells for formatting.\n",
    "    - Include any dead ends you hit.\n",
    "    - Have a conclusion that speaks to your question and hypothesis.\n",
    "- Use pandas\n",
    "- Not be trivial, requiring:\n",
    "    - At least 40 lines of code to come to a conclusion\n",
    "    - Transforming data through [grouping](https://pandas.pydata.org/pandas-docs/stable/user_guide/groupby.html), [merging](https://pandas.pydata.org/pandas-docs/stable/user_guide/merging.html#database-style-dataframe-or-named-series-joining-merging), and/or [reshaping](https://pandas.pydata.org/docs/user_guide/reshaping.html) of DataFrames\n",
    "    - Operations that aren't easily done in a spreadsheet.\n",
    "- Have a visualization (chart or map) of some kind\n",
    "    - They should have a meaningful title and labels.\n",
    "- Have the outputs visible when you submit\n",
    "    - What you see is what I will see.\n",
    "\n",
    "If you answer the first question easily, that's fine; dig into / build off of it."
   ]
  },
  {
   "cell_type": "markdown",
   "metadata": {},
   "source": [
    "## Peer assessment\n",
    "\n",
    "The assignment will be peer-reviewed through NYU Classes. Each student will need to review two others, evaluating against the Requirements above. These are due 72 hours after homework 6."
   ]
  },
  {
   "cell_type": "markdown",
   "metadata": {},
   "source": [
    "## Proposal\n",
    "\n",
    "**Please answer the following** as a new Conversation under [the `HW6 proposals` Topic in the Forum](https://newclasses.nyu.edu/portal/site/a1020c0b-d7ec-4306-b6cf-20ee94470436/tool/5643a2fb-9214-4ebf-bb98-c6fa0619cb6b/discussionForum/message/dfAllMessages).\n",
    "\n",
    "- What dataset are you going to use?\n",
    "   - Please include a link. If multiple, how are you going to merge/join them?\n",
    "- What's the question you are trying to answer?\n",
    "- What's your hypothesis?"
   ]
  }
 ],
 "metadata": {
  "celltoolbar": "Slideshow",
  "colab": {
   "collapsed_sections": [],
   "name": "hw_5.ipynb",
   "provenance": []
  },
  "kernelspec": {
   "display_name": "Python 3",
   "language": "python",
   "name": "python3"
  },
  "language_info": {
   "codemirror_mode": {
    "name": "ipython",
    "version": 3
   },
   "file_extension": ".py",
   "mimetype": "text/x-python",
   "name": "python",
   "nbconvert_exporter": "python",
   "pygments_lexer": "ipython3",
   "version": "3.8.8"
  },
  "rise": {
   "scroll": true
  }
 },
 "nbformat": 4,
 "nbformat_minor": 1
}
