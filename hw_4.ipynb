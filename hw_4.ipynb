{
 "cells": [
  {
   "cell_type": "markdown",
   "metadata": {
    "id": "br6IoqhOkfW8"
   },
   "source": [
    "<a href=\"https://colab.research.google.com/github/afeld/python-public-policy/blob/main/hw_4.ipynb\" target=\"_parent\"><img src=\"https://colab.research.google.com/assets/colab-badge.svg\" alt=\"Open In Colab\"/></a>\n",
    "\n",
    "# **HOMEWORK 4**"
   ]
  },
  {
   "cell_type": "markdown",
   "metadata": {
    "colab_type": "text",
    "id": "Rj4Wq1CrlSjj"
   },
   "source": [
    "# Coding\n",
    "\n",
    "Goal: Find complaint types that increased or decreased when COVID-19 hit New York Ciy: mid-March 2020."
   ]
  },
  {
   "cell_type": "markdown",
   "metadata": {
    "colab_type": "text",
    "id": "n5pp9g_5v_8K"
   },
   "source": [
    "## Step 0: Setup\n",
    "\n",
    "For this homework, instead of the data being provided, you will export it directly from the NYC Open Data Portal, as if you were working on your own project.\n",
    "\n",
    "1. Download the data.\n",
    "  1. Visit the [311 data](https://data.cityofnewyork.us/Social-Services/311-Service-Requests-from-2010-to-Present/erm2-nwe9/data) page.\n",
    "  1. From that page, filter the data to `Created Date`s between `01/01/2020 12:00:00 AM` and `03/31/2020 11:59:59 PM`.\n",
    "  1. It should say \"Showing 311 Service Requests 1-100 out of 469,594\" near the bottom of the screen.\n",
    "    - It's ok if the total is slightly different.\n",
    "  1. Click `Export`.\n",
    "  1. Click `CSV`. It will start downloading a file.\n",
    "  1. Rename the file `311_covid.csv`.\n",
    "1. Upload the data.\n",
    "  1. Open your NYU [Google Drive](https://drive.google.com/).\n",
    "  1. [Upload the CSV](https://support.google.com/drive/answer/2424368) to My Drive or a folder under it.\n",
    "1. Read the data.\n",
    "  1. Here in Colab, click the folder icon on the left.\n",
    "  1. Click `Mount Drive`.\n",
    "  1. Click `Connect to Google Drive`.\n",
    "  1. Grant permissions.\n",
    "  1. Under `Files`, you should now see a `drive` folder.\n",
    "  1. Expand the folder to find your file.\n",
    "  1. Right-click the file.\n",
    "  1. Click `Copy path`."
   ]
  },
  {
   "cell_type": "markdown",
   "metadata": {
    "id": "BtvfdWpGlLGP"
   },
   "source": [
    "## Step 1: Load data\n",
    "\n",
    "Read the data into a DataFrame."
   ]
  },
  {
   "cell_type": "code",
   "execution_count": 1,
   "metadata": {
    "colab": {
     "base_uri": "https://localhost:8080/",
     "height": 1000
    },
    "executionInfo": {
     "elapsed": 10172,
     "status": "ok",
     "timestamp": 1605814693342,
     "user": {
      "displayName": "Aidan Feldman",
      "photoUrl": "https://lh3.googleusercontent.com/a-/AOh14Gj83fkoiPxKpQIphhpuOgId0Uq3vFHX-u5P9mGM=s64",
      "userId": "02302695983983360874"
     },
     "user_tz": 300
    },
    "id": "D7ESnwwTw0RW",
    "outputId": "2d2de5ad-4109-438e-cb14-c2aa111c1438"
   },
   "outputs": [],
   "source": [
    "import pandas as pd\n",
    "\n",
    "df_2020 = pd.read_csv('YOUR PATH HERE', low_memory=False)\n",
    "df_2020"
   ]
  },
  {
   "cell_type": "markdown",
   "metadata": {
    "id": "JQo1Pa951V-P"
   },
   "source": [
    "## Step 2: Convert dates\n",
    "\n",
    "Copy code from [Lecture 4](https://colab.research.google.com/github/afeld/python-public-policy/blob/master/lecture_4.ipynb#scrollTo=CHZ-Pqj0bS9w) to convert the `Created Date` to a `datetime`. Print out the types of the columns using [`.info()`](https://pandas.pydata.org/pandas-docs/stable/reference/api/pandas.DataFrame.info.html)."
   ]
  },
  {
   "cell_type": "code",
   "execution_count": 2,
   "metadata": {
    "colab": {
     "base_uri": "https://localhost:8080/"
    },
    "executionInfo": {
     "elapsed": 13026,
     "status": "ok",
     "timestamp": 1605814696204,
     "user": {
      "displayName": "Aidan Feldman",
      "photoUrl": "https://lh3.googleusercontent.com/a-/AOh14Gj83fkoiPxKpQIphhpuOgId0Uq3vFHX-u5P9mGM=s64",
      "userId": "02302695983983360874"
     },
     "user_tz": 300
    },
    "id": "N4wk3UZV1gQT",
    "outputId": "556a137e-c38c-4f55-cd74-835dba9539e7"
   },
   "outputs": [],
   "source": [
    "# your code here"
   ]
  },
  {
   "cell_type": "markdown",
   "metadata": {
    "id": "_AISfaNylvfX"
   },
   "source": [
    "## Step 3: Date counts\n",
    "\n",
    "Create a DataFrame called `date_counts` that has the count of complaints per Complaint Type per day, then display it."
   ]
  },
  {
   "cell_type": "code",
   "execution_count": 3,
   "metadata": {
    "colab": {
     "base_uri": "https://localhost:8080/",
     "height": 424
    },
    "executionInfo": {
     "elapsed": 13232,
     "status": "ok",
     "timestamp": 1605814696426,
     "user": {
      "displayName": "Aidan Feldman",
      "photoUrl": "https://lh3.googleusercontent.com/a-/AOh14Gj83fkoiPxKpQIphhpuOgId0Uq3vFHX-u5P9mGM=s64",
      "userId": "02302695983983360874"
     },
     "user_tz": 300
    },
    "id": "IICgp0fO4WSp",
    "outputId": "93482533-7f07-40ae-c145-06523be67067"
   },
   "outputs": [],
   "source": [
    "# your code here"
   ]
  },
  {
   "cell_type": "markdown",
   "metadata": {
    "id": "cnYXtBEGCxKp"
   },
   "source": [
    "## Step 4: Plotting over time\n",
    "\n",
    "Create a line chart of the count of complaints over time, one line per `Complaint Type`."
   ]
  },
  {
   "cell_type": "code",
   "execution_count": 4,
   "metadata": {
    "colab": {
     "base_uri": "https://localhost:8080/",
     "height": 542
    },
    "executionInfo": {
     "elapsed": 19575,
     "status": "ok",
     "timestamp": 1605814702785,
     "user": {
      "displayName": "Aidan Feldman",
      "photoUrl": "https://lh3.googleusercontent.com/a-/AOh14Gj83fkoiPxKpQIphhpuOgId0Uq3vFHX-u5P9mGM=s64",
      "userId": "02302695983983360874"
     },
     "user_tz": 300
    },
    "id": "zJ8C7CSQ4afz",
    "outputId": "7a888333-919b-4bba-a2e0-6608d2224743"
   },
   "outputs": [],
   "source": [
    "# your code here"
   ]
  },
  {
   "cell_type": "markdown",
   "metadata": {
    "id": "zJlm08A3CtJn"
   },
   "source": [
    "---\n",
    "\n",
    "This has the information we need, but is a lot to look at. Let's only show complaint types that changed greatly (in March 2020) relative to the same period in the previous year (March 2019)."
   ]
  },
  {
   "cell_type": "markdown",
   "metadata": {
    "id": "blbSpASlq2BN"
   },
   "source": [
    "## Step 5: March 2020 counts\n",
    "\n",
    "Create a DataFrame called `mar_counts` that has the count of each `Complaint Type` in March 2020 in a column called `2020`. Use [`.to_frame()`](https://pandas.pydata.org/pandas-docs/stable/reference/api/pandas.Series.to_frame.html) (instead of [`.reset_index()`](https://pandas.pydata.org/pandas-docs/stable/reference/api/pandas.Series.reset_index.html)) to use the `Complaint Type` as the index. It should end up looking something like this:\n",
    "\n",
    "Complaint Type | 2020\n",
    "--- | ---\n",
    "APPLIANCE | 806\n",
    "Abandoned Vehicle | 2468\n",
    "Air Quality | 643\n",
    "… | …\n",
    "\n",
    "_Note there is no numeric index._"
   ]
  },
  {
   "cell_type": "code",
   "execution_count": 5,
   "metadata": {
    "colab": {
     "base_uri": "https://localhost:8080/",
     "height": 455
    },
    "executionInfo": {
     "elapsed": 571,
     "status": "ok",
     "timestamp": 1605814871210,
     "user": {
      "displayName": "Aidan Feldman",
      "photoUrl": "https://lh3.googleusercontent.com/a-/AOh14Gj83fkoiPxKpQIphhpuOgId0Uq3vFHX-u5P9mGM=s64",
      "userId": "02302695983983360874"
     },
     "user_tz": 300
    },
    "id": "_F-Ne4qy5hoE",
    "outputId": "490793ee-7523-4ec6-dbc5-186d502a9949"
   },
   "outputs": [],
   "source": [
    "# your code here"
   ]
  },
  {
   "cell_type": "markdown",
   "metadata": {
    "id": "Fr1wKrqVILOF"
   },
   "source": [
    "## Step 6: Get March 2019 data\n",
    "\n",
    "Follow the Setup steps again, but this time:\n",
    "\n",
    "1. Filter to `Created Date`s between `03/01/2019 12:00:00 AM` and `03/31/2019 11:59:59 PM`.\n",
    "1. Save as `311_mar_2019.csv`.\n",
    "1. After uploading to Drive:\n",
    "   1. In the Colab sidebar, click the Files icon.\n",
    "   1. Click the Refresh icon.\n",
    "1. Load that data into a DataFrame called `mar_2019`.\n",
    "1. Convert the `Created Date` column to a `datetime`."
   ]
  },
  {
   "cell_type": "code",
   "execution_count": 6,
   "metadata": {
    "colab": {
     "base_uri": "https://localhost:8080/"
    },
    "executionInfo": {
     "elapsed": 4152,
     "status": "ok",
     "timestamp": 1605814882243,
     "user": {
      "displayName": "Aidan Feldman",
      "photoUrl": "https://lh3.googleusercontent.com/a-/AOh14Gj83fkoiPxKpQIphhpuOgId0Uq3vFHX-u5P9mGM=s64",
      "userId": "02302695983983360874"
     },
     "user_tz": 300
    },
    "id": "E-bLZa0EJi01",
    "outputId": "50ec800e-98d8-4e6d-cc80-f70a26574756"
   },
   "outputs": [],
   "source": [
    "# your code here"
   ]
  },
  {
   "cell_type": "markdown",
   "metadata": {
    "id": "g8lAFy31LfLy"
   },
   "source": [
    "## Step 7: March 2019 counts\n",
    "\n",
    "1. Get the `Complaint Type` counts for March 2019.\n",
    "1. Add these to the `mar_counts` DataFrame as a column called `2019`."
   ]
  },
  {
   "cell_type": "code",
   "execution_count": 7,
   "metadata": {
    "colab": {
     "base_uri": "https://localhost:8080/",
     "height": 455
    },
    "executionInfo": {
     "elapsed": 292,
     "status": "ok",
     "timestamp": 1605814884908,
     "user": {
      "displayName": "Aidan Feldman",
      "photoUrl": "https://lh3.googleusercontent.com/a-/AOh14Gj83fkoiPxKpQIphhpuOgId0Uq3vFHX-u5P9mGM=s64",
      "userId": "02302695983983360874"
     },
     "user_tz": 300
    },
    "id": "YrS3QunUL7hI",
    "outputId": "e7f5f940-08f8-47cb-ed60-7f976ebac484"
   },
   "outputs": [],
   "source": [
    "# your code here"
   ]
  },
  {
   "cell_type": "markdown",
   "metadata": {
    "id": "NmfzxOwEuTWt"
   },
   "source": [
    "## Step 8: Percent change\n",
    "\n",
    "Use `mar_counts` to calculate the percent change from March 2019 to March 2020 for each `Complaint Type`. Save as the `pct_change` column. Reminder that you can do arithmetic between columns just like you would between variables or even numbers. Should result in something like this:\n",
    "\n",
    "Complaint Type | 2020 | 2019 | pct_change\n",
    "--- | --- | --- | ---\n",
    "APPLIANCE | 806 | 1042 | -0.22\n",
    "Abandoned Vehicle | 2468 | 1 | 2467.00\n",
    "Air Quality | 643 | 642 | 0.00\n",
    "… | … | … | …"
   ]
  },
  {
   "cell_type": "code",
   "execution_count": 8,
   "metadata": {
    "colab": {
     "base_uri": "https://localhost:8080/",
     "height": 455
    },
    "executionInfo": {
     "elapsed": 334,
     "status": "ok",
     "timestamp": 1605815115004,
     "user": {
      "displayName": "Aidan Feldman",
      "photoUrl": "https://lh3.googleusercontent.com/a-/AOh14Gj83fkoiPxKpQIphhpuOgId0Uq3vFHX-u5P9mGM=s64",
      "userId": "02302695983983360874"
     },
     "user_tz": 300
    },
    "id": "3KAd1tpI91ia",
    "outputId": "96cb58ee-a6d9-4c34-e4f9-b1164c0efdb7"
   },
   "outputs": [],
   "source": [
    "# your code here"
   ]
  },
  {
   "cell_type": "markdown",
   "metadata": {
    "id": "nu5-RoTCFRPr"
   },
   "source": [
    "## Step 9: Filter\n",
    "\n",
    "Filter to `Complaint Type`s that both:\n",
    "\n",
    "- Occurred at least 50 times in March 2020\n",
    "- Changed (increased _or_ decreased) by more than 90%\n",
    "   - [Getting the absolute value](https://pandas.pydata.org/pandas-docs/stable/reference/api/pandas.DataFrame.abs.html) may be helpful.\n",
    "\n",
    "and save the DataFrame as `top_changed`."
   ]
  },
  {
   "cell_type": "code",
   "execution_count": 9,
   "metadata": {
    "colab": {
     "base_uri": "https://localhost:8080/",
     "height": 332
    },
    "executionInfo": {
     "elapsed": 343,
     "status": "ok",
     "timestamp": 1605815607681,
     "user": {
      "displayName": "Aidan Feldman",
      "photoUrl": "https://lh3.googleusercontent.com/a-/AOh14Gj83fkoiPxKpQIphhpuOgId0Uq3vFHX-u5P9mGM=s64",
      "userId": "02302695983983360874"
     },
     "user_tz": 300
    },
    "id": "RdmzmAYGAfA4",
    "outputId": "e20be9fd-1929-406d-c2d8-f699aba982f7"
   },
   "outputs": [],
   "source": [
    "# your code here"
   ]
  },
  {
   "cell_type": "markdown",
   "metadata": {
    "id": "ENFrJrS3w7H_"
   },
   "source": [
    "## Step 10: Top changed\n",
    "\n",
    "Filter the `date_counts` to only the `top_changed` `Complaint Type`s. Save as `top_changed_by_day`."
   ]
  },
  {
   "cell_type": "code",
   "execution_count": 10,
   "metadata": {
    "colab": {
     "base_uri": "https://localhost:8080/",
     "height": 424
    },
    "executionInfo": {
     "elapsed": 348,
     "status": "ok",
     "timestamp": 1605815609438,
     "user": {
      "displayName": "Aidan Feldman",
      "photoUrl": "https://lh3.googleusercontent.com/a-/AOh14Gj83fkoiPxKpQIphhpuOgId0Uq3vFHX-u5P9mGM=s64",
      "userId": "02302695983983360874"
     },
     "user_tz": 300
    },
    "id": "xnYwDc-v_kMA",
    "outputId": "df11239f-b79f-4328-cf5d-96c08edfd35c"
   },
   "outputs": [],
   "source": [
    "# your code here"
   ]
  },
  {
   "cell_type": "markdown",
   "metadata": {
    "id": "xJflRexSypwA"
   },
   "source": [
    "## Step 11: Plotting changed complaints\n",
    "\n",
    "Make a similar plot to Step 5, but with only the top complaints (`top_changed_by_day`)."
   ]
  },
  {
   "cell_type": "code",
   "execution_count": 11,
   "metadata": {
    "colab": {
     "base_uri": "https://localhost:8080/",
     "height": 542
    },
    "executionInfo": {
     "elapsed": 1026,
     "status": "ok",
     "timestamp": 1605815612657,
     "user": {
      "displayName": "Aidan Feldman",
      "photoUrl": "https://lh3.googleusercontent.com/a-/AOh14Gj83fkoiPxKpQIphhpuOgId0Uq3vFHX-u5P9mGM=s64",
      "userId": "02302695983983360874"
     },
     "user_tz": 300
    },
    "id": "8S2ztIF1yqQP",
    "outputId": "d1391e3a-69e8-4a55-b46d-058c8dd078a5",
    "scrolled": true
   },
   "outputs": [],
   "source": [
    "# your code here"
   ]
  },
  {
   "cell_type": "markdown",
   "metadata": {
    "colab_type": "text",
    "id": "9X1Cjz1i0f_h"
   },
   "source": [
    "## Question 0\n",
    "\n",
    "***Did the change of any of the `Complaint Type`s in Step 10/11 surprise you? Why or why not? (Speak at least one specifically.)***\n",
    "\n",
    "YOUR RESPONSE HERE"
   ]
  },
  {
   "cell_type": "markdown",
   "metadata": {},
   "source": [
    "Then, give these a read:\n",
    "\n",
    "- [NY Daily News article](https://www.nydailynews.com/coronavirus/ny-coronavirus-price-gouging-new-york-city-20200429-z5zs4ygfxbcmrpgzfrnlbxsnea-story.html)\n",
    "- [Press release from Department of Consumer and Worker Protection](https://www1.nyc.gov/site/dca/media/pr031720-DCWP-Emergency-Rule-Price-Gouging-Illegal.page)\n",
    "\n",
    "Overall caveat for this assignment: [**correlation does not imply causation**](https://www.khanacademy.org/math/probability/scatterplots-a1/creating-interpreting-scatterplots/v/correlation-and-causality)."
   ]
  },
  {
   "cell_type": "markdown",
   "metadata": {
    "colab_type": "text",
    "id": "-hYwWOH01LlC"
   },
   "source": [
    "## Question 1\n",
    "\n",
    "***Did you work with anyone else on this assignment?***\n",
    "\n",
    "YOUR RESPONSE HERE"
   ]
  },
  {
   "cell_type": "markdown",
   "metadata": {
    "colab_type": "text",
    "id": "CbrIfq1J4oEU"
   },
   "source": [
    "# Tutorial\n",
    "\n",
    "**Read [spaCy 101](https://spacy.io/usage/spacy-101#whats-spacy) through `Linguistic annotations`** (stop at `Pipelines`). It's ok if it doesn't all make sense—this is mostly to introduce you to some terminology for the next topic: natural language processing!"
   ]
  }
 ],
 "metadata": {
  "colab": {
   "authorship_tag": "ABX9TyPTfLHITw6+ra/unDpGnCHD",
   "collapsed_sections": [],
   "mount_file_id": "17CwXKrvS6hiYxI2WU6j8fV7wIPFrITPs",
   "name": "hw_4.ipynb",
   "provenance": [
    {
     "file_id": "1It_SMvHZLxjXY2XNNQJ_YTWMBnN14X2t",
     "timestamp": 1605797709723
    }
   ]
  },
  "kernelspec": {
   "display_name": "Python 3",
   "language": "python",
   "name": "python3"
  },
  "language_info": {
   "codemirror_mode": {
    "name": "ipython",
    "version": 3
   },
   "file_extension": ".py",
   "mimetype": "text/x-python",
   "name": "python",
   "nbconvert_exporter": "python",
   "pygments_lexer": "ipython3",
   "version": "3.8.6"
  }
 },
 "nbformat": 4,
 "nbformat_minor": 1
}
