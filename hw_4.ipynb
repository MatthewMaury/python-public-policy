{
 "cells": [
  {
   "cell_type": "markdown",
   "metadata": {
    "colab_type": "text",
    "id": "br6IoqhOkfW8"
   },
   "source": [
    "<a href=\"https://colab.research.google.com/github/afeld/python-public-policy/blob/main/hw_4.ipynb\" target=\"_parent\"><img src=\"https://colab.research.google.com/assets/colab-badge.svg\" alt=\"Open In Colab\"/></a>\n",
    "\n",
    "# **HOMEWORK 4**"
   ]
  },
  {
   "cell_type": "markdown",
   "metadata": {
    "colab_type": "text",
    "id": "Rj4Wq1CrlSjj"
   },
   "source": [
    "# Coding\n",
    "\n",
    "This assignment is going to be looking at how rates of various 311 complaints have changed in the time of the COVID-19 pandemic."
   ]
  },
  {
   "cell_type": "markdown",
   "metadata": {
    "colab_type": "text",
    "id": "n5pp9g_5v_8K"
   },
   "source": [
    "## Step 0: Setup\n",
    "\n",
    "For this homework, instead of the data being provided, you will export it directly from the NYC Open Data Portal, as if you were working on your own project.\n",
    "\n",
    "1. Download the data.\n",
    "  1. Visit the [311 data](https://data.cityofnewyork.us/Social-Services/311-Service-Requests-from-2010-to-Present/erm2-nwe9/data) page.\n",
    "  1. From that page, filter the data to `Created Date`s between `01/01/2020 12:00:00 AM` and `03/31/2020 11:59:59 AM`.\n",
    "  1. It should say \"Showing 311 Service Requests 1-100 out of 469,594\" near the bottom of the screen.\n",
    "    - It's ok if the total is slightly different.\n",
    "  1. Click `Export`.\n",
    "  1. Click `CSV`. It will start downloading a file.\n",
    "  1. Rename the file `311_covid.csv`.\n",
    "1. Upload the data.\n",
    "  1. Open your NYU [Google Drive](https://drive.google.com/).\n",
    "  1. [Upload the CSV](https://support.google.com/drive/answer/2424368) to My Drive or a folder under it.\n",
    "1. Read the data.\n",
    "  1. Here in Colab, click the folder icon on the left.\n",
    "  1. Click `Mount Drive`.\n",
    "  1. Click `Connect to Google Drive`.\n",
    "  1. Grant permissions.\n",
    "  1. Under `Files`, you should now see a `drive` folder.\n",
    "  1. Expand the folder to find your file.\n",
    "  1. Right-click the file.\n",
    "  1. Click `Copy path`."
   ]
  },
  {
   "cell_type": "markdown",
   "metadata": {
    "colab_type": "text",
    "id": "BtvfdWpGlLGP"
   },
   "source": [
    "## Step 1: Load data\n",
    "\n",
    "Read the data into a DataFrame."
   ]
  },
  {
   "cell_type": "code",
   "execution_count": null,
   "metadata": {
    "colab": {
     "base_uri": "https://localhost:8080/",
     "height": 1000
    },
    "colab_type": "code",
    "id": "D7ESnwwTw0RW",
    "outputId": "cc96c91b-0aa7-43fd-c2d7-2fe66ae2fdb6"
   },
   "outputs": [],
   "source": [
    "import pandas as pd\n",
    "\n",
    "df = pd.read_csv('YOUR PATH HERE', low_memory=False)\n",
    "df"
   ]
  },
  {
   "cell_type": "markdown",
   "metadata": {
    "colab_type": "text",
    "id": "JQo1Pa951V-P"
   },
   "source": [
    "## Step 2: Convert dates\n",
    "\n",
    "Copy code from [Lecture 4](https://colab.research.google.com/github/afeld/python-public-policy/blob/main/lecture_4.ipynb#scrollTo=CHZ-Pqj0bS9w) to convert the `Created Date` and `Closed Date` to `datetime`s. Print out the types of the columns using [`.info()`](https://pandas.pydata.org/pandas-docs/stable/reference/api/pandas.DataFrame.info.html)."
   ]
  },
  {
   "cell_type": "code",
   "execution_count": null,
   "metadata": {
    "colab": {
     "base_uri": "https://localhost:8080/",
     "height": 851
    },
    "colab_type": "code",
    "id": "N4wk3UZV1gQT",
    "outputId": "1a805528-c852-474b-9879-04d9f74a20c5"
   },
   "outputs": [],
   "source": [
    "# your code here"
   ]
  },
  {
   "cell_type": "markdown",
   "metadata": {
    "colab_type": "text",
    "id": "VoNflQmT17UU"
   },
   "source": [
    "## Step 3: Time/date components\n",
    "\n",
    "Add `date` and `month_name` columns from the `Created Date`. (See the [`.dt` example from Lecture 4](https://colab.research.google.com/github/afeld/python-public-policy/blob/main/lecture_4.ipynb#scrollTo=bhh2c3ZCnDYB).)"
   ]
  },
  {
   "cell_type": "code",
   "execution_count": null,
   "metadata": {
    "colab": {
     "base_uri": "https://localhost:8080/",
     "height": 1000
    },
    "colab_type": "code",
    "id": "JhDsSUR518mf",
    "outputId": "593e8427-912e-4b0b-9573-11aa3ecee2a4"
   },
   "outputs": [],
   "source": [
    "# your code here"
   ]
  },
  {
   "cell_type": "markdown",
   "metadata": {
    "colab_type": "text",
    "id": "_AISfaNylvfX"
   },
   "source": [
    "## Step 4: Date counts\n",
    "\n",
    "Create a DataFrame called `date_counts` that has the count of complaints per Complaint Type per day, then display it. Should end up looking like:\n",
    "\n",
    ". | date | Complaint Type | count\n",
    "--- | --- | --- | ---\n",
    "0 | 2020-01-01 | APPLIANCE | 6\n",
    "1 | 2020-01-01 | Abandoned Vehicle | 63\n",
    "… | … | … | …"
   ]
  },
  {
   "cell_type": "code",
   "execution_count": null,
   "metadata": {
    "colab": {
     "base_uri": "https://localhost:8080/",
     "height": 424
    },
    "colab_type": "code",
    "id": "IICgp0fO4WSp",
    "outputId": "b5ad274a-f8dd-4f99-e969-e56f8d6209d6"
   },
   "outputs": [],
   "source": [
    "# your code here"
   ]
  },
  {
   "cell_type": "markdown",
   "metadata": {
    "colab_type": "text",
    "id": "cnYXtBEGCxKp"
   },
   "source": [
    "## Step 5: Plotting over time\n",
    "\n",
    "Create a line chart of the count of complaints over time, one line per `Complaint Type`. Should look something like this (but with a legend):\n",
    "\n",
    "![Line chart showing complaints per day by type](https://github.com/afeld/python-public-policy/raw/main/img/complaints_per_day.png)"
   ]
  },
  {
   "cell_type": "code",
   "execution_count": null,
   "metadata": {
    "colab": {
     "base_uri": "https://localhost:8080/",
     "height": 542
    },
    "colab_type": "code",
    "id": "zJ8C7CSQ4afz",
    "outputId": "f589910e-3254-4022-d6d0-6b047fd8a1dc"
   },
   "outputs": [],
   "source": [
    "# your code here"
   ]
  },
  {
   "cell_type": "markdown",
   "metadata": {
    "colab_type": "text",
    "id": "jdAuZxrqXIgY"
   },
   "source": [
    "To zoom in, do one or more of the following:\n",
    "\n",
    "- Click some of the Complaint Types to filter them out\n",
    "- Draw a rectangle to zoom in\n",
    "\n",
    "When done, click the home icon above the chart to `Reset axes`."
   ]
  },
  {
   "cell_type": "markdown",
   "metadata": {
    "colab_type": "text",
    "id": "blbSpASlq2BN"
   },
   "source": [
    "## Step 6: Month counts\n",
    "\n",
    "Create a DataFrame called `month_counts` that has the count of complaints per `Complaint Type` per month, then display it. Should end up looking like:\n",
    "\n",
    ". | month_name | Complaint Type | count\n",
    "--- | --- | --- | ---\n",
    "0 | February | APPLIANCE | 557\n",
    "1 | February | Abandoned Vehicle | 3371\n",
    "… | … | … | …"
   ]
  },
  {
   "cell_type": "code",
   "execution_count": null,
   "metadata": {
    "colab": {
     "base_uri": "https://localhost:8080/",
     "height": 424
    },
    "colab_type": "code",
    "id": "_F-Ne4qy5hoE",
    "outputId": "5932665d-88b1-4524-da4b-77ab592b80da"
   },
   "outputs": [],
   "source": [
    "# your code here"
   ]
  },
  {
   "cell_type": "markdown",
   "metadata": {
    "colab_type": "text",
    "id": "slBLqZNEstIH"
   },
   "source": [
    "## Step 7: Pivot\n",
    "\n",
    "Use the provided code to [pivot the DataFrame](https://pandas.pydata.org/pandas-docs/stable/user_guide/reshaping.html). This will make the `month_name`s the columns, with one `Complaint Type` per row, and the `count`s as the values. (No changes needed.)"
   ]
  },
  {
   "cell_type": "code",
   "execution_count": null,
   "metadata": {
    "colab": {
     "base_uri": "https://localhost:8080/",
     "height": 455
    },
    "colab_type": "code",
    "id": "LetMk2eF5z8i",
    "outputId": "2781affa-792c-4078-eec8-7b0636585521"
   },
   "outputs": [],
   "source": [
    "complaints_by_month = month_counts.pivot(index='Complaint Type', columns='month_name', values='count')\n",
    "\n",
    "# put the columns in order\n",
    "complaints_by_month = complaints_by_month[['January', 'February', 'March']]\n",
    "\n",
    "complaints_by_month"
   ]
  },
  {
   "cell_type": "markdown",
   "metadata": {
    "colab_type": "text",
    "id": "NmfzxOwEuTWt"
   },
   "source": [
    "## Step 8: Percent change\n",
    "\n",
    "Use `complaints_by_month` to calculate the percent change from February to March for each `Complaint Type`. Save as the `pct_change` column. Reminder that you can do arithmetic between columns just like you would between variables or even numbers. Should result in something like this:\n",
    "\n",
    "Complaint Type | January | February | March | pct_change\n",
    "--- | --- | --- | --- | ---\n",
    "APPLIANCE | 696.0 | 557.0 | 806.0 | 0.447038\n",
    "Abandoned Vehicle | 3760.0 | 3371.0 | 2468.0 | -0.267873\n",
    "… | … | … | … | …"
   ]
  },
  {
   "cell_type": "code",
   "execution_count": null,
   "metadata": {
    "colab": {
     "base_uri": "https://localhost:8080/",
     "height": 238
    },
    "colab_type": "code",
    "id": "3KAd1tpI91ia",
    "outputId": "4d8ad49e-ea8a-4bc9-db54-e907291e1d3e"
   },
   "outputs": [],
   "source": [
    "# your code here"
   ]
  },
  {
   "cell_type": "markdown",
   "metadata": {
    "colab_type": "text",
    "id": "nu5-RoTCFRPr"
   },
   "source": [
    "## Step 9: Filter\n",
    "\n",
    "Use the provided code to filter to `Complaint Type`s that were common in February and have changed by more than 90%."
   ]
  },
  {
   "cell_type": "code",
   "execution_count": null,
   "metadata": {
    "colab": {
     "base_uri": "https://localhost:8080/",
     "height": 300
    },
    "colab_type": "code",
    "id": "RdmzmAYGAfA4",
    "outputId": "54823483-c955-4b06-829b-af411728cafa"
   },
   "outputs": [],
   "source": [
    "top_changed = complaints_by_month[(complaints_by_month['February'] > 300) & (complaints_by_month['pct_change'].abs() > 0.9)]\n",
    "top_changed"
   ]
  },
  {
   "cell_type": "markdown",
   "metadata": {
    "colab_type": "text",
    "id": "ENFrJrS3w7H_"
   },
   "source": [
    "## Step 10: Top changed\n",
    "\n",
    "Filter the `date_counts` to only the `top_changed` `Complaint Type`s. Save as `top_changed_by_day`.\n",
    "\n",
    "Things that will be useful:\n",
    "\n",
    "- [`.isin()`](https://pandas.pydata.org/pandas-docs/stable/reference/api/pandas.DataFrame.isin.html) - see [Lecture 1](https://colab.research.google.com/github/afeld/python-public-policy/blob/main/lecture_1.ipynb#scrollTo=PII26jb0g8Eg)\n",
    "- [`.index`](https://pandas.pydata.org/pandas-docs/stable/reference/api/pandas.DataFrame.index.html) since the `Complaint Types` are the index (row labels) rather than a proper \"column\""
   ]
  },
  {
   "cell_type": "code",
   "execution_count": null,
   "metadata": {
    "colab": {},
    "colab_type": "code",
    "id": "xnYwDc-v_kMA"
   },
   "outputs": [],
   "source": [
    "# your code here"
   ]
  },
  {
   "cell_type": "markdown",
   "metadata": {
    "colab_type": "text",
    "id": "xJflRexSypwA"
   },
   "source": [
    "## Step 11: Plotting changed complaints\n",
    "\n",
    "Make a similar plot to Step 5, but with only the top complaints (`top_changed_by_day`)."
   ]
  },
  {
   "cell_type": "code",
   "execution_count": null,
   "metadata": {
    "colab": {
     "base_uri": "https://localhost:8080/",
     "height": 542
    },
    "colab_type": "code",
    "id": "8S2ztIF1yqQP",
    "outputId": "03f482b2-ae91-4c04-a08f-50bbf3da237a"
   },
   "outputs": [],
   "source": [
    "# your code here"
   ]
  },
  {
   "cell_type": "markdown",
   "metadata": {
    "colab_type": "text",
    "id": "9X1Cjz1i0f_h"
   },
   "source": [
    "## Question 0\n",
    "\n",
    "***Did the change of any of the `Complaint Type`s in Step 10/11 surprise you? Why or why not? (Speak at least one specifically.)***\n",
    "\n",
    "YOUR RESPONSE HERE"
   ]
  },
  {
   "cell_type": "markdown",
   "metadata": {},
   "source": [
    "Then, give these a read:\n",
    "\n",
    "- [NY Daily News article](https://www.nydailynews.com/coronavirus/ny-coronavirus-price-gouging-new-york-city-20200429-z5zs4ygfxbcmrpgzfrnlbxsnea-story.html)\n",
    "- [Press release from Department of Consumer and Worker Protection](https://www1.nyc.gov/site/dca/media/pr031720-DCWP-Emergency-Rule-Price-Gouging-Illegal.page)\n",
    "\n",
    "Overall caveat for this assignment: [**correlation does not imply causation**](https://www.khanacademy.org/math/probability/scatterplots-a1/creating-interpreting-scatterplots/v/correlation-and-causality)."
   ]
  },
  {
   "cell_type": "markdown",
   "metadata": {
    "colab_type": "text",
    "id": "-hYwWOH01LlC"
   },
   "source": [
    "## Question 1\n",
    "\n",
    "***Did you work with anyone else on this assignment?***\n",
    "\n",
    "YOUR RESPONSE HERE"
   ]
  },
  {
   "cell_type": "markdown",
   "metadata": {
    "colab_type": "text",
    "id": "CbrIfq1J4oEU"
   },
   "source": [
    "# Tutorial\n",
    "\n",
    "**Read [spaCy 101](https://spacy.io/usage/spacy-101#whats-spacy) through `Linguistic annotations`** (stop at `Pipelines`). It's ok if it doesn't all make sense—this is mostly to introduce you to some terminology for the next topic: natural language processing!"
   ]
  }
 ],
 "metadata": {
  "colab": {
   "collapsed_sections": [],
   "name": "hw_4.ipynb",
   "provenance": [],
   "toc_visible": true
  },
  "kernelspec": {
   "display_name": "Python 3",
   "language": "python",
   "name": "python3"
  },
  "language_info": {
   "codemirror_mode": {
    "name": "ipython",
    "version": 3
   },
   "file_extension": ".py",
   "mimetype": "text/x-python",
   "name": "python",
   "nbconvert_exporter": "python",
   "pygments_lexer": "ipython3",
   "version": "3.8.6"
  }
 },
 "nbformat": 4,
 "nbformat_minor": 1
}
