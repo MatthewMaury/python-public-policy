{
 "cells": [
  {
   "cell_type": "markdown",
   "metadata": {
    "colab_type": "text",
    "id": "view-in-github",
    "slideshow": {
     "slide_type": "skip"
    }
   },
   "source": [
    "<a href=\"https://colab.research.google.com/github/afeld/python-public-policy/blob/master/lecture_6.ipynb\" target=\"_parent\"><img src=\"https://colab.research.google.com/assets/colab-badge.svg\" alt=\"Open In Colab\"/></a>"
   ]
  },
  {
   "cell_type": "markdown",
   "metadata": {
    "colab_type": "text",
    "id": "Omm4n3FmPHlF",
    "slideshow": {
     "slide_type": "slide"
    }
   },
   "source": [
    "# **NYU Wagner - Python Coding for Public Policy**\n",
    "# Class 6"
   ]
  },
  {
   "cell_type": "markdown",
   "metadata": {
    "slideshow": {
     "slide_type": "slide"
    }
   },
   "source": [
    "## Agenda\n",
    "\n",
    "1. Guest lecture\n",
    "1. Real-world natural language processing example\n",
    "1. Government/coding Q&A"
   ]
  },
  {
   "cell_type": "markdown",
   "metadata": {
    "slideshow": {
     "slide_type": "slide"
    }
   },
   "source": [
    "## [Vyki Englert](https://www.linkedin.com/in/vykienglert/)\n",
    "\n",
    "- Software developer, cartographer, and cyclist\n",
    "- Co-founded [Compiler LA](https://compiler.la/), \"a civically oriented strategy and software consultancy\"\n",
    "- Worked on political campaign tooling at [NationBuilder](https://nationbuilder.com/)\n",
    "- Worked with the City of Santa Monica to:\n",
    "  - Launch their open data initiative\n",
    "  - Publish the city's first open dataset\n",
    "  - Help digital engagement in the city's planning and development\n",
    "- Ran/runs multiple groups, including:\n",
    "  - [Hack for LA](https://www.hackforla.org/), the city's [Code for America Brigade](https://brigade.codeforamerica.org/)\n",
    "  - [Data + Donuts LA](https://datadonuts.la/), a speaker series about people using technology and data in government\n",
    "  - A nonprofit bike cooperative"
   ]
  },
  {
   "cell_type": "markdown",
   "metadata": {
    "slideshow": {
     "slide_type": "slide"
    }
   },
   "source": [
    "## Erica Hobby\n",
    "\n",
    "Natural language processing (NLP) in the real world"
   ]
  },
  {
   "cell_type": "markdown",
   "metadata": {
    "slideshow": {
     "slide_type": "slide"
    }
   },
   "source": [
    "## Me!"
   ]
  },
  {
   "cell_type": "markdown",
   "metadata": {
    "slideshow": {
     "slide_type": "subslide"
    }
   },
   "source": [
    "## [Communicart/C2](https://web.archive.org/web/20190124112324/https://cap.18f.gov/)\n",
    "\n",
    "![Homepage screenshot](img/c2.png)"
   ]
  },
  {
   "cell_type": "markdown",
   "metadata": {
    "slideshow": {
     "slide_type": "subslide"
    }
   },
   "source": [
    "## [ATO Sprinting Team](https://18f.gsa.gov/2018/07/19/taking-the-ato-process-from-6-months-to-30-days/)\n",
    "\n",
    "![Scatter chart with trendline showing decrease in ATO times](https://18f.gsa.gov/assets/blog/ato/ato-completion-date-graph.png)"
   ]
  },
  {
   "cell_type": "markdown",
   "metadata": {
    "slideshow": {
     "slide_type": "subslide"
    }
   },
   "source": [
    "## Agile budgeting\n",
    "\n",
    "![Jellybeans](https://upload.wikimedia.org/wikipedia/commons/3/3e/Jellybeans.jpg)"
   ]
  },
  {
   "cell_type": "markdown",
   "metadata": {
    "slideshow": {
     "slide_type": "subslide"
    }
   },
   "source": [
    "## See also\n",
    "\n",
    "[![Video still of man wearing suit at a microphone](https://img.youtube.com/vi/g-h6CtSwk30/maxresdefault.jpg)](https://www.youtube.com/watch?v=g-h6CtSwk30)\n",
    "\n",
    "[Colleague explaining agile software development to the Michigan Senate](https://www.youtube.com/watch?v=g-h6CtSwk30)"
   ]
  },
  {
   "cell_type": "markdown",
   "metadata": {
    "slideshow": {
     "slide_type": "subslide"
    }
   },
   "source": [
    "## Questions!"
   ]
  },
  {
   "cell_type": "markdown",
   "metadata": {
    "slideshow": {
     "slide_type": "slide"
    }
   },
   "source": [
    "## Thank you!\n",
    "\n",
    "- alf9@nyu.edu\n",
    "- aidan.feldman@gmail.com\n",
    "- [@aidanfeldman](https://twitter.com/aidanfeldman/) on Twitter\n",
    "- Come to [Hacker Hours](https://hackerhours.org/)!"
   ]
  }
 ],
 "metadata": {
  "celltoolbar": "Slideshow",
  "colab": {
   "collapsed_sections": [],
   "include_colab_link": true,
   "name": "lecture_6.ipynb",
   "provenance": []
  },
  "kernelspec": {
   "display_name": "Python 3",
   "language": "python",
   "name": "python3"
  },
  "language_info": {
   "codemirror_mode": {
    "name": "ipython",
    "version": 3
   },
   "file_extension": ".py",
   "mimetype": "text/x-python",
   "name": "python",
   "nbconvert_exporter": "python",
   "pygments_lexer": "ipython3",
   "version": "3.8.0"
  }
 },
 "nbformat": 4,
 "nbformat_minor": 4
}
