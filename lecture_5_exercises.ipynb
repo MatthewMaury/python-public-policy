{
 "cells": [
  {
   "cell_type": "markdown",
   "metadata": {
    "colab_type": "text",
    "id": "view-in-github",
    "slideshow": {
     "slide_type": "skip"
    }
   },
   "source": [
    "<a href=\"https://colab.research.google.com/github/afeld/python-public-policy/blob/master/lecture_5.ipynb\" target=\"_parent\"><img src=\"https://colab.research.google.com/assets/colab-badge.svg\" alt=\"Open In Colab\"/></a>"
   ]
  },
  {
   "cell_type": "markdown",
   "metadata": {
    "colab_type": "text",
    "id": "F5DsWafyMCfG",
    "slideshow": {
     "slide_type": "skip"
    }
   },
   "source": [
    "# IN-CLASS EXERCISES"
   ]
  },
  {
   "cell_type": "markdown",
   "metadata": {
    "slideshow": {
     "slide_type": "slide"
    }
   },
   "source": [
    "## Exercise 1: Sentiment analysis\n",
    "\n",
    "Cleaned public comments: https://nyu.box.com/shared/static/1zdvfmpy5452nqdlb5b1yho6m3bdihk9.csv"
   ]
  },
  {
   "cell_type": "code",
   "execution_count": 25,
   "metadata": {
    "scrolled": true
   },
   "outputs": [
    {
     "data": {
      "text/html": [
       "<div>\n",
       "<style scoped>\n",
       "    .dataframe tbody tr th:only-of-type {\n",
       "        vertical-align: middle;\n",
       "    }\n",
       "\n",
       "    .dataframe tbody tr th {\n",
       "        vertical-align: top;\n",
       "    }\n",
       "\n",
       "    .dataframe thead th {\n",
       "        text-align: right;\n",
       "    }\n",
       "</style>\n",
       "<table border=\"1\" class=\"dataframe\">\n",
       "  <thead>\n",
       "    <tr style=\"text-align: right;\">\n",
       "      <th></th>\n",
       "      <th>id</th>\n",
       "      <th>date</th>\n",
       "      <th>content</th>\n",
       "    </tr>\n",
       "  </thead>\n",
       "  <tbody>\n",
       "    <tr>\n",
       "      <th>0</th>\n",
       "      <td>DOT-OST-2018-0068-14971</td>\n",
       "      <td>2020-02-24T05:00:00Z</td>\n",
       "      <td>My wife was depressed on a daily basis. She cried all the time. Once we got our little puppy, my wife feels she has a purpose and has not cried since. She needs to have him with her when travelling or she is very stressed and depressed. He has made such a difference. Please don't take away the ability for our dog to travel with her.</td>\n",
       "    </tr>\n",
       "    <tr>\n",
       "      <th>1</th>\n",
       "      <td>DOT-OST-2018-0068-14917</td>\n",
       "      <td>2020-02-24T05:00:00Z</td>\n",
       "      <td>Docket number (DOT-OST-2018-0068) and the Regulatory ID number (RIN No. 2105-AE63)I am very much in favor of amended regulations that provide strict definitions for what type of animals might be permitted to accompany flyers in the cabin of commercial aircraft. As I have read the pending rules, only a properly trained service dog would fulfill the criteria to accompany a passenger with special needs in the cabin. The wide and random acceptance of  non-professional trained emotional support animals in the cabin of aircraft would cease. This is essential for the health and safety of the passengers at large as well as the hard working crew. I hope to see this change made very soon. Thank you.</td>\n",
       "    </tr>\n",
       "    <tr>\n",
       "      <th>2</th>\n",
       "      <td>DOT-OST-2018-0068-14918</td>\n",
       "      <td>2020-02-24T05:00:00Z</td>\n",
       "      <td>Service animals should be restricted to those animals previously designated to aid physically incapacitated individuals and emotional  support animals do not fulfil that category. Additionally dogs appear to be the only animal that I have observed capable of performing this task. All of the other pre-requisites appear to be reasonable  requirements.</td>\n",
       "    </tr>\n",
       "    <tr>\n",
       "      <th>3</th>\n",
       "      <td>DOT-OST-2018-0068-14919</td>\n",
       "      <td>2020-02-24T05:00:00Z</td>\n",
       "      <td>RE:  DOCKET NUMBER DOT-OST-2018-0068I am a psychotherapist who has worked with many people with PTSD and Severe panic attacks.  I have spoken with men whose PTSD, from serving in the military, has been so severe that they cannot go anywhere without their emotional support animals.  I have also treated people who have such bad  panic attacks that they become paralyzed or sometimes even faint.I implore you to not take away the privilege of these people having their ESAs on planes, to provide necessary comfort.  Just because you cannot see a disorder, doesn't mean  it doesn't exist.  I liken it to a domestic violence survivor who was emotionally abused.  His or her pain can be just as great as one who was physically abused.You will be doing a  tremendous disservice to people who legitimately need their ESAs, if you don't let these people travelwith them.  How can passengers prove that the service their ESAs serve is to help them feel safe? This is not an observerable task.Clearly people have abused this policy and that couldn't be more wrong.  However, there must be a better solution than what the DOT is proposing.  Some airlines are having passengers sign waivers that their pets are well-trained.  Can't that be enough?  Also, can't the proposal just consider allowing people with just dogs and cats as ESAs?Please consider what I have said.  If this rule is instituted, many people's lives will be severely negatively affected.Thank you.</td>\n",
       "    </tr>\n",
       "    <tr>\n",
       "      <th>4</th>\n",
       "      <td>DOT-OST-2018-0068-14920</td>\n",
       "      <td>2020-02-24T05:00:00Z</td>\n",
       "      <td>I really appreciate the time that has been spent to really create a workable definition for what should reasonably considered a service animal. I would like to take the time to comment as a frequent passenger of airlines, as my experience is limited to that specifically on the call for comment on restriction by breed. Cabin spaces can be incredibly confined and the presence of a dog that exhibits characteristics of Bully breeds might initially suggest that these dogs should be prohibited. However I would like to offer two counterpoints (1) Bully breeds vary in size and (2) Significant accommodation and allowance are made for large bags As in all breeds there is significant variance of size. While what some would consider pit bulls can be as large as boxers there are others that due to their mixed background are much smaller than a golden retriever or German shepherd which might be considered the poster dogs for service animals. Simply restricting on the basis of appearance of Bully breeding, is close but not sufficient as a workable definition and places legitimate service animals and their handlers at risk. Second, from a narrative standpoint, as a student I have consistently observed the large backpacks taken by students onto planes at the beginning or end of breaks. These bags stuffed with books, computers, and supplies are often too large to fit underneath the slightly smaller spaces allotted for the aisle and window seats. In my own experience, I have only known legitimate service dogs to sit in the front row where they have space to lay or in a separate reserved seat.  Given the tolerance we understandably extend to college students at the holidays, I think it would not be unreasonable to extend similar patience towards dogs that significantly improve and aid their handler's successful maneuvering through society.</td>\n",
       "    </tr>\n",
       "    <tr>\n",
       "      <th>...</th>\n",
       "      <td>...</td>\n",
       "      <td>...</td>\n",
       "      <td>...</td>\n",
       "    </tr>\n",
       "    <tr>\n",
       "      <th>493</th>\n",
       "      <td>DOT-OST-2018-0068-15072</td>\n",
       "      <td>2020-02-24T05:00:00Z</td>\n",
       "      <td>Yes, I totally approve of the rules for service animals.  Passengers claiming pets as emotional support animals threaten the safety and health of other passengers.  I was on a flight recently in which a unleashed dog was allowed to wander around the plane.  In addition to allergy problems for passengers, dogs can spread germs and bacteria.  Please ban all untrained emotional support animals.</td>\n",
       "    </tr>\n",
       "    <tr>\n",
       "      <th>494</th>\n",
       "      <td>DOT-OST-2018-0068-15074</td>\n",
       "      <td>2020-02-24T05:00:00Z</td>\n",
       "      <td>As a dog owner and frequent traveler, I don't have a service animal. But I feel as long as the animal behaves and is not too big, who cares.Some people have issues and they should be helped.</td>\n",
       "    </tr>\n",
       "    <tr>\n",
       "      <th>495</th>\n",
       "      <td>DOT-OST-2018-0068-15075</td>\n",
       "      <td>2020-02-24T05:00:00Z</td>\n",
       "      <td>Only true service dogs should be allowed in the airline cabin.  Only dogs.  And even dogs should be severely restricted.  Emotional support animals should not be included.  The DOT should require a License of some type that those with service dogs must obtain.  It should require a statement from a medical professional re the need for the service dog and also a certificate showing training.I realize some people really need their service dog and of course am willing to make accomodations.  But other people have needs as well.  My wife is deathly afraid of dogs (even really small ones which I find amusing).  I am not afraid of dogs but I am severely allergic to dogs.  Planes are full of enough pathogens for all of us to worry about without having to worry about dog dander as well.  Thank you for your consideration.</td>\n",
       "    </tr>\n",
       "    <tr>\n",
       "      <th>496</th>\n",
       "      <td>DOT-OST-2018-0068-15078</td>\n",
       "      <td>2020-02-24T05:00:00Z</td>\n",
       "      <td>I am 100% behind new the new proposed regulations limiting emotional support animals. This has been abused for way too long. Anyone can get a note from their vet and/or doctor saying that their poor pet is needed for emotional stability. Enough. Flying is for humans, not pets - at least not pets that share cabin seats. I would like it to be limited to only official &amp; documented service dogs (not all animals). Enough with this attitude that my pet can go with me anywhere.</td>\n",
       "    </tr>\n",
       "    <tr>\n",
       "      <th>497</th>\n",
       "      <td>DOT-OST-2018-0068-15080</td>\n",
       "      <td>2020-02-24T05:00:00Z</td>\n",
       "      <td>Only fully trained and qualified service dogs should be allowed to fly in the passenger cabin with their disabled owner. Comfort dogs should not be allowed as they aren't necessarily trained for their duties.  People have taken advantage of being able to fly with comfort dogs. It should not be permitted.</td>\n",
       "    </tr>\n",
       "  </tbody>\n",
       "</table>\n",
       "<p>498 rows × 3 columns</p>\n",
       "</div>"
      ],
      "text/plain": [
       "                          id                  date  \\\n",
       "0    DOT-OST-2018-0068-14971  2020-02-24T05:00:00Z   \n",
       "1    DOT-OST-2018-0068-14917  2020-02-24T05:00:00Z   \n",
       "2    DOT-OST-2018-0068-14918  2020-02-24T05:00:00Z   \n",
       "3    DOT-OST-2018-0068-14919  2020-02-24T05:00:00Z   \n",
       "4    DOT-OST-2018-0068-14920  2020-02-24T05:00:00Z   \n",
       "..                       ...                   ...   \n",
       "493  DOT-OST-2018-0068-15072  2020-02-24T05:00:00Z   \n",
       "494  DOT-OST-2018-0068-15074  2020-02-24T05:00:00Z   \n",
       "495  DOT-OST-2018-0068-15075  2020-02-24T05:00:00Z   \n",
       "496  DOT-OST-2018-0068-15078  2020-02-24T05:00:00Z   \n",
       "497  DOT-OST-2018-0068-15080  2020-02-24T05:00:00Z   \n",
       "\n",
       "                                                                                                                                                                                                                                                                                                                                                                                                                                                                                                                                                                                                                                                                                                                                                                                                                                                                                                                                                                                                                                                                                                                                                                                                                                                                                                                                                                                                                                                                                                                                                                                                                                                                                                                                                                                                                                                                                                                          content  \n",
       "0                                                                                                                                                                                                                                                                                                                                                                                                                                                                                                                                                                                                                                                                                                                                                                                                                                                                                                                                                                                                                                                                                                                                                                                                                                                                                                                                                                                                                                                                                                                                                                                  My wife was depressed on a daily basis. She cried all the time. Once we got our little puppy, my wife feels she has a purpose and has not cried since. She needs to have him with her when travelling or she is very stressed and depressed. He has made such a difference. Please don't take away the ability for our dog to travel with her.  \n",
       "1                                                                                                                                                                                                                                                                                                                                                                                                                                                                                                                                                                                                                                                                                                                                                                                                                                                                                                                                                                                                                                                                                                                                                                                                     Docket number (DOT-OST-2018-0068) and the Regulatory ID number (RIN No. 2105-AE63)I am very much in favor of amended regulations that provide strict definitions for what type of animals might be permitted to accompany flyers in the cabin of commercial aircraft. As I have read the pending rules, only a properly trained service dog would fulfill the criteria to accompany a passenger with special needs in the cabin. The wide and random acceptance of  non-professional trained emotional support animals in the cabin of aircraft would cease. This is essential for the health and safety of the passengers at large as well as the hard working crew. I hope to see this change made very soon. Thank you.   \n",
       "2                                                                                                                                                                                                                                                                                                                                                                                                                                                                                                                                                                                                                                                                                                                                                                                                                                                                                                                                                                                                                                                                                                                                                                                                                                                                                                                                                                                                                                                                                                                                                                 Service animals should be restricted to those animals previously designated to aid physically incapacitated individuals and emotional  support animals do not fulfil that category. Additionally dogs appear to be the only animal that I have observed capable of performing this task. All of the other pre-requisites appear to be reasonable  requirements.  \n",
       "3                                                                                                                                                                                                                                                                                                                                                                                                                 RE:  DOCKET NUMBER DOT-OST-2018-0068I am a psychotherapist who has worked with many people with PTSD and Severe panic attacks.  I have spoken with men whose PTSD, from serving in the military, has been so severe that they cannot go anywhere without their emotional support animals.  I have also treated people who have such bad  panic attacks that they become paralyzed or sometimes even faint.I implore you to not take away the privilege of these people having their ESAs on planes, to provide necessary comfort.  Just because you cannot see a disorder, doesn't mean  it doesn't exist.  I liken it to a domestic violence survivor who was emotionally abused.  His or her pain can be just as great as one who was physically abused.You will be doing a  tremendous disservice to people who legitimately need their ESAs, if you don't let these people travelwith them.  How can passengers prove that the service their ESAs serve is to help them feel safe? This is not an observerable task.Clearly people have abused this policy and that couldn't be more wrong.  However, there must be a better solution than what the DOT is proposing.  Some airlines are having passengers sign waivers that their pets are well-trained.  Can't that be enough?  Also, can't the proposal just consider allowing people with just dogs and cats as ESAs?Please consider what I have said.  If this rule is instituted, many people's lives will be severely negatively affected.Thank you.  \n",
       "4    I really appreciate the time that has been spent to really create a workable definition for what should reasonably considered a service animal. I would like to take the time to comment as a frequent passenger of airlines, as my experience is limited to that specifically on the call for comment on restriction by breed. Cabin spaces can be incredibly confined and the presence of a dog that exhibits characteristics of Bully breeds might initially suggest that these dogs should be prohibited. However I would like to offer two counterpoints (1) Bully breeds vary in size and (2) Significant accommodation and allowance are made for large bags As in all breeds there is significant variance of size. While what some would consider pit bulls can be as large as boxers there are others that due to their mixed background are much smaller than a golden retriever or German shepherd which might be considered the poster dogs for service animals. Simply restricting on the basis of appearance of Bully breeding, is close but not sufficient as a workable definition and places legitimate service animals and their handlers at risk. Second, from a narrative standpoint, as a student I have consistently observed the large backpacks taken by students onto planes at the beginning or end of breaks. These bags stuffed with books, computers, and supplies are often too large to fit underneath the slightly smaller spaces allotted for the aisle and window seats. In my own experience, I have only known legitimate service dogs to sit in the front row where they have space to lay or in a separate reserved seat.  Given the tolerance we understandably extend to college students at the holidays, I think it would not be unreasonable to extend similar patience towards dogs that significantly improve and aid their handler's successful maneuvering through society.   \n",
       "..                                                                                                                                                                                                                                                                                                                                                                                                                                                                                                                                                                                                                                                                                                                                                                                                                                                                                                                                                                                                                                                                                                                                                                                                                                                                                                                                                                                                                                                                                                                                                                                                                                                                                                                                                                                                                                                                                                                            ...  \n",
       "493                                                                                                                                                                                                                                                                                                                                                                                                                                                                                                                                                                                                                                                                                                                                                                                                                                                                                                                                                                                                                                                                                                                                                                                                                                                                                                                                                                                                                                                                                                                    Yes, I totally approve of the rules for service animals.  Passengers claiming pets as emotional support animals threaten the safety and health of other passengers.  I was on a flight recently in which a unleashed dog was allowed to wander around the plane.  In addition to allergy problems for passengers, dogs can spread germs and bacteria.  Please ban all untrained emotional support animals.  \n",
       "494                                                                                                                                                                                                                                                                                                                                                                                                                                                                                                                                                                                                                                                                                                                                                                                                                                                                                                                                                                                                                                                                                                                                                                                                                                                                                                                                                                                                                                                                                                                                                                                                                                                                                                                                As a dog owner and frequent traveler, I don't have a service animal. But I feel as long as the animal behaves and is not too big, who cares.Some people have issues and they should be helped.  \n",
       "495                                                                                                                                                                                                                                                                                                                                                                                                                                                                                                                                                                                                                                                                                                                                                                                                                                                                                                                                                                                                                                                                       Only true service dogs should be allowed in the airline cabin.  Only dogs.  And even dogs should be severely restricted.  Emotional support animals should not be included.  The DOT should require a License of some type that those with service dogs must obtain.  It should require a statement from a medical professional re the need for the service dog and also a certificate showing training.I realize some people really need their service dog and of course am willing to make accomodations.  But other people have needs as well.  My wife is deathly afraid of dogs (even really small ones which I find amusing).  I am not afraid of dogs but I am severely allergic to dogs.  Planes are full of enough pathogens for all of us to worry about without having to worry about dog dander as well.  Thank you for your consideration.  \n",
       "496                                                                                                                                                                                                                                                                                                                                                                                                                                                                                                                                                                                                                                                                                                                                                                                                                                                                                                                                                                                                                                                                                                                                                                                                                                                                                                                                                                                                                                   I am 100% behind new the new proposed regulations limiting emotional support animals. This has been abused for way too long. Anyone can get a note from their vet and/or doctor saying that their poor pet is needed for emotional stability. Enough. Flying is for humans, not pets - at least not pets that share cabin seats. I would like it to be limited to only official & documented service dogs (not all animals). Enough with this attitude that my pet can go with me anywhere.  \n",
       "497                                                                                                                                                                                                                                                                                                                                                                                                                                                                                                                                                                                                                                                                                                                                                                                                                                                                                                                                                                                                                                                                                                                                                                                                                                                                                                                                                                                                                                                                                                                                                                                                             Only fully trained and qualified service dogs should be allowed to fly in the passenger cabin with their disabled owner. Comfort dogs should not be allowed as they aren't necessarily trained for their duties.  People have taken advantage of being able to fly with comfort dogs. It should not be permitted.  \n",
       "\n",
       "[498 rows x 3 columns]"
      ]
     },
     "execution_count": 25,
     "metadata": {},
     "output_type": "execute_result"
    }
   ],
   "source": [
    "import pandas as pd\n",
    "\n",
    "pd.options.display.max_columns = None\n",
    "pd.options.display.max_colwidth = None\n",
    "\n",
    "df = pd.read_csv('https://nyu.box.com/shared/static/1zdvfmpy5452nqdlb5b1yho6m3bdihk9.csv')\n",
    "df"
   ]
  },
  {
   "cell_type": "code",
   "execution_count": 26,
   "metadata": {
    "scrolled": false,
    "slideshow": {
     "slide_type": "subslide"
    }
   },
   "outputs": [
    {
     "data": {
      "text/html": [
       "<div>\n",
       "<style scoped>\n",
       "    .dataframe tbody tr th:only-of-type {\n",
       "        vertical-align: middle;\n",
       "    }\n",
       "\n",
       "    .dataframe tbody tr th {\n",
       "        vertical-align: top;\n",
       "    }\n",
       "\n",
       "    .dataframe thead th {\n",
       "        text-align: right;\n",
       "    }\n",
       "</style>\n",
       "<table border=\"1\" class=\"dataframe\">\n",
       "  <thead>\n",
       "    <tr style=\"text-align: right;\">\n",
       "      <th></th>\n",
       "      <th>content</th>\n",
       "      <th>sentiment</th>\n",
       "    </tr>\n",
       "  </thead>\n",
       "  <tbody>\n",
       "    <tr>\n",
       "      <th>94</th>\n",
       "      <td>I am in favor of the proposed modification.  Under the umbrella of Service Animal, all should be trained.  This protects the traveling public.This is best for the animals as well.  Unlike a trained Service Animal an untrained ESA may be stressed in an unfamiliar environment.This is a win for all Travelers.</td>\n",
       "      <td>0.900000</td>\n",
       "    </tr>\n",
       "    <tr>\n",
       "      <th>46</th>\n",
       "      <td>I dont think size limits should be imposed. that would exclude many great dane service dog partnerships from traveling. Great Danes are used for mobility and stability for those with balance disorders, MS, Parkinson's, etc.</td>\n",
       "      <td>0.700000</td>\n",
       "    </tr>\n",
       "    <tr>\n",
       "      <th>41</th>\n",
       "      <td>Please help keep our flights safe by removing untrained ESAs. Thank you!</td>\n",
       "      <td>0.625000</td>\n",
       "    </tr>\n",
       "    <tr>\n",
       "      <th>311</th>\n",
       "      <td>Please require service animals to meet more requirements, be registered as service animals with Carriers.  There are many passengers who abuse the SVAN and ESAN programs.</td>\n",
       "      <td>0.500000</td>\n",
       "    </tr>\n",
       "    <tr>\n",
       "      <th>201</th>\n",
       "      <td>There needs to be more strict rules, however  what will now stop the perpetrator from stating that it's a service animal,what will be in place for that.</td>\n",
       "      <td>0.500000</td>\n",
       "    </tr>\n",
       "    <tr>\n",
       "      <th>...</th>\n",
       "      <td>...</td>\n",
       "      <td>...</td>\n",
       "    </tr>\n",
       "    <tr>\n",
       "      <th>107</th>\n",
       "      <td>We deal with passengers everyday with fake letters purchased from a website like esa.com The animals are out of control. There should b a verification process proof of training.</td>\n",
       "      <td>-0.350000</td>\n",
       "    </tr>\n",
       "    <tr>\n",
       "      <th>447</th>\n",
       "      <td>Dogs and cats can't even catch corona!  This rule is ridiculous and will negatively affect A LOT of people!</td>\n",
       "      <td>-0.354167</td>\n",
       "    </tr>\n",
       "    <tr>\n",
       "      <th>219</th>\n",
       "      <td>yes please  eliminate fake service animals from flights. as a person who suffers from a severe allergy to cats, there is no reason to have one onboard a plane. take the train . ride a bus ,walk.the only animals allowed in air cabins should be seeing eye dogs .......period....</td>\n",
       "      <td>-0.366667</td>\n",
       "    </tr>\n",
       "    <tr>\n",
       "      <th>411</th>\n",
       "      <td>The emotional support animals need to STOP!!!!  It's out of control  as they are fake.   Please take a stand against these people that are abusing the system!!</td>\n",
       "      <td>-0.390625</td>\n",
       "    </tr>\n",
       "    <tr>\n",
       "      <th>481</th>\n",
       "      <td>No!!! Animal in the cabin.... What wrong with under the plane, They have always flew in the belly of plane!!!!!</td>\n",
       "      <td>-1.000000</td>\n",
       "    </tr>\n",
       "  </tbody>\n",
       "</table>\n",
       "<p>498 rows × 2 columns</p>\n",
       "</div>"
      ],
      "text/plain": [
       "                                                                                                                                                                                                                                                                                                                 content  \\\n",
       "94   I am in favor of the proposed modification.  Under the umbrella of Service Animal, all should be trained.  This protects the traveling public.This is best for the animals as well.  Unlike a trained Service Animal an untrained ESA may be stressed in an unfamiliar environment.This is a win for all Travelers.   \n",
       "46                                                                                       I dont think size limits should be imposed. that would exclude many great dane service dog partnerships from traveling. Great Danes are used for mobility and stability for those with balance disorders, MS, Parkinson's, etc.   \n",
       "41                                                                                                                                                                                                                                              Please help keep our flights safe by removing untrained ESAs. Thank you!   \n",
       "311                                                                                                                                         Please require service animals to meet more requirements, be registered as service animals with Carriers.  There are many passengers who abuse the SVAN and ESAN programs.     \n",
       "201                                                                                                                                                             There needs to be more strict rules, however  what will now stop the perpetrator from stating that it's a service animal,what will be in place for that.   \n",
       "..                                                                                                                                                                                                                                                                                                                   ...   \n",
       "107                                                                                                                                    We deal with passengers everyday with fake letters purchased from a website like esa.com The animals are out of control. There should b a verification process proof of training.   \n",
       "447                                                                                                                                                                                                         Dogs and cats can't even catch corona!  This rule is ridiculous and will negatively affect A LOT of people!    \n",
       "219                                 yes please  eliminate fake service animals from flights. as a person who suffers from a severe allergy to cats, there is no reason to have one onboard a plane. take the train . ride a bus ,walk.the only animals allowed in air cabins should be seeing eye dogs .......period....   \n",
       "411                                                                                                                                                      The emotional support animals need to STOP!!!!  It's out of control  as they are fake.   Please take a stand against these people that are abusing the system!!   \n",
       "481                                                                                                                                                                                                      No!!! Animal in the cabin.... What wrong with under the plane, They have always flew in the belly of plane!!!!!   \n",
       "\n",
       "     sentiment  \n",
       "94    0.900000  \n",
       "46    0.700000  \n",
       "41    0.625000  \n",
       "311   0.500000  \n",
       "201   0.500000  \n",
       "..         ...  \n",
       "107  -0.350000  \n",
       "447  -0.354167  \n",
       "219  -0.366667  \n",
       "411  -0.390625  \n",
       "481  -1.000000  \n",
       "\n",
       "[498 rows x 2 columns]"
      ]
     },
     "execution_count": 26,
     "metadata": {},
     "output_type": "execute_result"
    }
   ],
   "source": [
    "from textblob import TextBlob\n",
    "\n",
    "\n",
    "def sentiment(row):\n",
    "    blob = TextBlob(row.content)\n",
    "    return blob.sentiment.polarity\n",
    "\n",
    "df['sentiment'] = df.apply(sentiment, axis=1)\n",
    "sentiments = df[['content', 'sentiment']]\n",
    "sentiments.sort_values('sentiment', ascending=False)"
   ]
  },
  {
   "cell_type": "code",
   "execution_count": 27,
   "metadata": {},
   "outputs": [
    {
     "data": {
      "text/plain": [
       "317"
      ]
     },
     "execution_count": 27,
     "metadata": {},
     "output_type": "execute_result"
    }
   ],
   "source": [
    "sentiments[sentiments.sentiment > 0].shape[0]"
   ]
  },
  {
   "cell_type": "code",
   "execution_count": 28,
   "metadata": {},
   "outputs": [
    {
     "data": {
      "application/vnd.plotly.v1+json": {
       "config": {
        "plotlyServerURL": "https://plot.ly"
       },
       "data": [
        {
         "alignmentgroup": "True",
         "bingroup": "x",
         "hovertemplate": "sentiment=%{x}<br>count=%{y}<extra></extra>",
         "legendgroup": "",
         "marker": {
          "color": "#636efa"
         },
         "name": "",
         "offsetgroup": "",
         "orientation": "v",
         "showlegend": false,
         "type": "histogram",
         "x": [
          0.0031250000000000028,
          0.011646825396825404,
          0.01547619047619048,
          0.0905701754385965,
          0.19261083743842364,
          0,
          0.04423354423354422,
          0.09292929292929292,
          0.08863636363636364,
          0.24000000000000005,
          0.12620879120879122,
          0.11095238095238094,
          0.24362244897959182,
          0.13449197860962567,
          0.03782467532467532,
          -0.09242424242424242,
          0.35,
          0.05454545454545456,
          0.1625,
          0.24909090909090909,
          0.18571428571428572,
          0.12142857142857146,
          0.18636363636363634,
          0.044214876033057855,
          0.31789772727272736,
          0.34,
          0.14071428571428574,
          0.20044642857142858,
          0.054411764705882354,
          0.1399350649350649,
          0.25555555555555554,
          0.2571428571428571,
          -0.1675,
          0.12499999999999997,
          0.11428571428571431,
          0.08080357142857143,
          0.12916666666666668,
          0.2941228693181819,
          0,
          0.13573162948162948,
          0.2333333333333333,
          0.625,
          0.10332792207792207,
          0.10089285714285717,
          0.04681818181818182,
          -0.16615646258503403,
          0.7000000000000001,
          0,
          0.14976190476190476,
          0,
          -0.05833333333333333,
          -0.00362103174603174,
          0.06818181818181818,
          0.013160173160173164,
          -0.044747899159663866,
          0.049999999999999996,
          -0.025,
          0.016666666666666666,
          0.07833333333333332,
          -0.07905844155844156,
          0.3166666666666667,
          -0.020454545454545454,
          0.08285742035742036,
          0.00884920634920635,
          0.25,
          0.08220899470899472,
          0.1787878787878788,
          -0.021890589569161005,
          0.20803872053872055,
          0.1,
          0.32,
          0,
          0.05238095238095238,
          -0.01964285714285715,
          0.21666666666666667,
          0,
          0.12631313131313132,
          0.11000000000000001,
          0.12468749999999999,
          0,
          0.043181818181818175,
          0.125,
          -0.06249999999999999,
          0.21666666666666665,
          -0.048106060606060604,
          0.125,
          0.12036796536796533,
          0.2771694214876033,
          -0.25,
          0.020293209876543216,
          0.15466666666666665,
          0.07646367521367521,
          -0.1,
          0.126171875,
          0.9,
          -0.325,
          0,
          0.13901098901098902,
          -0.038461538461538464,
          0.06458333333333333,
          -0.16666666666666666,
          -0.02,
          0.1398148148148148,
          0.25,
          -0.23928571428571427,
          0,
          0.075,
          -0.35,
          0,
          0.017187499999999994,
          -0.29999999999999993,
          0,
          0.05545454545454545,
          -0.25,
          0.12222222222222223,
          0.26666666666666666,
          0,
          0.08214285714285714,
          0.013333333333333341,
          0.16999999999999998,
          -0.03418367346938776,
          0,
          0.06168154761904763,
          0.09464285714285714,
          -0.09375,
          -0.02797619047619048,
          0.3375,
          0.11634920634920637,
          -0.00416666666666667,
          -0.024074074074074067,
          0.0475,
          0.3314285714285714,
          0.2,
          0.14285714285714285,
          -0.06499999999999999,
          0.1273148148148148,
          0.19999999999999998,
          0.06666666666666668,
          0.01506410256410256,
          0.11666666666666665,
          0.054706101190476225,
          0.07658730158730159,
          -0.05148809523809524,
          0.05333333333333336,
          0,
          0.05714285714285714,
          -0.010113636363636363,
          0.1695887445887446,
          0.20000000000000004,
          0.11500000000000002,
          0.11000000000000001,
          -0.01829176114890401,
          -0.09583333333333334,
          0,
          0.09523809523809523,
          0.125,
          0.12468749999999999,
          0,
          0.08031751294682331,
          0.5,
          0.2484848484848485,
          0.15416666666666665,
          0.06714423076923076,
          0.11224489795918367,
          0.2527777777777778,
          0.014743589743589738,
          -0.0415532879818594,
          -0.011845238095238091,
          0.027450980392156862,
          0.10714285714285714,
          -0.056666666666666664,
          0.13333333333333333,
          0.040521978021978024,
          -0.13,
          0.16446867321867317,
          -0.03665413533834586,
          -0.008588435374149656,
          0.19999999999999998,
          0.012744058662426007,
          0.26666666666666666,
          0.12368299196657409,
          0.07086283340315597,
          0.10416666666666667,
          0.25,
          0.23700000000000002,
          0.5,
          0.15574314574314577,
          0,
          -0.031818181818181815,
          0.06436688311688313,
          0.1885204081632653,
          0.15833333333333333,
          -0.054393939393939376,
          0.04425413022351797,
          0.1095703125,
          0.19999999999999998,
          -0.024837662337662325,
          0,
          0.14795918367346936,
          0.08333333333333333,
          -0.08035714285714285,
          0.5,
          0.2391025641025641,
          0.11875,
          0.0900267857142857,
          -0.2376470588235294,
          0,
          -0.025,
          0.04126984126984127,
          0.1135374149659864,
          -0.16666666666666666,
          -0.0638095238095238,
          0.19142857142857142,
          0,
          0.06923076923076923,
          0.1625,
          -0.0625,
          0.027435064935064958,
          0.0966966966966967,
          -0.3666666666666667,
          -0.019791666666666673,
          0.08186813186813187,
          0.2681818181818182,
          0.21666666666666667,
          0.13108108108108107,
          0,
          0.17777777777777776,
          -0.0625,
          0.08446031746031749,
          0.05396825396825397,
          0.0018939393939393738,
          -0.06403508771929822,
          0.004710144927536236,
          0.19166666666666665,
          0.04236111111111111,
          0.01236263736263737,
          -0.3,
          0.029166666666666674,
          -0.011111111111111113,
          0.22632090132090135,
          0.2603896103896104,
          -0.009016290726817046,
          0.05852241628103699,
          0.006145833333333326,
          -0.05548245614035087,
          -0.10833333333333331,
          0.05225556053142261,
          0.12,
          0.004166666666666663,
          0.06963684463684462,
          0.17183956916099774,
          0,
          -0.2874999999999999,
          0,
          0.015000000000000003,
          0.058333333333333334,
          0.25333333333333335,
          -0.06560846560846562,
          0.12649572649572646,
          -0.012226512226512233,
          -0.08750000000000001,
          0.037307692307692306,
          0.03470695970695973,
          0.09642857142857143,
          0.32,
          -0.125,
          -0.08472222222222221,
          0,
          -0.15625,
          0,
          -0.0625,
          0.02831196581196583,
          0.25833333333333336,
          0.08257575757575757,
          0,
          -0.06794642857142857,
          -0.10000000000000002,
          0.12148148148148147,
          0.1903846153846154,
          0.16792929292929293,
          -0.11008403361344536,
          0.34218750000000003,
          0.20961538461538462,
          0.09999999999999999,
          0,
          0.17007575757575755,
          0.11806818181818182,
          0.08321204657411556,
          0.0812950937950938,
          0.14625843454790824,
          0.020833333333333325,
          0.19444444444444448,
          0.2682328385899814,
          -0.07043650793650794,
          0.3476470588235294,
          0.06992845117845119,
          0.14811958874458872,
          0,
          0.23238095238095235,
          0.275,
          0.09666666666666668,
          -0.24642857142857144,
          -0.06000000000000001,
          0.028571428571428577,
          0.175,
          -0.05555555555555556,
          -0.044000000000000004,
          0.10853174603174602,
          -0.25,
          0.2851851851851852,
          0.039999999999999994,
          0.5,
          0.12376863876863878,
          -0.01064814814814815,
          0,
          -0.20833333333333334,
          -0.013888888888888886,
          -0.08750000000000001,
          0.09444444444444444,
          0.06333333333333332,
          -0.028409090909090905,
          -0.020833333333333332,
          0.22448979591836732,
          -0.13877551020408166,
          0.11277281746031746,
          -0.023299319727891156,
          0.010714285714285716,
          0.11326923076923077,
          0,
          0,
          -0.03571428571428571,
          -0.065,
          0.2089285714285714,
          0.08329670329670329,
          0,
          0.1460757314974182,
          0.06791666666666668,
          -0.14357142857142854,
          -0.04375,
          -0.02749999999999994,
          0.06399350649350649,
          0.075,
          0.1888888888888889,
          0,
          0.07142857142857142,
          -0.04833333333333332,
          0.2814814814814815,
          0.009523809523809537,
          0,
          0,
          0.16666666666666666,
          0.02187500000000006,
          0.00641025641025642,
          0.16818181818181818,
          -0.08333333333333333,
          0.14625843454790824,
          -0.008125000000000004,
          0.15756172839506172,
          0.09558823529411764,
          0.27111111111111114,
          0.08,
          0.4454545454545455,
          0.01004329004329003,
          0.03796296296296297,
          0.06834415584415585,
          0.18333333333333332,
          0.02589285714285714,
          0.11201298701298702,
          -0.016666666666666663,
          0.002564102564102564,
          0.0035714285714285657,
          0.42000000000000004,
          -0.15000000000000002,
          0,
          0.011363636363636364,
          0.2729166666666667,
          0.06593406593406594,
          0.27881944444444445,
          0,
          -0.04446601104209801,
          0.056679035250463826,
          0.07315361406270497,
          -0.12666666666666668,
          0.004761904761904763,
          -0.06875,
          0.05333333333333334,
          0.08333333333333333,
          0.06666666666666665,
          0.2,
          -0.14754901960784314,
          0.19300144300144298,
          0.19333333333333336,
          0,
          0.10833333333333332,
          0.11666666666666665,
          0.4,
          0.0820869990224829,
          0.06851073762838468,
          0,
          -0.0677827380952381,
          -0.125,
          -0.018095238095238098,
          0.08958333333333333,
          0.038839285714285715,
          0.049702380952380956,
          -0.04330357142857142,
          0.325,
          0.14571428571428574,
          0.09999999999999999,
          0.19333333333333333,
          -0.03166666666666666,
          -0.390625,
          -0.016666666666666666,
          -0.1464285714285714,
          0.125,
          0.215625,
          0.2491071428571429,
          0,
          0,
          -0.06597222222222221,
          -0.03125,
          0.1277777777777778,
          0.12357142857142855,
          0.15833333333333333,
          -0.15,
          -0.02727272727272727,
          0,
          0,
          0.04814814814814815,
          -0.1142857142857143,
          -0.020454545454545454,
          0.14583333333333334,
          0,
          0,
          0,
          0,
          0,
          0.14110436347278457,
          0.11111111111111109,
          0.04285714285714286,
          0.11111111111111112,
          0.08069828722002631,
          0.06666666666666667,
          0.36038961038961037,
          0.14428571428571427,
          -0.0008403361344537785,
          0.06271472488863794,
          -0.35416666666666663,
          0.05833333333333334,
          0,
          0,
          0.06100931677018634,
          -0.3,
          0.4666666666666666,
          0.18819444444444447,
          0.09999116624116623,
          -0.24999999999999997,
          0.11648550724637681,
          0.17847222222222223,
          0.14916666666666667,
          0.0625,
          0.24291666666666667,
          0.26153846153846155,
          -0.075,
          0.07260802469135802,
          0.06275510204081633,
          -0.019999999999999997,
          0.1153968253968254,
          0.07411616161616162,
          -0.05166666666666666,
          0.2,
          0,
          -0.19999999999999998,
          0.029383680555555555,
          0.0004960317460317535,
          0.12952073646518092,
          -0.012727272727272731,
          0.05,
          0.15959595959595962,
          -0.15000000000000002,
          0.038095238095238106,
          -1,
          -0.05050505050505049,
          -0.10572916666666665,
          -0.019444444444444448,
          -0.3,
          0.11269841269841269,
          -0.05833333333333333,
          -0.00362103174603174,
          0.06818181818181818,
          0.013160173160173164,
          -0.044747899159663866,
          0.049999999999999996,
          -0.025,
          0.016666666666666666,
          0.07833333333333332,
          -0.07905844155844156,
          0.3166666666666667
         ],
         "xaxis": "x",
         "yaxis": "y"
        }
       ],
       "layout": {
        "barmode": "relative",
        "legend": {
         "tracegroupgap": 0
        },
        "margin": {
         "t": 60
        },
        "template": {
         "data": {
          "bar": [
           {
            "error_x": {
             "color": "#2a3f5f"
            },
            "error_y": {
             "color": "#2a3f5f"
            },
            "marker": {
             "line": {
              "color": "#E5ECF6",
              "width": 0.5
             }
            },
            "type": "bar"
           }
          ],
          "barpolar": [
           {
            "marker": {
             "line": {
              "color": "#E5ECF6",
              "width": 0.5
             }
            },
            "type": "barpolar"
           }
          ],
          "carpet": [
           {
            "aaxis": {
             "endlinecolor": "#2a3f5f",
             "gridcolor": "white",
             "linecolor": "white",
             "minorgridcolor": "white",
             "startlinecolor": "#2a3f5f"
            },
            "baxis": {
             "endlinecolor": "#2a3f5f",
             "gridcolor": "white",
             "linecolor": "white",
             "minorgridcolor": "white",
             "startlinecolor": "#2a3f5f"
            },
            "type": "carpet"
           }
          ],
          "choropleth": [
           {
            "colorbar": {
             "outlinewidth": 0,
             "ticks": ""
            },
            "type": "choropleth"
           }
          ],
          "contour": [
           {
            "colorbar": {
             "outlinewidth": 0,
             "ticks": ""
            },
            "colorscale": [
             [
              0,
              "#0d0887"
             ],
             [
              0.1111111111111111,
              "#46039f"
             ],
             [
              0.2222222222222222,
              "#7201a8"
             ],
             [
              0.3333333333333333,
              "#9c179e"
             ],
             [
              0.4444444444444444,
              "#bd3786"
             ],
             [
              0.5555555555555556,
              "#d8576b"
             ],
             [
              0.6666666666666666,
              "#ed7953"
             ],
             [
              0.7777777777777778,
              "#fb9f3a"
             ],
             [
              0.8888888888888888,
              "#fdca26"
             ],
             [
              1,
              "#f0f921"
             ]
            ],
            "type": "contour"
           }
          ],
          "contourcarpet": [
           {
            "colorbar": {
             "outlinewidth": 0,
             "ticks": ""
            },
            "type": "contourcarpet"
           }
          ],
          "heatmap": [
           {
            "colorbar": {
             "outlinewidth": 0,
             "ticks": ""
            },
            "colorscale": [
             [
              0,
              "#0d0887"
             ],
             [
              0.1111111111111111,
              "#46039f"
             ],
             [
              0.2222222222222222,
              "#7201a8"
             ],
             [
              0.3333333333333333,
              "#9c179e"
             ],
             [
              0.4444444444444444,
              "#bd3786"
             ],
             [
              0.5555555555555556,
              "#d8576b"
             ],
             [
              0.6666666666666666,
              "#ed7953"
             ],
             [
              0.7777777777777778,
              "#fb9f3a"
             ],
             [
              0.8888888888888888,
              "#fdca26"
             ],
             [
              1,
              "#f0f921"
             ]
            ],
            "type": "heatmap"
           }
          ],
          "heatmapgl": [
           {
            "colorbar": {
             "outlinewidth": 0,
             "ticks": ""
            },
            "colorscale": [
             [
              0,
              "#0d0887"
             ],
             [
              0.1111111111111111,
              "#46039f"
             ],
             [
              0.2222222222222222,
              "#7201a8"
             ],
             [
              0.3333333333333333,
              "#9c179e"
             ],
             [
              0.4444444444444444,
              "#bd3786"
             ],
             [
              0.5555555555555556,
              "#d8576b"
             ],
             [
              0.6666666666666666,
              "#ed7953"
             ],
             [
              0.7777777777777778,
              "#fb9f3a"
             ],
             [
              0.8888888888888888,
              "#fdca26"
             ],
             [
              1,
              "#f0f921"
             ]
            ],
            "type": "heatmapgl"
           }
          ],
          "histogram": [
           {
            "marker": {
             "colorbar": {
              "outlinewidth": 0,
              "ticks": ""
             }
            },
            "type": "histogram"
           }
          ],
          "histogram2d": [
           {
            "colorbar": {
             "outlinewidth": 0,
             "ticks": ""
            },
            "colorscale": [
             [
              0,
              "#0d0887"
             ],
             [
              0.1111111111111111,
              "#46039f"
             ],
             [
              0.2222222222222222,
              "#7201a8"
             ],
             [
              0.3333333333333333,
              "#9c179e"
             ],
             [
              0.4444444444444444,
              "#bd3786"
             ],
             [
              0.5555555555555556,
              "#d8576b"
             ],
             [
              0.6666666666666666,
              "#ed7953"
             ],
             [
              0.7777777777777778,
              "#fb9f3a"
             ],
             [
              0.8888888888888888,
              "#fdca26"
             ],
             [
              1,
              "#f0f921"
             ]
            ],
            "type": "histogram2d"
           }
          ],
          "histogram2dcontour": [
           {
            "colorbar": {
             "outlinewidth": 0,
             "ticks": ""
            },
            "colorscale": [
             [
              0,
              "#0d0887"
             ],
             [
              0.1111111111111111,
              "#46039f"
             ],
             [
              0.2222222222222222,
              "#7201a8"
             ],
             [
              0.3333333333333333,
              "#9c179e"
             ],
             [
              0.4444444444444444,
              "#bd3786"
             ],
             [
              0.5555555555555556,
              "#d8576b"
             ],
             [
              0.6666666666666666,
              "#ed7953"
             ],
             [
              0.7777777777777778,
              "#fb9f3a"
             ],
             [
              0.8888888888888888,
              "#fdca26"
             ],
             [
              1,
              "#f0f921"
             ]
            ],
            "type": "histogram2dcontour"
           }
          ],
          "mesh3d": [
           {
            "colorbar": {
             "outlinewidth": 0,
             "ticks": ""
            },
            "type": "mesh3d"
           }
          ],
          "parcoords": [
           {
            "line": {
             "colorbar": {
              "outlinewidth": 0,
              "ticks": ""
             }
            },
            "type": "parcoords"
           }
          ],
          "pie": [
           {
            "automargin": true,
            "type": "pie"
           }
          ],
          "scatter": [
           {
            "marker": {
             "colorbar": {
              "outlinewidth": 0,
              "ticks": ""
             }
            },
            "type": "scatter"
           }
          ],
          "scatter3d": [
           {
            "line": {
             "colorbar": {
              "outlinewidth": 0,
              "ticks": ""
             }
            },
            "marker": {
             "colorbar": {
              "outlinewidth": 0,
              "ticks": ""
             }
            },
            "type": "scatter3d"
           }
          ],
          "scattercarpet": [
           {
            "marker": {
             "colorbar": {
              "outlinewidth": 0,
              "ticks": ""
             }
            },
            "type": "scattercarpet"
           }
          ],
          "scattergeo": [
           {
            "marker": {
             "colorbar": {
              "outlinewidth": 0,
              "ticks": ""
             }
            },
            "type": "scattergeo"
           }
          ],
          "scattergl": [
           {
            "marker": {
             "colorbar": {
              "outlinewidth": 0,
              "ticks": ""
             }
            },
            "type": "scattergl"
           }
          ],
          "scattermapbox": [
           {
            "marker": {
             "colorbar": {
              "outlinewidth": 0,
              "ticks": ""
             }
            },
            "type": "scattermapbox"
           }
          ],
          "scatterpolar": [
           {
            "marker": {
             "colorbar": {
              "outlinewidth": 0,
              "ticks": ""
             }
            },
            "type": "scatterpolar"
           }
          ],
          "scatterpolargl": [
           {
            "marker": {
             "colorbar": {
              "outlinewidth": 0,
              "ticks": ""
             }
            },
            "type": "scatterpolargl"
           }
          ],
          "scatterternary": [
           {
            "marker": {
             "colorbar": {
              "outlinewidth": 0,
              "ticks": ""
             }
            },
            "type": "scatterternary"
           }
          ],
          "surface": [
           {
            "colorbar": {
             "outlinewidth": 0,
             "ticks": ""
            },
            "colorscale": [
             [
              0,
              "#0d0887"
             ],
             [
              0.1111111111111111,
              "#46039f"
             ],
             [
              0.2222222222222222,
              "#7201a8"
             ],
             [
              0.3333333333333333,
              "#9c179e"
             ],
             [
              0.4444444444444444,
              "#bd3786"
             ],
             [
              0.5555555555555556,
              "#d8576b"
             ],
             [
              0.6666666666666666,
              "#ed7953"
             ],
             [
              0.7777777777777778,
              "#fb9f3a"
             ],
             [
              0.8888888888888888,
              "#fdca26"
             ],
             [
              1,
              "#f0f921"
             ]
            ],
            "type": "surface"
           }
          ],
          "table": [
           {
            "cells": {
             "fill": {
              "color": "#EBF0F8"
             },
             "line": {
              "color": "white"
             }
            },
            "header": {
             "fill": {
              "color": "#C8D4E3"
             },
             "line": {
              "color": "white"
             }
            },
            "type": "table"
           }
          ]
         },
         "layout": {
          "annotationdefaults": {
           "arrowcolor": "#2a3f5f",
           "arrowhead": 0,
           "arrowwidth": 1
          },
          "coloraxis": {
           "colorbar": {
            "outlinewidth": 0,
            "ticks": ""
           }
          },
          "colorscale": {
           "diverging": [
            [
             0,
             "#8e0152"
            ],
            [
             0.1,
             "#c51b7d"
            ],
            [
             0.2,
             "#de77ae"
            ],
            [
             0.3,
             "#f1b6da"
            ],
            [
             0.4,
             "#fde0ef"
            ],
            [
             0.5,
             "#f7f7f7"
            ],
            [
             0.6,
             "#e6f5d0"
            ],
            [
             0.7,
             "#b8e186"
            ],
            [
             0.8,
             "#7fbc41"
            ],
            [
             0.9,
             "#4d9221"
            ],
            [
             1,
             "#276419"
            ]
           ],
           "sequential": [
            [
             0,
             "#0d0887"
            ],
            [
             0.1111111111111111,
             "#46039f"
            ],
            [
             0.2222222222222222,
             "#7201a8"
            ],
            [
             0.3333333333333333,
             "#9c179e"
            ],
            [
             0.4444444444444444,
             "#bd3786"
            ],
            [
             0.5555555555555556,
             "#d8576b"
            ],
            [
             0.6666666666666666,
             "#ed7953"
            ],
            [
             0.7777777777777778,
             "#fb9f3a"
            ],
            [
             0.8888888888888888,
             "#fdca26"
            ],
            [
             1,
             "#f0f921"
            ]
           ],
           "sequentialminus": [
            [
             0,
             "#0d0887"
            ],
            [
             0.1111111111111111,
             "#46039f"
            ],
            [
             0.2222222222222222,
             "#7201a8"
            ],
            [
             0.3333333333333333,
             "#9c179e"
            ],
            [
             0.4444444444444444,
             "#bd3786"
            ],
            [
             0.5555555555555556,
             "#d8576b"
            ],
            [
             0.6666666666666666,
             "#ed7953"
            ],
            [
             0.7777777777777778,
             "#fb9f3a"
            ],
            [
             0.8888888888888888,
             "#fdca26"
            ],
            [
             1,
             "#f0f921"
            ]
           ]
          },
          "colorway": [
           "#636efa",
           "#EF553B",
           "#00cc96",
           "#ab63fa",
           "#FFA15A",
           "#19d3f3",
           "#FF6692",
           "#B6E880",
           "#FF97FF",
           "#FECB52"
          ],
          "font": {
           "color": "#2a3f5f"
          },
          "geo": {
           "bgcolor": "white",
           "lakecolor": "white",
           "landcolor": "#E5ECF6",
           "showlakes": true,
           "showland": true,
           "subunitcolor": "white"
          },
          "hoverlabel": {
           "align": "left"
          },
          "hovermode": "closest",
          "mapbox": {
           "style": "light"
          },
          "paper_bgcolor": "white",
          "plot_bgcolor": "#E5ECF6",
          "polar": {
           "angularaxis": {
            "gridcolor": "white",
            "linecolor": "white",
            "ticks": ""
           },
           "bgcolor": "#E5ECF6",
           "radialaxis": {
            "gridcolor": "white",
            "linecolor": "white",
            "ticks": ""
           }
          },
          "scene": {
           "xaxis": {
            "backgroundcolor": "#E5ECF6",
            "gridcolor": "white",
            "gridwidth": 2,
            "linecolor": "white",
            "showbackground": true,
            "ticks": "",
            "zerolinecolor": "white"
           },
           "yaxis": {
            "backgroundcolor": "#E5ECF6",
            "gridcolor": "white",
            "gridwidth": 2,
            "linecolor": "white",
            "showbackground": true,
            "ticks": "",
            "zerolinecolor": "white"
           },
           "zaxis": {
            "backgroundcolor": "#E5ECF6",
            "gridcolor": "white",
            "gridwidth": 2,
            "linecolor": "white",
            "showbackground": true,
            "ticks": "",
            "zerolinecolor": "white"
           }
          },
          "shapedefaults": {
           "line": {
            "color": "#2a3f5f"
           }
          },
          "ternary": {
           "aaxis": {
            "gridcolor": "white",
            "linecolor": "white",
            "ticks": ""
           },
           "baxis": {
            "gridcolor": "white",
            "linecolor": "white",
            "ticks": ""
           },
           "bgcolor": "#E5ECF6",
           "caxis": {
            "gridcolor": "white",
            "linecolor": "white",
            "ticks": ""
           }
          },
          "title": {
           "x": 0.05
          },
          "xaxis": {
           "automargin": true,
           "gridcolor": "white",
           "linecolor": "white",
           "ticks": "",
           "title": {
            "standoff": 15
           },
           "zerolinecolor": "white",
           "zerolinewidth": 2
          },
          "yaxis": {
           "automargin": true,
           "gridcolor": "white",
           "linecolor": "white",
           "ticks": "",
           "title": {
            "standoff": 15
           },
           "zerolinecolor": "white",
           "zerolinewidth": 2
          }
         }
        },
        "xaxis": {
         "anchor": "y",
         "domain": [
          0,
          1
         ],
         "title": {
          "text": "sentiment"
         }
        },
        "yaxis": {
         "anchor": "x",
         "domain": [
          0,
          1
         ],
         "title": {
          "text": "count"
         }
        }
       }
      },
      "text/html": [
       "<div>\n",
       "        \n",
       "        \n",
       "            <div id=\"11bd0491-976b-4b40-af1f-588940e8250d\" class=\"plotly-graph-div\" style=\"height:525px; width:100%;\"></div>\n",
       "            <script type=\"text/javascript\">\n",
       "                require([\"plotly\"], function(Plotly) {\n",
       "                    window.PLOTLYENV=window.PLOTLYENV || {};\n",
       "                    \n",
       "                if (document.getElementById(\"11bd0491-976b-4b40-af1f-588940e8250d\")) {\n",
       "                    Plotly.newPlot(\n",
       "                        '11bd0491-976b-4b40-af1f-588940e8250d',\n",
       "                        [{\"alignmentgroup\": \"True\", \"bingroup\": \"x\", \"hovertemplate\": \"sentiment=%{x}<br>count=%{y}<extra></extra>\", \"legendgroup\": \"\", \"marker\": {\"color\": \"#636efa\"}, \"name\": \"\", \"offsetgroup\": \"\", \"orientation\": \"v\", \"showlegend\": false, \"type\": \"histogram\", \"x\": [0.0031250000000000028, 0.011646825396825404, 0.01547619047619048, 0.0905701754385965, 0.19261083743842364, 0.0, 0.04423354423354422, 0.09292929292929292, 0.08863636363636364, 0.24000000000000005, 0.12620879120879122, 0.11095238095238094, 0.24362244897959182, 0.13449197860962567, 0.03782467532467532, -0.09242424242424242, 0.35, 0.05454545454545456, 0.1625, 0.24909090909090909, 0.18571428571428572, 0.12142857142857146, 0.18636363636363634, 0.044214876033057855, 0.31789772727272736, 0.34, 0.14071428571428574, 0.20044642857142858, 0.054411764705882354, 0.1399350649350649, 0.25555555555555554, 0.2571428571428571, -0.1675, 0.12499999999999997, 0.11428571428571431, 0.08080357142857143, 0.12916666666666668, 0.2941228693181819, 0.0, 0.13573162948162948, 0.2333333333333333, 0.625, 0.10332792207792207, 0.10089285714285717, 0.04681818181818182, -0.16615646258503403, 0.7000000000000001, 0.0, 0.14976190476190476, 0.0, -0.05833333333333333, -0.00362103174603174, 0.06818181818181818, 0.013160173160173164, -0.044747899159663866, 0.049999999999999996, -0.025, 0.016666666666666666, 0.07833333333333332, -0.07905844155844156, 0.3166666666666667, -0.020454545454545454, 0.08285742035742036, 0.00884920634920635, 0.25, 0.08220899470899472, 0.1787878787878788, -0.021890589569161005, 0.20803872053872055, 0.1, 0.32, 0.0, 0.05238095238095238, -0.01964285714285715, 0.21666666666666667, 0.0, 0.12631313131313132, 0.11000000000000001, 0.12468749999999999, 0.0, 0.043181818181818175, 0.125, -0.06249999999999999, 0.21666666666666665, -0.048106060606060604, 0.125, 0.12036796536796533, 0.2771694214876033, -0.25, 0.020293209876543216, 0.15466666666666665, 0.07646367521367521, -0.1, 0.126171875, 0.9, -0.325, 0.0, 0.13901098901098902, -0.038461538461538464, 0.06458333333333333, -0.16666666666666666, -0.02, 0.1398148148148148, 0.25, -0.23928571428571427, 0.0, 0.075, -0.35, 0.0, 0.017187499999999994, -0.29999999999999993, 0.0, 0.05545454545454545, -0.25, 0.12222222222222223, 0.26666666666666666, 0.0, 0.08214285714285714, 0.013333333333333341, 0.16999999999999998, -0.03418367346938776, 0.0, 0.06168154761904763, 0.09464285714285714, -0.09375, -0.02797619047619048, 0.3375, 0.11634920634920637, -0.00416666666666667, -0.024074074074074067, 0.0475, 0.3314285714285714, 0.2, 0.14285714285714285, -0.06499999999999999, 0.1273148148148148, 0.19999999999999998, 0.06666666666666668, 0.01506410256410256, 0.11666666666666665, 0.054706101190476225, 0.07658730158730159, -0.05148809523809524, 0.05333333333333336, 0.0, 0.05714285714285714, -0.010113636363636363, 0.1695887445887446, 0.20000000000000004, 0.11500000000000002, 0.11000000000000001, -0.01829176114890401, -0.09583333333333334, 0.0, 0.09523809523809523, 0.125, 0.12468749999999999, 0.0, 0.08031751294682331, 0.5, 0.2484848484848485, 0.15416666666666665, 0.06714423076923076, 0.11224489795918367, 0.2527777777777778, 0.014743589743589738, -0.0415532879818594, -0.011845238095238091, 0.027450980392156862, 0.10714285714285714, -0.056666666666666664, 0.13333333333333333, 0.040521978021978024, -0.13, 0.16446867321867317, -0.03665413533834586, -0.008588435374149656, 0.19999999999999998, 0.012744058662426007, 0.26666666666666666, 0.12368299196657409, 0.07086283340315597, 0.10416666666666667, 0.25, 0.23700000000000002, 0.5, 0.15574314574314577, 0.0, -0.031818181818181815, 0.06436688311688313, 0.1885204081632653, 0.15833333333333333, -0.054393939393939376, 0.04425413022351797, 0.1095703125, 0.19999999999999998, -0.024837662337662325, 0.0, 0.14795918367346936, 0.08333333333333333, -0.08035714285714285, 0.5, 0.2391025641025641, 0.11875, 0.0900267857142857, -0.2376470588235294, 0.0, -0.025, 0.04126984126984127, 0.1135374149659864, -0.16666666666666666, -0.0638095238095238, 0.19142857142857142, 0.0, 0.06923076923076923, 0.1625, -0.0625, 0.027435064935064958, 0.0966966966966967, -0.3666666666666667, -0.019791666666666673, 0.08186813186813187, 0.2681818181818182, 0.21666666666666667, 0.13108108108108107, 0.0, 0.17777777777777776, -0.0625, 0.08446031746031749, 0.05396825396825397, 0.0018939393939393738, -0.06403508771929822, 0.004710144927536236, 0.19166666666666665, 0.04236111111111111, 0.01236263736263737, -0.3, 0.029166666666666674, -0.011111111111111113, 0.22632090132090135, 0.2603896103896104, -0.009016290726817046, 0.05852241628103699, 0.006145833333333326, -0.05548245614035087, -0.10833333333333331, 0.05225556053142261, 0.12, 0.004166666666666663, 0.06963684463684462, 0.17183956916099774, 0.0, -0.2874999999999999, 0.0, 0.015000000000000003, 0.058333333333333334, 0.25333333333333335, -0.06560846560846562, 0.12649572649572646, -0.012226512226512233, -0.08750000000000001, 0.037307692307692306, 0.03470695970695973, 0.09642857142857143, 0.32, -0.125, -0.08472222222222221, 0.0, -0.15625, 0.0, -0.0625, 0.02831196581196583, 0.25833333333333336, 0.08257575757575757, 0.0, -0.06794642857142857, -0.10000000000000002, 0.12148148148148147, 0.1903846153846154, 0.16792929292929293, -0.11008403361344536, 0.34218750000000003, 0.20961538461538462, 0.09999999999999999, 0.0, 0.17007575757575755, 0.11806818181818182, 0.08321204657411556, 0.0812950937950938, 0.14625843454790824, 0.020833333333333325, 0.19444444444444448, 0.2682328385899814, -0.07043650793650794, 0.3476470588235294, 0.06992845117845119, 0.14811958874458872, 0.0, 0.23238095238095235, 0.275, 0.09666666666666668, -0.24642857142857144, -0.06000000000000001, 0.028571428571428577, 0.175, -0.05555555555555556, -0.044000000000000004, 0.10853174603174602, -0.25, 0.2851851851851852, 0.039999999999999994, 0.5, 0.12376863876863878, -0.01064814814814815, 0.0, -0.20833333333333334, -0.013888888888888886, -0.08750000000000001, 0.09444444444444444, 0.06333333333333332, -0.028409090909090905, -0.020833333333333332, 0.22448979591836732, -0.13877551020408166, 0.11277281746031746, -0.023299319727891156, 0.010714285714285716, 0.11326923076923077, 0.0, 0.0, -0.03571428571428571, -0.065, 0.2089285714285714, 0.08329670329670329, 0.0, 0.1460757314974182, 0.06791666666666668, -0.14357142857142854, -0.04375, -0.02749999999999994, 0.06399350649350649, 0.075, 0.1888888888888889, 0.0, 0.07142857142857142, -0.04833333333333332, 0.2814814814814815, 0.009523809523809537, 0.0, 0.0, 0.16666666666666666, 0.02187500000000006, 0.00641025641025642, 0.16818181818181818, -0.08333333333333333, 0.14625843454790824, -0.008125000000000004, 0.15756172839506172, 0.09558823529411764, 0.27111111111111114, 0.08, 0.4454545454545455, 0.01004329004329003, 0.03796296296296297, 0.06834415584415585, 0.18333333333333332, 0.02589285714285714, 0.11201298701298702, -0.016666666666666663, 0.002564102564102564, 0.0035714285714285657, 0.42000000000000004, -0.15000000000000002, 0.0, 0.011363636363636364, 0.2729166666666667, 0.06593406593406594, 0.27881944444444445, 0.0, -0.04446601104209801, 0.056679035250463826, 0.07315361406270497, -0.12666666666666668, 0.004761904761904763, -0.06875, 0.05333333333333334, 0.08333333333333333, 0.06666666666666665, 0.2, -0.14754901960784314, 0.19300144300144298, 0.19333333333333336, 0.0, 0.10833333333333332, 0.11666666666666665, 0.4, 0.0820869990224829, 0.06851073762838468, 0.0, -0.0677827380952381, -0.125, -0.018095238095238098, 0.08958333333333333, 0.038839285714285715, 0.049702380952380956, -0.04330357142857142, 0.325, 0.14571428571428574, 0.09999999999999999, 0.19333333333333333, -0.03166666666666666, -0.390625, -0.016666666666666666, -0.1464285714285714, 0.125, 0.215625, 0.2491071428571429, 0.0, 0.0, -0.06597222222222221, -0.03125, 0.1277777777777778, 0.12357142857142855, 0.15833333333333333, -0.15, -0.02727272727272727, 0.0, 0.0, 0.04814814814814815, -0.1142857142857143, -0.020454545454545454, 0.14583333333333334, 0.0, 0.0, 0.0, 0.0, 0.0, 0.14110436347278457, 0.11111111111111109, 0.04285714285714286, 0.11111111111111112, 0.08069828722002631, 0.06666666666666667, 0.36038961038961037, 0.14428571428571427, -0.0008403361344537785, 0.06271472488863794, -0.35416666666666663, 0.05833333333333334, 0.0, 0.0, 0.06100931677018634, -0.3, 0.4666666666666666, 0.18819444444444447, 0.09999116624116623, -0.24999999999999997, 0.11648550724637681, 0.17847222222222223, 0.14916666666666667, 0.0625, 0.24291666666666667, 0.26153846153846155, -0.075, 0.07260802469135802, 0.06275510204081633, -0.019999999999999997, 0.1153968253968254, 0.07411616161616162, -0.05166666666666666, 0.2, 0.0, -0.19999999999999998, 0.029383680555555555, 0.0004960317460317535, 0.12952073646518092, -0.012727272727272731, 0.05, 0.15959595959595962, -0.15000000000000002, 0.038095238095238106, -1.0, -0.05050505050505049, -0.10572916666666665, -0.019444444444444448, -0.3, 0.11269841269841269, -0.05833333333333333, -0.00362103174603174, 0.06818181818181818, 0.013160173160173164, -0.044747899159663866, 0.049999999999999996, -0.025, 0.016666666666666666, 0.07833333333333332, -0.07905844155844156, 0.3166666666666667], \"xaxis\": \"x\", \"yaxis\": \"y\"}],\n",
       "                        {\"barmode\": \"relative\", \"legend\": {\"tracegroupgap\": 0}, \"margin\": {\"t\": 60}, \"template\": {\"data\": {\"bar\": [{\"error_x\": {\"color\": \"#2a3f5f\"}, \"error_y\": {\"color\": \"#2a3f5f\"}, \"marker\": {\"line\": {\"color\": \"#E5ECF6\", \"width\": 0.5}}, \"type\": \"bar\"}], \"barpolar\": [{\"marker\": {\"line\": {\"color\": \"#E5ECF6\", \"width\": 0.5}}, \"type\": \"barpolar\"}], \"carpet\": [{\"aaxis\": {\"endlinecolor\": \"#2a3f5f\", \"gridcolor\": \"white\", \"linecolor\": \"white\", \"minorgridcolor\": \"white\", \"startlinecolor\": \"#2a3f5f\"}, \"baxis\": {\"endlinecolor\": \"#2a3f5f\", \"gridcolor\": \"white\", \"linecolor\": \"white\", \"minorgridcolor\": \"white\", \"startlinecolor\": \"#2a3f5f\"}, \"type\": \"carpet\"}], \"choropleth\": [{\"colorbar\": {\"outlinewidth\": 0, \"ticks\": \"\"}, \"type\": \"choropleth\"}], \"contour\": [{\"colorbar\": {\"outlinewidth\": 0, \"ticks\": \"\"}, \"colorscale\": [[0.0, \"#0d0887\"], [0.1111111111111111, \"#46039f\"], [0.2222222222222222, \"#7201a8\"], [0.3333333333333333, \"#9c179e\"], [0.4444444444444444, \"#bd3786\"], [0.5555555555555556, \"#d8576b\"], [0.6666666666666666, \"#ed7953\"], [0.7777777777777778, \"#fb9f3a\"], [0.8888888888888888, \"#fdca26\"], [1.0, \"#f0f921\"]], \"type\": \"contour\"}], \"contourcarpet\": [{\"colorbar\": {\"outlinewidth\": 0, \"ticks\": \"\"}, \"type\": \"contourcarpet\"}], \"heatmap\": [{\"colorbar\": {\"outlinewidth\": 0, \"ticks\": \"\"}, \"colorscale\": [[0.0, \"#0d0887\"], [0.1111111111111111, \"#46039f\"], [0.2222222222222222, \"#7201a8\"], [0.3333333333333333, \"#9c179e\"], [0.4444444444444444, \"#bd3786\"], [0.5555555555555556, \"#d8576b\"], [0.6666666666666666, \"#ed7953\"], [0.7777777777777778, \"#fb9f3a\"], [0.8888888888888888, \"#fdca26\"], [1.0, \"#f0f921\"]], \"type\": \"heatmap\"}], \"heatmapgl\": [{\"colorbar\": {\"outlinewidth\": 0, \"ticks\": \"\"}, \"colorscale\": [[0.0, \"#0d0887\"], [0.1111111111111111, \"#46039f\"], [0.2222222222222222, \"#7201a8\"], [0.3333333333333333, \"#9c179e\"], [0.4444444444444444, \"#bd3786\"], [0.5555555555555556, \"#d8576b\"], [0.6666666666666666, \"#ed7953\"], [0.7777777777777778, \"#fb9f3a\"], [0.8888888888888888, \"#fdca26\"], [1.0, \"#f0f921\"]], \"type\": \"heatmapgl\"}], \"histogram\": [{\"marker\": {\"colorbar\": {\"outlinewidth\": 0, \"ticks\": \"\"}}, \"type\": \"histogram\"}], \"histogram2d\": [{\"colorbar\": {\"outlinewidth\": 0, \"ticks\": \"\"}, \"colorscale\": [[0.0, \"#0d0887\"], [0.1111111111111111, \"#46039f\"], [0.2222222222222222, \"#7201a8\"], [0.3333333333333333, \"#9c179e\"], [0.4444444444444444, \"#bd3786\"], [0.5555555555555556, \"#d8576b\"], [0.6666666666666666, \"#ed7953\"], [0.7777777777777778, \"#fb9f3a\"], [0.8888888888888888, \"#fdca26\"], [1.0, \"#f0f921\"]], \"type\": \"histogram2d\"}], \"histogram2dcontour\": [{\"colorbar\": {\"outlinewidth\": 0, \"ticks\": \"\"}, \"colorscale\": [[0.0, \"#0d0887\"], [0.1111111111111111, \"#46039f\"], [0.2222222222222222, \"#7201a8\"], [0.3333333333333333, \"#9c179e\"], [0.4444444444444444, \"#bd3786\"], [0.5555555555555556, \"#d8576b\"], [0.6666666666666666, \"#ed7953\"], [0.7777777777777778, \"#fb9f3a\"], [0.8888888888888888, \"#fdca26\"], [1.0, \"#f0f921\"]], \"type\": \"histogram2dcontour\"}], \"mesh3d\": [{\"colorbar\": {\"outlinewidth\": 0, \"ticks\": \"\"}, \"type\": \"mesh3d\"}], \"parcoords\": [{\"line\": {\"colorbar\": {\"outlinewidth\": 0, \"ticks\": \"\"}}, \"type\": \"parcoords\"}], \"pie\": [{\"automargin\": true, \"type\": \"pie\"}], \"scatter\": [{\"marker\": {\"colorbar\": {\"outlinewidth\": 0, \"ticks\": \"\"}}, \"type\": \"scatter\"}], \"scatter3d\": [{\"line\": {\"colorbar\": {\"outlinewidth\": 0, \"ticks\": \"\"}}, \"marker\": {\"colorbar\": {\"outlinewidth\": 0, \"ticks\": \"\"}}, \"type\": \"scatter3d\"}], \"scattercarpet\": [{\"marker\": {\"colorbar\": {\"outlinewidth\": 0, \"ticks\": \"\"}}, \"type\": \"scattercarpet\"}], \"scattergeo\": [{\"marker\": {\"colorbar\": {\"outlinewidth\": 0, \"ticks\": \"\"}}, \"type\": \"scattergeo\"}], \"scattergl\": [{\"marker\": {\"colorbar\": {\"outlinewidth\": 0, \"ticks\": \"\"}}, \"type\": \"scattergl\"}], \"scattermapbox\": [{\"marker\": {\"colorbar\": {\"outlinewidth\": 0, \"ticks\": \"\"}}, \"type\": \"scattermapbox\"}], \"scatterpolar\": [{\"marker\": {\"colorbar\": {\"outlinewidth\": 0, \"ticks\": \"\"}}, \"type\": \"scatterpolar\"}], \"scatterpolargl\": [{\"marker\": {\"colorbar\": {\"outlinewidth\": 0, \"ticks\": \"\"}}, \"type\": \"scatterpolargl\"}], \"scatterternary\": [{\"marker\": {\"colorbar\": {\"outlinewidth\": 0, \"ticks\": \"\"}}, \"type\": \"scatterternary\"}], \"surface\": [{\"colorbar\": {\"outlinewidth\": 0, \"ticks\": \"\"}, \"colorscale\": [[0.0, \"#0d0887\"], [0.1111111111111111, \"#46039f\"], [0.2222222222222222, \"#7201a8\"], [0.3333333333333333, \"#9c179e\"], [0.4444444444444444, \"#bd3786\"], [0.5555555555555556, \"#d8576b\"], [0.6666666666666666, \"#ed7953\"], [0.7777777777777778, \"#fb9f3a\"], [0.8888888888888888, \"#fdca26\"], [1.0, \"#f0f921\"]], \"type\": \"surface\"}], \"table\": [{\"cells\": {\"fill\": {\"color\": \"#EBF0F8\"}, \"line\": {\"color\": \"white\"}}, \"header\": {\"fill\": {\"color\": \"#C8D4E3\"}, \"line\": {\"color\": \"white\"}}, \"type\": \"table\"}]}, \"layout\": {\"annotationdefaults\": {\"arrowcolor\": \"#2a3f5f\", \"arrowhead\": 0, \"arrowwidth\": 1}, \"coloraxis\": {\"colorbar\": {\"outlinewidth\": 0, \"ticks\": \"\"}}, \"colorscale\": {\"diverging\": [[0, \"#8e0152\"], [0.1, \"#c51b7d\"], [0.2, \"#de77ae\"], [0.3, \"#f1b6da\"], [0.4, \"#fde0ef\"], [0.5, \"#f7f7f7\"], [0.6, \"#e6f5d0\"], [0.7, \"#b8e186\"], [0.8, \"#7fbc41\"], [0.9, \"#4d9221\"], [1, \"#276419\"]], \"sequential\": [[0.0, \"#0d0887\"], [0.1111111111111111, \"#46039f\"], [0.2222222222222222, \"#7201a8\"], [0.3333333333333333, \"#9c179e\"], [0.4444444444444444, \"#bd3786\"], [0.5555555555555556, \"#d8576b\"], [0.6666666666666666, \"#ed7953\"], [0.7777777777777778, \"#fb9f3a\"], [0.8888888888888888, \"#fdca26\"], [1.0, \"#f0f921\"]], \"sequentialminus\": [[0.0, \"#0d0887\"], [0.1111111111111111, \"#46039f\"], [0.2222222222222222, \"#7201a8\"], [0.3333333333333333, \"#9c179e\"], [0.4444444444444444, \"#bd3786\"], [0.5555555555555556, \"#d8576b\"], [0.6666666666666666, \"#ed7953\"], [0.7777777777777778, \"#fb9f3a\"], [0.8888888888888888, \"#fdca26\"], [1.0, \"#f0f921\"]]}, \"colorway\": [\"#636efa\", \"#EF553B\", \"#00cc96\", \"#ab63fa\", \"#FFA15A\", \"#19d3f3\", \"#FF6692\", \"#B6E880\", \"#FF97FF\", \"#FECB52\"], \"font\": {\"color\": \"#2a3f5f\"}, \"geo\": {\"bgcolor\": \"white\", \"lakecolor\": \"white\", \"landcolor\": \"#E5ECF6\", \"showlakes\": true, \"showland\": true, \"subunitcolor\": \"white\"}, \"hoverlabel\": {\"align\": \"left\"}, \"hovermode\": \"closest\", \"mapbox\": {\"style\": \"light\"}, \"paper_bgcolor\": \"white\", \"plot_bgcolor\": \"#E5ECF6\", \"polar\": {\"angularaxis\": {\"gridcolor\": \"white\", \"linecolor\": \"white\", \"ticks\": \"\"}, \"bgcolor\": \"#E5ECF6\", \"radialaxis\": {\"gridcolor\": \"white\", \"linecolor\": \"white\", \"ticks\": \"\"}}, \"scene\": {\"xaxis\": {\"backgroundcolor\": \"#E5ECF6\", \"gridcolor\": \"white\", \"gridwidth\": 2, \"linecolor\": \"white\", \"showbackground\": true, \"ticks\": \"\", \"zerolinecolor\": \"white\"}, \"yaxis\": {\"backgroundcolor\": \"#E5ECF6\", \"gridcolor\": \"white\", \"gridwidth\": 2, \"linecolor\": \"white\", \"showbackground\": true, \"ticks\": \"\", \"zerolinecolor\": \"white\"}, \"zaxis\": {\"backgroundcolor\": \"#E5ECF6\", \"gridcolor\": \"white\", \"gridwidth\": 2, \"linecolor\": \"white\", \"showbackground\": true, \"ticks\": \"\", \"zerolinecolor\": \"white\"}}, \"shapedefaults\": {\"line\": {\"color\": \"#2a3f5f\"}}, \"ternary\": {\"aaxis\": {\"gridcolor\": \"white\", \"linecolor\": \"white\", \"ticks\": \"\"}, \"baxis\": {\"gridcolor\": \"white\", \"linecolor\": \"white\", \"ticks\": \"\"}, \"bgcolor\": \"#E5ECF6\", \"caxis\": {\"gridcolor\": \"white\", \"linecolor\": \"white\", \"ticks\": \"\"}}, \"title\": {\"x\": 0.05}, \"xaxis\": {\"automargin\": true, \"gridcolor\": \"white\", \"linecolor\": \"white\", \"ticks\": \"\", \"title\": {\"standoff\": 15}, \"zerolinecolor\": \"white\", \"zerolinewidth\": 2}, \"yaxis\": {\"automargin\": true, \"gridcolor\": \"white\", \"linecolor\": \"white\", \"ticks\": \"\", \"title\": {\"standoff\": 15}, \"zerolinecolor\": \"white\", \"zerolinewidth\": 2}}}, \"xaxis\": {\"anchor\": \"y\", \"domain\": [0.0, 1.0], \"title\": {\"text\": \"sentiment\"}}, \"yaxis\": {\"anchor\": \"x\", \"domain\": [0.0, 1.0], \"title\": {\"text\": \"count\"}}},\n",
       "                        {\"responsive\": true}\n",
       "                    ).then(function(){\n",
       "                            \n",
       "var gd = document.getElementById('11bd0491-976b-4b40-af1f-588940e8250d');\n",
       "var x = new MutationObserver(function (mutations, observer) {{\n",
       "        var display = window.getComputedStyle(gd).display;\n",
       "        if (!display || display === 'none') {{\n",
       "            console.log([gd, 'removed!']);\n",
       "            Plotly.purge(gd);\n",
       "            observer.disconnect();\n",
       "        }}\n",
       "}});\n",
       "\n",
       "// Listen for the removal of the full notebook cells\n",
       "var notebookContainer = gd.closest('#notebook-container');\n",
       "if (notebookContainer) {{\n",
       "    x.observe(notebookContainer, {childList: true});\n",
       "}}\n",
       "\n",
       "// Listen for the clearing of the current output cell\n",
       "var outputEl = gd.closest('.output');\n",
       "if (outputEl) {{\n",
       "    x.observe(outputEl, {childList: true});\n",
       "}}\n",
       "\n",
       "                        })\n",
       "                };\n",
       "                });\n",
       "            </script>\n",
       "        </div>"
      ]
     },
     "metadata": {},
     "output_type": "display_data"
    }
   ],
   "source": [
    "import plotly.express as px\n",
    "\n",
    "fig = px.histogram(sentiments, x='sentiment')\n",
    "fig.show()"
   ]
  }
 ],
 "metadata": {
  "celltoolbar": "Slideshow",
  "colab": {
   "collapsed_sections": [
    "Omm4n3FmPHlF"
   ],
   "include_colab_link": true,
   "name": "lecture_5.ipynb",
   "provenance": []
  },
  "kernelspec": {
   "display_name": "Python 3",
   "language": "python",
   "name": "python3"
  },
  "language_info": {
   "codemirror_mode": {
    "name": "ipython",
    "version": 3
   },
   "file_extension": ".py",
   "mimetype": "text/x-python",
   "name": "python",
   "nbconvert_exporter": "python",
   "pygments_lexer": "ipython3",
   "version": "3.8.0"
  },
  "rise": {
   "scroll": true
  }
 },
 "nbformat": 4,
 "nbformat_minor": 4
}
