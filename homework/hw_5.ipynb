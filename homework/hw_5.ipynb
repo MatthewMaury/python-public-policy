{
 "cells": [
  {
   "cell_type": "markdown",
   "metadata": {
    "colab_type": "text",
    "id": "view-in-github"
   },
   "source": [
    "<a href=\"https://colab.research.google.com/github/afeld/python-public-policy/blob/master/homework/hw_5.ipynb\" target=\"_parent\"><img src=\"https://colab.research.google.com/assets/colab-badge.svg\" alt=\"Open In Colab\"/></a>"
   ]
  },
  {
   "cell_type": "markdown",
   "metadata": {
    "colab_type": "text",
    "id": "F5DsWafyMCfG"
   },
   "source": [
    "# HOMEWORK 5\n",
    "\n",
    "Make sure to fill in all the `YOUR RESPONSE HERE`s.\n",
    "\n",
    "## Coding: Sentiment analysis\n",
    "\n",
    "Using the cleaned public comments dataset (https://nyu.box.com/shared/static/1zdvfmpy5452nqdlb5b1yho6m3bdihk9.csv), answer the questions below."
   ]
  },
  {
   "cell_type": "code",
   "execution_count": null,
   "metadata": {},
   "outputs": [],
   "source": [
    "# your code here"
   ]
  },
  {
   "cell_type": "markdown",
   "metadata": {},
   "source": [
    "## How many comments have a positive (grater than zero) sentiment?\n",
    "\n",
    "YOUR RESPONSE HERE"
   ]
  },
  {
   "cell_type": "markdown",
   "metadata": {},
   "source": [
    "## What does the distribution of sentiments look like?\n",
    "\n",
    "(Create a [histogram](https://plotly.com/python/histograms/).)"
   ]
  },
  {
   "cell_type": "code",
   "execution_count": 1,
   "metadata": {},
   "outputs": [],
   "source": [
    "# your code here"
   ]
  },
  {
   "cell_type": "markdown",
   "metadata": {
    "colab_type": "text",
    "id": "DRpVqnixIeFu"
   },
   "source": [
    "# Exploration\n",
    "\n",
    "Homework 6, the final project, is open-ended: The goal is to prove or disprove a hypothesis using the skills learned in this class. In the real world, one would start with a specific question and find data to answer it, but the data needed often doesn't exist or is hard (or impossible) to find/access. The recommended, safer approach, for the purposes of this assignment:\n",
    "\n",
    "1. Find a dataset that seems interesting.\n",
    "  - [NYC OpenData](https://opendata.cityofnewyork.us/), [data.gov](https://www.data.gov/), and [Kaggle](https://www.kaggle.com/datasets) have many many options.\n",
    "  - Finding a dataset available in CSV or Excel formats ([Pandas can also read the latter](https://pandas.pydata.org/pandas-docs/stable/reference/api/pandas.read_excel.html)) is recommended.\n",
    "1. Look at the columns and some data in the dataset.\n",
    "1. Come up with a question that the data is capable of answering and _isn't trivial to answer_.\n",
    "  - If you aren't sure, ask.\n",
    "1. Come up with a hypothesis (a.k.a. a guess of the answer to the question).\n",
    "1. Answer the questions below, as the \"pitch\" for Homework 6. Example:\n",
    "  - **Dataset:** [Recycling Diversion and Capture Rates](https://data.cityofnewyork.us/Environment/Recycling-Diversion-and-Capture-Rates/gaq9-z3hz)\n",
    "  - **Question:** What community district increased their diversion (recycling) rate the most?\n",
    "  - **Hypothesis:** [Bushwick](https://communityprofiles.planning.nyc.gov/brooklyn/4), because hipsters love to recycle.\n",
    "1. Create a new notebook to do the actual analysis; you will turn that in separately."
   ]
  },
  {
   "cell_type": "markdown",
   "metadata": {},
   "source": [
    "## Expectations\n",
    "\n",
    "Your question/hypothesis doesn't need to be something novel; confirming something you read in the news is fine. Your analysis should:\n",
    "\n",
    "- Read like a narrative/diary/logbook, walking the reader through all analysis. Include any dead ends you hit.\n",
    "- Use pandas\n",
    "- Require more than a few lines of code to come to a conclusion\n",
    "- Transform data through filtering (a.k.a. [boolean indexing](https://pandas.pydata.org/pandas-docs/stable/user_guide/indexing.html#boolean-indexing)), [grouping](https://pandas.pydata.org/pandas-docs/stable/user_guide/groupby.html), and/or [merging](https://pandas.pydata.org/pandas-docs/stable/user_guide/merging.html#database-style-dataframe-or-named-series-joining-merging) of DataFrames\n",
    "- Have a visualization (chart or map) of some kind\n",
    "- Be something that would be hard to do in a spreadsheet"
   ]
  },
  {
   "cell_type": "markdown",
   "metadata": {
    "colab_type": "text",
    "id": "DRpVqnixIeFu"
   },
   "source": [
    "## What dataset are you going to use?\n",
    "\n",
    "_If multiple, how are you going to merge/join them?_\n",
    "\n",
    "YOUR RESPONSE HERE"
   ]
  },
  {
   "cell_type": "markdown",
   "metadata": {
    "colab_type": "text",
    "id": "DRpVqnixIeFu"
   },
   "source": [
    "## What's the question you are trying to answer?\n",
    "\n",
    "YOUR RESPONSE HERE"
   ]
  },
  {
   "cell_type": "markdown",
   "metadata": {
    "colab_type": "text",
    "id": "DRpVqnixIeFu"
   },
   "source": [
    "## What's your hypothesis?\n",
    "\n",
    "YOUR RESPONSE HERE"
   ]
  }
 ],
 "metadata": {
  "celltoolbar": "Slideshow",
  "colab": {
   "collapsed_sections": [],
   "name": "hw_5.ipynb",
   "provenance": []
  },
  "kernelspec": {
   "display_name": "Python 3.8.0 64-bit",
   "language": "python",
   "name": "python38064bit1e71a2689ac643c3b5ce14d4c450cbea"
  },
  "language_info": {
   "codemirror_mode": {
    "name": "ipython",
    "version": 3
   },
   "file_extension": ".py",
   "mimetype": "text/x-python",
   "name": "python",
   "nbconvert_exporter": "python",
   "pygments_lexer": "ipython3",
   "version": "3.8.0"
  },
  "rise": {
   "scroll": true
  }
 },
 "nbformat": 4,
 "nbformat_minor": 1
}
