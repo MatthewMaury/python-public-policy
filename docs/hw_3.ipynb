{
 "cells": [
  {
   "cell_type": "markdown",
   "metadata": {},
   "source": [
    "<a href=\"https://colab.research.google.com/github/afeld/python-public-policy/blob/master/hw_3.ipynb\" target=\"_parent\"><img src=\"https://colab.research.google.com/assets/colab-badge.svg\" alt=\"Open In Colab\"/></a>\n",
    "\n",
    "# Homework 3: Data visualization\n",
    "\n",
    "Name: YOUR RESPONSE HERE\n",
    "\n",
    "1. Complete the **Coding** exercise below.\n",
    "1. **Tutorial:** Go the first third of [Time Series Analysis with Pandas](https://www.dataquest.io/blog/tutorial-time-series-analysis-with-pandas/), up until the \"Visualizing time series data\" section.\n",
    "\n",
    "## In-class exercise 1\n",
    "\n",
    "First, upgrade Plotly to avoid issues later."
   ]
  },
  {
   "cell_type": "code",
   "execution_count": null,
   "metadata": {},
   "outputs": [],
   "source": [
    "%pip install --upgrade --quiet plotly"
   ]
  },
  {
   "cell_type": "markdown",
   "metadata": {},
   "source": [
    "### Step 1\n",
    "\n",
    "Load the request per capita dataset from https://nyu.box.com/shared/static/m8zlqkoore2qq1n84a8as3r3o5hxwwth.csv as `requests_by_cd` and display it."
   ]
  },
  {
   "cell_type": "code",
   "execution_count": null,
   "metadata": {},
   "outputs": [],
   "source": [
    "# your code here"
   ]
  },
  {
   "cell_type": "markdown",
   "metadata": {},
   "source": [
    "### Step 2\n",
    "\n",
    "Make a [histogram](https://plotly.com/python/histograms/) of the requests per capita."
   ]
  },
  {
   "cell_type": "code",
   "execution_count": null,
   "metadata": {},
   "outputs": [],
   "source": [
    "# your code here"
   ]
  },
  {
   "cell_type": "markdown",
   "metadata": {},
   "source": [
    "## In-class exercise 2\n",
    "\n",
    "Take [the scatterplot example from the lecture](https://colab.research.google.com/github/afeld/python-public-policy/blob/master/lecture_3.ipynb#scrollTo=L1smfBSEc5x9) and [add a trendline](https://plotly.com/python/linear-fits/)."
   ]
  },
  {
   "cell_type": "code",
   "execution_count": null,
   "metadata": {},
   "outputs": [],
   "source": [
    "# your code here"
   ]
  },
  {
   "cell_type": "markdown",
   "metadata": {},
   "source": [
    "## Coding\n",
    "\n",
    "We are going to look at the population count of different community districts over time. First, let's make sure Plotly is up-to-date to avoid issues later."
   ]
  },
  {
   "cell_type": "code",
   "execution_count": null,
   "metadata": {},
   "outputs": [],
   "source": [
    "%pip install --upgrade --quiet plotly\n",
    "import plotly.express as px"
   ]
  },
  {
   "cell_type": "markdown",
   "metadata": {},
   "source": [
    "### Step 1\n",
    "\n",
    "Read the data from the [New York City Population By Community Districts](https://data.cityofnewyork.us/City-Government/New-York-City-Population-By-Community-Districts/xi7c-iiu2/data) data set into a DataFrame called `pop_by_cd`, then display it. To get the URL:\n",
    "\n",
    "1. Visit the page linked above.\n",
    "1. Click `Export`.\n",
    "1. Right-click `CSV`.\n",
    "1. Click `Copy Link Address` (or `Location`, depending on your browser)."
   ]
  },
  {
   "cell_type": "code",
   "execution_count": null,
   "metadata": {},
   "outputs": [],
   "source": [
    "# your code here"
   ]
  },
  {
   "cell_type": "markdown",
   "metadata": {},
   "source": [
    "### Step 2\n",
    "\n",
    "Prepare the data. Use the following code to [reshape](https://pandas.pydata.org/pandas-docs/stable/user_guide/reshaping.html) the DataFrame to have one row per community district per Census year."
   ]
  },
  {
   "cell_type": "code",
   "execution_count": null,
   "metadata": {},
   "outputs": [],
   "source": [
    "# turn the population columns into rows\n",
    "populations = pd.melt(pop_by_cd, id_vars=['Borough', 'CD Number', 'CD Name'], var_name='year', value_name='population')\n",
    "\n",
    "# turn the years into numbers\n",
    "populations.year = populations.year.str.replace(' Population', '').astype(int)\n",
    "\n",
    "populations"
   ]
  },
  {
   "cell_type": "markdown",
   "metadata": {},
   "source": [
    "### Step 3\n",
    "\n",
    "Create a new `manhattan` DataFrame that has only the populations for that borough."
   ]
  },
  {
   "cell_type": "code",
   "execution_count": null,
   "metadata": {},
   "outputs": [],
   "source": [
    "# your code here"
   ]
  },
  {
   "cell_type": "markdown",
   "metadata": {},
   "source": [
    "### Step 4\n",
    "\n",
    "Create a line chart of the population over time for each community district in Manhattan. There should be one line for each.\n",
    "\n",
    "See the Plotly [Line Plot with column encoding color](https://plotly.com/python/line-charts/#line-plot-with-column-encoding-color) examples."
   ]
  },
  {
   "cell_type": "code",
   "execution_count": null,
   "metadata": {},
   "outputs": [],
   "source": [
    "# your code here"
   ]
  },
  {
   "cell_type": "markdown",
   "metadata": {},
   "source": [
    "### Step 5\n",
    "\n",
    "We are going to do some mapping using the `pop_by_cd` DataFrame from before. To do so, we need `borocd`s. Create that column with the values filled in. (See [Lecture 2](https://colab.research.google.com/github/afeld/python-public-policy/blob/master/lecture_2.ipynb#scrollTo=Pq24B8pRC_FM).)"
   ]
  },
  {
   "cell_type": "code",
   "execution_count": null,
   "metadata": {},
   "outputs": [],
   "source": [
    "# your code here"
   ]
  },
  {
   "cell_type": "markdown",
   "metadata": {},
   "source": [
    "### Step 6\n",
    "\n",
    "Create a `change` column on the `pop_by_cd` DataFrame with the difference between the 2000 and 2010 population counts, then display the DataFrame."
   ]
  },
  {
   "cell_type": "code",
   "execution_count": null,
   "metadata": {},
   "outputs": [],
   "source": [
    "# your code here"
   ]
  },
  {
   "cell_type": "markdown",
   "metadata": {},
   "source": [
    "### Step 7\n",
    "\n",
    "Let make a [choropleth map](https://www.data-to-viz.com/graph/choropleth.html) showing the population change for each community district that we just calculated. Adapt [the `.choropleth_mapbox()` example in Lecture 3](https://colab.research.google.com/github/afeld/python-public-policy/blob/master/lecture_3.ipynb#scrollTo=5lLS8zmn6oHP).\n",
    "\n",
    "If you get an error about `choropleth_mapbox() got an unexpected keyword argument 'featureidkey'`, go back and do the `Setup` above."
   ]
  },
  {
   "cell_type": "code",
   "execution_count": null,
   "metadata": {},
   "outputs": [],
   "source": [
    "# your code here"
   ]
  },
  {
   "cell_type": "markdown",
   "metadata": {},
   "source": [
    "### Step 8\n",
    "\n",
    "***Analysis: Washington Heights and Inwood (the tall skinny community district at the top of Manhattan) are \"up and coming\" neighborhoods. Why might you guess the population decreased?***\n",
    "\n",
    "YOUR ANSWER HERE\n",
    "\n",
    "Then, read the first three paragraphs of the `Demographics` section of [An Economic Snapshot of Washington Heights and Inwood from June 2015](https://www.osc.state.ny.us/osdc/rpt2-2016.pdf#page=2)."
   ]
  }
 ],
 "metadata": {
  "kernelspec": {
   "display_name": "Python 3",
   "language": "python",
   "name": "python3"
  },
  "language_info": {
   "codemirror_mode": {
    "name": "ipython",
    "version": 3
   },
   "file_extension": ".py",
   "mimetype": "text/x-python",
   "name": "python",
   "nbconvert_exporter": "python",
   "pygments_lexer": "ipython3",
   "version": "3.8.0"
  }
 },
 "nbformat": 4,
 "nbformat_minor": 4
}
