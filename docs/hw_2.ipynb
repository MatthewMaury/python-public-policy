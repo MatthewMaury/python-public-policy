{
 "cells": [
  {
   "cell_type": "markdown",
   "metadata": {},
   "source": [
    "<a href=\"https://colab.research.google.com/github/afeld/python-public-policy/blob/master/hw_2.ipynb\" target=\"_parent\"><img src=\"https://colab.research.google.com/assets/colab-badge.svg\" alt=\"Open In Colab\"/></a>\n",
    "\n",
    "# HOMEWORK 2\n",
    "\n",
    "Name: YOUR RESPONSE HERE"
   ]
  },
  {
   "cell_type": "markdown",
   "metadata": {},
   "source": [
    "## Coding: Using keywords to categorize 311 requests\n",
    "\n",
    "**Problem Statement:** When you read through the `descriptor` column in the 311 data, you will see that complaints related to graffiti are actually scattered throughout multiple `complaint_type` categories. We want to identify all complaints related to graffiti and see which community districts have the most instances of graffiti.\n",
    "\n",
    "To help make this assignment easier, there's a smaller subset of the 311 data for you to use. It's named  `cleaned_311_data_hw2.csv` and is available at https://nyu.box.com/shared/static/i24kf9gkmc4ey506hw3oxxyaxz67k0mv.zip. This smaller dataset only contains ~65,000 records from relevant complaint type categories, and has columns renamed to be lowercase and underscored.\n",
    "\n",
    "First, load the data:"
   ]
  },
  {
   "cell_type": "code",
   "execution_count": 1,
   "metadata": {},
   "outputs": [],
   "source": [
    "# your code here"
   ]
  },
  {
   "cell_type": "markdown",
   "metadata": {},
   "source": [
    "Preview the dataframe:"
   ]
  },
  {
   "cell_type": "code",
   "execution_count": 2,
   "metadata": {},
   "outputs": [],
   "source": [
    "# your code here"
   ]
  },
  {
   "cell_type": "markdown",
   "metadata": {},
   "source": [
    "### Step 1\n",
    "\n",
    "Create a function that checks each row in the 311 dataframe to see if the word \"graffiti\" is present in either the `complaint_type` value or `descriptor` value. Both columns may contain the word, so you should check both. If the word \"graffiti\" is found, the function should return the boolean value True. If \"graffiti\" is not found, the function should return the boolean value False.\n",
    "\n",
    "#### Hints\n",
    "\n",
    "- The same way that we checked if the string \"BRONX\" existed in the `community_board` value in the `cb_counts` table during the lecture, you can check if \"graffiti\" exists in the `descriptor` or `complaint_type` values.\n",
    "- The `descriptor` column contains some null/NaN values. You'll have trouble running a function on these. Before your function checks if \"graffiti\" is present in `descriptor`, the function should make sure that a `descriptor` value exists using `pd.notnull(row.descriptor)`\n",
    "- Capitalization may be inconsistent. It could help to use `.lower()` to convert strings to lowercase."
   ]
  },
  {
   "cell_type": "code",
   "execution_count": 3,
   "metadata": {},
   "outputs": [],
   "source": [
    "# your code here"
   ]
  },
  {
   "cell_type": "markdown",
   "metadata": {},
   "source": [
    "### Step 2\n",
    "\n",
    "Apply the function created in Step 1 to the 311 dataframe and create a new column called `graffiti_flag` that captures the output from the function.\n",
    "\n",
    "Tip: There are two checks you can use to confirm that the function worked as expected.\n",
    "\n",
    "- Group by `graffiti_flag` to make sure there are records tagged as `True`.\n",
    "- Using only the records where `graffiti_flag` is `True` (`sample[sample.graffiti_flag]`), group by `complaint_type` to make sure that more than one `complaint_type` is included."
   ]
  },
  {
   "cell_type": "code",
   "execution_count": 4,
   "metadata": {},
   "outputs": [],
   "source": [
    "# your code here"
   ]
  },
  {
   "cell_type": "markdown",
   "metadata": {},
   "source": [
    "### Step 3\n",
    "\n",
    "Create another dataframe `df_graffiti` that only contains records where `graffiti_flag` is `True`. `df_graffiti = df[df.graffiti_flag]`"
   ]
  },
  {
   "cell_type": "code",
   "execution_count": 5,
   "metadata": {},
   "outputs": [],
   "source": [
    "# your code here"
   ]
  },
  {
   "cell_type": "markdown",
   "metadata": {},
   "source": [
    "### Step 4\n",
    "\n",
    "Group your dataframe `df_graffiti` to get the count of requests per `community_board`. Use `.nlargest()` to identify which Community District has the highest count."
   ]
  },
  {
   "cell_type": "code",
   "execution_count": 6,
   "metadata": {},
   "outputs": [],
   "source": [
    "# your code here"
   ]
  },
  {
   "cell_type": "markdown",
   "metadata": {},
   "source": [
    "***Did you work with any other students on this assignment?***\n",
    "\n",
    "YOUR RESPONSE HERE"
   ]
  },
  {
   "cell_type": "markdown",
   "metadata": {},
   "source": [
    "Now [turn in the assignment](https://github.com/afeld/python-public-policy#turning-in-assignments).\n",
    "\n",
    "## Tutorials\n",
    "\n",
    "- [\"You’re Not Mapping Rats, You're Mapping Gentrification\"](https://theconcourse.deadspin.com/you-re-not-mapping-rats-you-re-mapping-gentrification-1835005060)—article about bias in 311 data\n",
    "- [Intro to Plotly Express](https://plotly.com/python/plotly-express/). You don't have to work through every one of these examples; just review to get familiar with what types of charts are possible."
   ]
  }
 ],
 "metadata": {
  "file_extension": ".py",
  "kernelspec": {
   "display_name": "Python 3.8.0 64-bit",
   "language": "python",
   "name": "python38064bite2b734199e274226979ef410f6f20e23"
  },
  "language_info": {
   "codemirror_mode": {
    "name": "ipython",
    "version": 3
   },
   "file_extension": ".py",
   "mimetype": "text/x-python",
   "name": "python",
   "nbconvert_exporter": "python",
   "pygments_lexer": "ipython3",
   "version": "3.8.0"
  },
  "mimetype": "text/x-python",
  "name": "python",
  "npconvert_exporter": "python",
  "pygments_lexer": "ipython3",
  "version": 3
 },
 "nbformat": 4,
 "nbformat_minor": 4
}
